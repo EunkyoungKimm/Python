{
 "cells": [
  {
   "cell_type": "markdown",
   "id": "df33c460-335f-4264-a332-206a8313630b",
   "metadata": {
    "slideshow": {
     "slide_type": "slide"
    }
   },
   "source": [
    "# LaTex\n",
    "\n",
    "* Mathjax를 포함하고 있다. LaTeX를 그대로 사용\n",
    "* 수학기호들 사용하고 싶은거 있으면 이거 사용하면 됨\n",
    "* [위키백과:TeX 문법](https://ko.wikipedia.org/wiki/%EC%9C%84%ED%82%A4%EB%B0%B1%EA%B3%BC:TeX_%EB%AC%B8%EB%B2%95)\n",
    "* 온라인 라텍스 편집기:  https://www.codecogs.com/latex/eqneditor.php\n",
    "* 위 사이트는 LaTex 연습할 수 있는 사이트\n",
    "\n",
    "\n",
    "```\n",
    "$$c = \\sqrt{a^2 + b^2}$$\n",
    "```\n",
    "\n",
    "$$c = \\sqrt{a^2 + b^2}$$\n",
    "\n",
    "```\n",
    "$$N(\\mu ,\\sigma )$$\n",
    "```\n",
    "\n",
    "$$N(\\mu ,\\sigma )$$"
   ]
  },
  {
   "cell_type": "markdown",
   "id": "94e147a1-cda1-45a2-a11a-296695a7b8e4",
   "metadata": {},
   "source": [
    "$$\\prod_{1}^{1}\n",
    "$$\n",
    "\n",
    "-달러로 여러 줄 가능"
   ]
  },
  {
   "cell_type": "markdown",
   "id": "a9355e31-21bd-4050-b74c-601ab8954518",
   "metadata": {},
   "source": [
    "라텍스를 줄 사이에 쓸때는 $\\prod_{1}^{1}$ 이렇게 달러$기호 하나만 씀"
   ]
  },
  {
   "cell_type": "markdown",
   "id": "d06449d9-eea7-499f-967b-c5cb834660f5",
   "metadata": {},
   "source": [
    "매트릭스\n",
    "\n",
    "$$\n",
    "\\begin{bmatrix}\n",
    "1 & 2 & 3 \\\\\n",
    "4 & 5 & 6 \\\\\n",
    "7 & 8 & 9 \\\\\n",
    "\\end{bmatrix}\n",
    "$$"
   ]
  },
  {
   "cell_type": "markdown",
   "id": "b07f077f-8a44-4700-8ab2-d7a1f102dee4",
   "metadata": {},
   "source": [
    "$$\n",
    "\\begin{bmatrix}\n",
    "1 & 2 & 3 \\\\\n",
    "\n",
    "4 & 5 & 6 \\\\\n",
    "7 & 8 & 9 \\\\\n",
    "\\end{bmatrix}\n",
    "$$\n",
    "\n",
    "-LaTex 사용할 때는 줄바꿈 조심해야 함! (\\\\ 라택스 줄바꿈기호를 적어줘야 잘됨)\n",
    "\n",
    "$$\n",
    "\\begin{bmatrix}\n",
    "1 & 2 & 3 \\\\\n",
    "\\\\\n",
    "4 & 5 & 6 \\\\\n",
    "7 & 8 & 9 \\\\\n",
    "\\end{bmatrix}\n",
    "$$"
   ]
  }
 ],
 "metadata": {
  "kernelspec": {
   "display_name": "Python 3 (ipykernel)",
   "language": "python",
   "name": "python3"
  },
  "language_info": {
   "codemirror_mode": {
    "name": "ipython",
    "version": 3
   },
   "file_extension": ".py",
   "mimetype": "text/x-python",
   "name": "python",
   "nbconvert_exporter": "python",
   "pygments_lexer": "ipython3",
   "version": "3.9.13"
  }
 },
 "nbformat": 4,
 "nbformat_minor": 5
}
