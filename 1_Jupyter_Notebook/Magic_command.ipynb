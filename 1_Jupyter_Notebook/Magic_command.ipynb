{
 "cells": [
  {
   "cell_type": "markdown",
   "id": "ec4fb249-fcf5-4781-891e-52e06fed1ade",
   "metadata": {},
   "source": [
    "# Magic Command (매직 커맨드)\n",
    "- 주피터 노트북에서 os의 명령을 셀에서 쓸 수 있게 해줌\n",
    "- 윈도우 명령어를 리눅스 명령어로 제공. 더 알아보기!\n",
    "- 매직커맨드 앞에는 `%`, `%%` 등이 붙음\n",
    "- 주피터에서 다 가능하다..외부로 나가서 터미널 사용할 필요없이!\n",
    "- https://wikidocs.net/75005 참고\n",
    "- https://binaryworld.tistory.com/20 참고"
   ]
  },
  {
   "cell_type": "code",
   "execution_count": 1,
   "id": "95340165-fbe2-4874-8ba9-7220c9346599",
   "metadata": {
    "tags": []
   },
   "outputs": [
    {
     "data": {
      "application/json": {
       "cell": {
        "!": "OSMagics",
        "HTML": "Other",
        "SVG": "Other",
        "bash": "Other",
        "capture": "ExecutionMagics",
        "cmd": "Other",
        "debug": "ExecutionMagics",
        "file": "Other",
        "html": "DisplayMagics",
        "javascript": "DisplayMagics",
        "js": "DisplayMagics",
        "latex": "DisplayMagics",
        "markdown": "DisplayMagics",
        "perl": "Other",
        "prun": "ExecutionMagics",
        "pypy": "Other",
        "python": "Other",
        "python2": "Other",
        "python3": "Other",
        "ruby": "Other",
        "script": "ScriptMagics",
        "sh": "Other",
        "svg": "DisplayMagics",
        "sx": "OSMagics",
        "system": "OSMagics",
        "time": "ExecutionMagics",
        "timeit": "ExecutionMagics",
        "writefile": "OSMagics"
       },
       "line": {
        "alias": "OSMagics",
        "alias_magic": "BasicMagics",
        "autoawait": "AsyncMagics",
        "autocall": "AutoMagics",
        "automagic": "AutoMagics",
        "autosave": "KernelMagics",
        "bookmark": "OSMagics",
        "cd": "OSMagics",
        "clear": "KernelMagics",
        "cls": "KernelMagics",
        "colors": "BasicMagics",
        "conda": "PackagingMagics",
        "config": "ConfigMagics",
        "connect_info": "KernelMagics",
        "copy": "Other",
        "ddir": "Other",
        "debug": "ExecutionMagics",
        "dhist": "OSMagics",
        "dirs": "OSMagics",
        "doctest_mode": "BasicMagics",
        "echo": "Other",
        "ed": "Other",
        "edit": "KernelMagics",
        "env": "OSMagics",
        "gui": "BasicMagics",
        "hist": "Other",
        "history": "HistoryMagics",
        "killbgscripts": "ScriptMagics",
        "ldir": "Other",
        "less": "KernelMagics",
        "load": "CodeMagics",
        "load_ext": "ExtensionMagics",
        "loadpy": "CodeMagics",
        "logoff": "LoggingMagics",
        "logon": "LoggingMagics",
        "logstart": "LoggingMagics",
        "logstate": "LoggingMagics",
        "logstop": "LoggingMagics",
        "ls": "Other",
        "lsmagic": "BasicMagics",
        "macro": "ExecutionMagics",
        "magic": "BasicMagics",
        "matplotlib": "PylabMagics",
        "mkdir": "Other",
        "more": "KernelMagics",
        "notebook": "BasicMagics",
        "page": "BasicMagics",
        "pastebin": "CodeMagics",
        "pdb": "ExecutionMagics",
        "pdef": "NamespaceMagics",
        "pdoc": "NamespaceMagics",
        "pfile": "NamespaceMagics",
        "pinfo": "NamespaceMagics",
        "pinfo2": "NamespaceMagics",
        "pip": "PackagingMagics",
        "popd": "OSMagics",
        "pprint": "BasicMagics",
        "precision": "BasicMagics",
        "prun": "ExecutionMagics",
        "psearch": "NamespaceMagics",
        "psource": "NamespaceMagics",
        "pushd": "OSMagics",
        "pwd": "OSMagics",
        "pycat": "OSMagics",
        "pylab": "PylabMagics",
        "qtconsole": "KernelMagics",
        "quickref": "BasicMagics",
        "recall": "HistoryMagics",
        "rehashx": "OSMagics",
        "reload_ext": "ExtensionMagics",
        "ren": "Other",
        "rep": "Other",
        "rerun": "HistoryMagics",
        "reset": "NamespaceMagics",
        "reset_selective": "NamespaceMagics",
        "rmdir": "Other",
        "run": "ExecutionMagics",
        "save": "CodeMagics",
        "sc": "OSMagics",
        "set_env": "OSMagics",
        "store": "StoreMagics",
        "sx": "OSMagics",
        "system": "OSMagics",
        "tb": "ExecutionMagics",
        "time": "ExecutionMagics",
        "timeit": "ExecutionMagics",
        "unalias": "OSMagics",
        "unload_ext": "ExtensionMagics",
        "who": "NamespaceMagics",
        "who_ls": "NamespaceMagics",
        "whos": "NamespaceMagics",
        "xdel": "NamespaceMagics",
        "xmode": "BasicMagics"
       }
      },
      "text/plain": [
       "Available line magics:\n",
       "%alias  %alias_magic  %autoawait  %autocall  %automagic  %autosave  %bookmark  %cd  %clear  %cls  %colors  %conda  %config  %connect_info  %copy  %ddir  %debug  %dhist  %dirs  %doctest_mode  %echo  %ed  %edit  %env  %gui  %hist  %history  %killbgscripts  %ldir  %less  %load  %load_ext  %loadpy  %logoff  %logon  %logstart  %logstate  %logstop  %ls  %lsmagic  %macro  %magic  %matplotlib  %mkdir  %more  %notebook  %page  %pastebin  %pdb  %pdef  %pdoc  %pfile  %pinfo  %pinfo2  %pip  %popd  %pprint  %precision  %prun  %psearch  %psource  %pushd  %pwd  %pycat  %pylab  %qtconsole  %quickref  %recall  %rehashx  %reload_ext  %ren  %rep  %rerun  %reset  %reset_selective  %rmdir  %run  %save  %sc  %set_env  %store  %sx  %system  %tb  %time  %timeit  %unalias  %unload_ext  %who  %who_ls  %whos  %xdel  %xmode\n",
       "\n",
       "Available cell magics:\n",
       "%%!  %%HTML  %%SVG  %%bash  %%capture  %%cmd  %%debug  %%file  %%html  %%javascript  %%js  %%latex  %%markdown  %%perl  %%prun  %%pypy  %%python  %%python2  %%python3  %%ruby  %%script  %%sh  %%svg  %%sx  %%system  %%time  %%timeit  %%writefile\n",
       "\n",
       "Automagic is ON, % prefix IS NOT needed for line magics."
      ]
     },
     "execution_count": 1,
     "metadata": {},
     "output_type": "execute_result"
    }
   ],
   "source": [
    "%lsmagic"
   ]
  },
  {
   "cell_type": "markdown",
   "id": "302fb917-4676-453c-b27c-14d8565961c9",
   "metadata": {},
   "source": [
    "-리눅스에서 쓰는 명령어가 초록색..흠(내가 윈도우 환경의 컴퓨터라도 주피터에서는 쓸 수있는거같은데...흠)"
   ]
  },
  {
   "cell_type": "code",
   "execution_count": 2,
   "id": "9358fc4b-190f-4477-bf6b-705c60411fb8",
   "metadata": {},
   "outputs": [
    {
     "name": "stdout",
     "output_type": "stream",
     "text": [
      " C 드라이브의 볼륨: Windows\n",
      " 볼륨 일련 번호: 8EF6-8BCC\n",
      "\n",
      " C:\\Users\\SBAuser\\Jupyter_Python 디렉터리\n",
      "\n",
      "2022-11-09  오후 04:49    <DIR>          .\n",
      "2022-11-09  오후 05:04    <DIR>          ..\n",
      "2022-11-09  오후 04:47    <DIR>          .ipynb_checkpoints\n",
      "2022-11-09  오후 04:11    <DIR>          __pycache__\n",
      "2022-11-09  오후 01:59         6,138,550 1-01JupyterNotebook.ipynb\n",
      "2022-11-09  오후 04:47         1,965,774 1-02Basic_0.ipynb\n",
      "2022-11-09  오후 04:49            16,570 1-03Basic2.ipynb\n",
      "2022-11-09  오후 04:48            72,281 1-05Sequence_0.ipynb\n",
      "2022-11-09  오전 11:08               140 add.py\n",
      "2022-11-08  오후 04:16               116 sub1.md\n",
      "2022-11-09  오전 11:07    <DIR>          Test\n",
      "2022-11-09  오전 11:07    <DIR>          Test2\n",
      "2022-11-09  오전 10:01             3,680 Untitled.ipynb\n",
      "               7개 파일           8,197,111 바이트\n",
      "               6개 디렉터리  415,747,571,712 바이트 남음\n"
     ]
    }
   ],
   "source": [
    "%ls"
   ]
  },
  {
   "cell_type": "code",
   "execution_count": 18,
   "id": "435a3500-b071-4280-9b02-e525025c8283",
   "metadata": {},
   "outputs": [
    {
     "name": "stdout",
     "output_type": "stream",
     "text": [
      "C:\\Users\\SBAuser\n"
     ]
    }
   ],
   "source": [
    "%cd"
   ]
  },
  {
   "cell_type": "code",
   "execution_count": 19,
   "id": "249b8157-7dcc-4b86-9a52-cd064ab5ebfc",
   "metadata": {},
   "outputs": [
    {
     "name": "stdout",
     "output_type": "stream",
     "text": [
      "C:\\Users\\SBAuser\\Jupyter_Python\n"
     ]
    }
   ],
   "source": [
    "%cd Jupyter_Python"
   ]
  },
  {
   "cell_type": "code",
   "execution_count": 20,
   "id": "3625081c-c2ba-4902-8195-17c39ed1a6f4",
   "metadata": {},
   "outputs": [
    {
     "name": "stdout",
     "output_type": "stream",
     "text": [
      "C:\\Users\\SBAuser\\Jupyter_Python\n"
     ]
    }
   ],
   "source": [
    "%cd ."
   ]
  },
  {
   "cell_type": "code",
   "execution_count": 21,
   "id": "9bf99d34-71c5-4a83-aa12-e1f813265b6a",
   "metadata": {},
   "outputs": [
    {
     "name": "stdout",
     "output_type": "stream",
     "text": [
      "C:\\Users\\SBAuser\n"
     ]
    }
   ],
   "source": [
    "%cd .."
   ]
  },
  {
   "cell_type": "code",
   "execution_count": 22,
   "id": "77ccccb3-2a90-4941-a751-5c578829eff7",
   "metadata": {},
   "outputs": [
    {
     "name": "stdout",
     "output_type": "stream",
     "text": [
      "C:\\Users\\SBAuser\\Jupyter_Python\n"
     ]
    }
   ],
   "source": [
    "%cd Jupyter_Python"
   ]
  },
  {
   "cell_type": "code",
   "execution_count": 23,
   "id": "7f30bd7d-c26e-47af-8aa6-6b9486c3f99d",
   "metadata": {
    "collapsed": true,
    "jupyter": {
     "outputs_hidden": true
    },
    "tags": []
   },
   "outputs": [
    {
     "name": "stdout",
     "output_type": "stream",
     "text": [
      " C 드라이브의 볼륨: Windows\n",
      " 볼륨 일련 번호: 8EF6-8BCC\n",
      "\n",
      " C:\\Users\\SBAuser\\Jupyter_Python 디렉터리\n",
      "\n",
      "\n",
      " C:\\Users\\SBAuser\\Jupyter_Python 디렉터리\n",
      "\n",
      "2022-11-09  오후 05:22    <DIR>          .\n",
      "2022-11-09  오후 05:04    <DIR>          ..\n",
      "2022-11-09  오후 04:47    <DIR>          .ipynb_checkpoints\n",
      "2022-11-09  오후 04:11    <DIR>          __pycache__\n",
      "2022-11-09  오후 05:22         6,139,381 1-01JupyterNotebook.ipynb\n",
      "2022-11-09  오후 04:47         1,965,774 1-02Basic_0.ipynb\n",
      "2022-11-09  오후 04:49            16,570 1-03Basic2.ipynb\n",
      "2022-11-09  오후 04:48            72,281 1-05Sequence_0.ipynb\n",
      "2022-11-09  오전 11:08               140 add.py\n",
      "2022-11-08  오후 04:16               116 sub1.md\n",
      "2022-11-09  오전 11:07    <DIR>          Test\n",
      "2022-11-09  오전 11:07    <DIR>          Test2\n",
      "2022-11-09  오전 10:01             3,680 Untitled.ipynb\n",
      "               7개 파일           8,197,942 바이트\n",
      "               6개 디렉터리  415,747,686,400 바이트 남음\n"
     ]
    }
   ],
   "source": [
    "%ls -l .\\"
   ]
  },
  {
   "cell_type": "code",
   "execution_count": 26,
   "id": "78ee2677-12ed-460c-b484-d0e4026d6a01",
   "metadata": {
    "collapsed": true,
    "jupyter": {
     "outputs_hidden": true
    },
    "tags": []
   },
   "outputs": [
    {
     "name": "stdout",
     "output_type": "stream",
     "text": [
      " C 드라이브의 볼륨: Windows\n",
      " 볼륨 일련 번호: 8EF6-8BCC\n",
      "\n",
      " C:\\Users\\SBAuser\\Jupyter_Python 디렉터리\n",
      "\n",
      "\n",
      " C:\\Users 디렉터리\n",
      "\n",
      "2022-10-25  오후 02:10    <DIR>          .\n",
      "2022-04-14  오후 01:54    <DIR>          Public\n",
      "2022-11-09  오후 05:04    <DIR>          SBAuser\n",
      "               0개 파일                   0 바이트\n",
      "               3개 디렉터리  415,747,682,304 바이트 남음\n"
     ]
    },
    {
     "name": "stderr",
     "output_type": "stream",
     "text": [
      "파일을 찾을 수 없습니다.\n"
     ]
    }
   ],
   "source": [
    "%ls -l C:\\Users"
   ]
  },
  {
   "cell_type": "code",
   "execution_count": 28,
   "id": "48ff0205-2e38-43e9-9406-679577089801",
   "metadata": {
    "collapsed": true,
    "jupyter": {
     "outputs_hidden": true
    },
    "tags": []
   },
   "outputs": [
    {
     "name": "stdout",
     "output_type": "stream",
     "text": [
      " C 드라이브의 볼륨: Windows\n",
      " 볼륨 일련 번호: 8EF6-8BCC\n",
      "\n",
      " C:\\Users\\SBAuser\\Jupyter_Python 디렉터리\n",
      "\n",
      "\n",
      " C:\\Users\\SBAuser 디렉터리\n",
      "\n",
      "2022-11-09  오후 05:04    <DIR>          .\n",
      "2022-10-25  오후 02:10    <DIR>          ..\n",
      "2022-11-08  오후 12:27    <DIR>          .ipython\n",
      "2022-11-08  오전 11:21    <DIR>          .jupyter\n",
      "2022-11-08  오전 11:51    <DIR>          .pyenv\n",
      "2022-11-08  오전 10:58    <DIR>          .venv\n",
      "2022-10-21  오전 11:49    <DIR>          Contacts\n",
      "2022-11-09  오후 05:08    <DIR>          Desktop\n",
      "2022-11-09  오후 03:54    <DIR>          Documents\n",
      "2022-11-09  오후 03:35    <DIR>          Downloads\n",
      "2022-10-21  오전 11:49    <DIR>          Favorites\n",
      "2022-11-08  오전 11:51             5,005 install-pyenv-win.ps1\n",
      "2022-11-09  오후 05:24    <DIR>          Jupyter_Python\n",
      "2022-10-21  오전 11:49    <DIR>          Links\n",
      "2022-10-21  오전 11:49    <DIR>          Music\n",
      "2022-10-21  오전 11:51    <DIR>          OneDrive\n",
      "2022-10-21  오전 11:50    <DIR>          Pictures\n",
      "2022-10-21  오전 11:49    <DIR>          Saved Games\n",
      "2022-10-21  오전 11:51    <DIR>          Searches\n",
      "2022-11-09  오전 10:58    <DIR>          Test\n",
      "2022-11-09  오전 10:58    <DIR>          Test2\n",
      "2022-11-07  오전 10:54    <DIR>          Videos\n",
      "               1개 파일               5,005 바이트\n",
      "              21개 디렉터리  415,747,682,304 바이트 남음\n"
     ]
    },
    {
     "name": "stderr",
     "output_type": "stream",
     "text": [
      "파일을 찾을 수 없습니다.\n"
     ]
    }
   ],
   "source": [
    "%ls -l C:\\Users\\SBAuser"
   ]
  },
  {
   "cell_type": "code",
   "execution_count": 30,
   "id": "6efb901c-d6c9-4908-bbfb-3dc4c7dcb9f5",
   "metadata": {
    "collapsed": true,
    "jupyter": {
     "outputs_hidden": true
    },
    "tags": []
   },
   "outputs": [
    {
     "name": "stdout",
     "output_type": "stream",
     "text": [
      " C 드라이브의 볼륨: Windows\n",
      " 볼륨 일련 번호: 8EF6-8BCC\n",
      "\n",
      " C:\\Users\\SBAuser\\Jupyter_Python 디렉터리\n",
      "\n",
      "2022-11-09  오후 05:26    <DIR>          .\n",
      "2022-11-09  오후 05:04    <DIR>          ..\n",
      "2022-11-09  오후 04:47    <DIR>          .ipynb_checkpoints\n",
      "2022-11-09  오후 04:11    <DIR>          __pycache__\n",
      "2022-11-09  오후 05:24         6,140,321 1-01JupyterNotebook.ipynb\n",
      "2022-11-09  오후 04:47         1,965,774 1-02Basic_0.ipynb\n",
      "2022-11-09  오후 04:49            16,570 1-03Basic2.ipynb\n",
      "2022-11-09  오후 04:48            72,281 1-05Sequence_0.ipynb\n",
      "2022-11-08  오후 04:16               116 sub1.md\n",
      "2022-11-09  오전 10:01             3,680 Untitled.ipynb\n",
      "               6개 파일           8,198,742 바이트\n",
      "               4개 디렉터리  415,747,682,304 바이트 남음\n"
     ]
    }
   ],
   "source": [
    "%ls"
   ]
  },
  {
   "cell_type": "code",
   "execution_count": 31,
   "id": "10538040-5784-4b10-ae40-d1ef25bbbc47",
   "metadata": {},
   "outputs": [],
   "source": [
    "%mkdir Test Test2"
   ]
  },
  {
   "cell_type": "code",
   "execution_count": 32,
   "id": "3cb98425-9754-4b66-bfba-7e38877f17e4",
   "metadata": {},
   "outputs": [
    {
     "name": "stdout",
     "output_type": "stream",
     "text": [
      "C:\\Users\\SBAuser\\Jupyter_Python\\Test\n"
     ]
    }
   ],
   "source": [
    "%cd Test"
   ]
  },
  {
   "cell_type": "code",
   "execution_count": 33,
   "id": "7ad7391e-a9fa-439c-9bbe-1482bd54eab8",
   "metadata": {
    "collapsed": true,
    "jupyter": {
     "outputs_hidden": true
    },
    "tags": []
   },
   "outputs": [
    {
     "name": "stdout",
     "output_type": "stream",
     "text": [
      " C 드라이브의 볼륨: Windows\n",
      " 볼륨 일련 번호: 8EF6-8BCC\n",
      "\n",
      " C:\\Users\\SBAuser\\Jupyter_Python\\Test 디렉터리\n",
      "\n",
      "2022-11-09  오후 05:26    <DIR>          .\n",
      "2022-11-09  오후 05:26    <DIR>          ..\n",
      "               0개 파일                   0 바이트\n",
      "               2개 디렉터리  415,747,682,304 바이트 남음\n"
     ]
    }
   ],
   "source": [
    "%ls"
   ]
  },
  {
   "cell_type": "markdown",
   "id": "8da08307-b479-48b0-8610-740dfa915151",
   "metadata": {},
   "source": [
    "디렉터리를 여기로 옮겨짐, 여기로 들어옴"
   ]
  },
  {
   "cell_type": "code",
   "execution_count": 34,
   "id": "a82554b2-c01f-48bf-ad59-647f15db6742",
   "metadata": {
    "collapsed": true,
    "jupyter": {
     "outputs_hidden": true
    },
    "tags": []
   },
   "outputs": [
    {
     "name": "stdout",
     "output_type": "stream",
     "text": [
      " C 드라이브의 볼륨: Windows\n",
      " 볼륨 일련 번호: 8EF6-8BCC\n",
      "\n",
      " C:\\Users\\SBAuser\\Jupyter_Python\\Test2 디렉터리\n",
      "\n",
      "2022-11-09  오후 05:26    <DIR>          .\n",
      "2022-11-09  오후 05:26    <DIR>          ..\n",
      "               0개 파일                   0 바이트\n",
      "               2개 디렉터리  415,747,694,592 바이트 남음\n"
     ]
    }
   ],
   "source": [
    "%ls ..\\Test2"
   ]
  },
  {
   "cell_type": "code",
   "execution_count": 35,
   "id": "bdbe9c89-18d3-4105-9727-d8e6f9f1eb82",
   "metadata": {
    "collapsed": true,
    "jupyter": {
     "outputs_hidden": true
    },
    "tags": []
   },
   "outputs": [
    {
     "data": {
      "text/plain": [
       "'C:\\\\Users\\\\SBAuser\\\\Jupyter_Python\\\\Test'"
      ]
     },
     "execution_count": 35,
     "metadata": {},
     "output_type": "execute_result"
    }
   ],
   "source": [
    "%pwd"
   ]
  },
  {
   "cell_type": "markdown",
   "id": "ce884950-2b10-4cea-b303-c6686f500509",
   "metadata": {},
   "source": [
    "현재 어떤 위치, 디렉터리에 있는지 알 수 있음\n"
   ]
  },
  {
   "cell_type": "code",
   "execution_count": 36,
   "id": "09095030-472e-4e16-8c01-2773480cf1b8",
   "metadata": {},
   "outputs": [
    {
     "name": "stdout",
     "output_type": "stream",
     "text": [
      "C:\\Users\\SBAuser\\Jupyter_Python\n"
     ]
    }
   ],
   "source": [
    "%cd .."
   ]
  },
  {
   "cell_type": "code",
   "execution_count": 37,
   "id": "f9eee29f-9292-4872-bda0-74f8542a03b5",
   "metadata": {},
   "outputs": [],
   "source": [
    "%rmdir Test2"
   ]
  },
  {
   "cell_type": "code",
   "execution_count": 38,
   "id": "0c6d0434-2a60-45b8-a8b3-0208a4a1c771",
   "metadata": {},
   "outputs": [
    {
     "data": {
      "text/plain": [
       "'C:\\\\Users\\\\SBAuser\\\\Jupyter_Python'"
      ]
     },
     "execution_count": 38,
     "metadata": {},
     "output_type": "execute_result"
    }
   ],
   "source": [
    "%pwd"
   ]
  },
  {
   "cell_type": "code",
   "execution_count": 39,
   "id": "639eab05-3020-45b6-8cc5-8f661137d64c",
   "metadata": {},
   "outputs": [
    {
     "name": "stdout",
     "output_type": "stream",
     "text": [
      "C:\\Users\\SBAuser\n"
     ]
    }
   ],
   "source": [
    "%cd"
   ]
  },
  {
   "cell_type": "code",
   "execution_count": 40,
   "id": "3ba34f82-c0c1-42dd-b0ef-5bda57ad0520",
   "metadata": {},
   "outputs": [
    {
     "name": "stdout",
     "output_type": "stream",
     "text": [
      "C:\\Users\\SBAuser\n"
     ]
    }
   ],
   "source": [
    "%cd"
   ]
  },
  {
   "cell_type": "markdown",
   "id": "7123ccda-7b1c-4af8-99c2-4731f963c081",
   "metadata": {},
   "source": [
    "................."
   ]
  },
  {
   "cell_type": "code",
   "execution_count": 41,
   "id": "94481622-6574-4015-b33b-795ffc755815",
   "metadata": {},
   "outputs": [
    {
     "name": "stdout",
     "output_type": "stream",
     "text": [
      "C:\\Users\\SBAuser\\Jupyter_Python\n"
     ]
    }
   ],
   "source": [
    "%cd Jupyter_Python"
   ]
  },
  {
   "cell_type": "markdown",
   "id": "de30a4f1-979f-4907-9548-379e7e3d1a4f",
   "metadata": {},
   "source": [
    "---------------여기는 안배움-------------------------------"
   ]
  },
  {
   "cell_type": "code",
   "execution_count": null,
   "id": "cae96cae-9d46-4136-b7e4-d246d6c1f651",
   "metadata": {},
   "outputs": [],
   "source": [
    "%rm -rf"
   ]
  },
  {
   "cell_type": "code",
   "execution_count": null,
   "id": "8cc6a1c7-dbb2-426a-b584-3bb4c0422527",
   "metadata": {},
   "outputs": [],
   "source": [
    "np"
   ]
  },
  {
   "cell_type": "code",
   "execution_count": null,
   "id": "125be738-4267-4e56-ba1e-dca67f61f883",
   "metadata": {},
   "outputs": [],
   "source": [
    "%cd Jupyter-AI/"
   ]
  },
  {
   "cell_type": "code",
   "execution_count": null,
   "id": "1b661c1d-f668-484c-8f38-019c77e2c025",
   "metadata": {},
   "outputs": [],
   "source": [
    "%whos"
   ]
  },
  {
   "cell_type": "code",
   "execution_count": 42,
   "id": "188eb5e1-2493-4f0a-9064-612ef6eb37f8",
   "metadata": {},
   "outputs": [
    {
     "name": "stdout",
     "output_type": "stream",
     "text": [
      "Writing add.py\n"
     ]
    }
   ],
   "source": [
    "%%writefile add.py\n",
    "\n",
    "def add(x:int, y:int) -> int:\n",
    "    \"\"\"add()는 두 수를 더한 결과를 반환한다.\n",
    "    \"\"\"\n",
    "    return x+y\n",
    "\n",
    "print(add(100, 20))"
   ]
  },
  {
   "cell_type": "code",
   "execution_count": 43,
   "id": "0fe3ddf6-23dc-494f-b6dd-9963d4c7dad8",
   "metadata": {},
   "outputs": [
    {
     "name": "stdout",
     "output_type": "stream",
     "text": [
      " C 드라이브의 볼륨: Windows\n",
      " 볼륨 일련 번호: 8EF6-8BCC\n",
      "\n",
      " C:\\Users\\SBAuser\\Jupyter_Python 디렉터리\n",
      "\n",
      "2022-11-09  오후 05:28               140 add.py\n",
      "               1개 파일                 140 바이트\n",
      "               0개 디렉터리  415,738,638,336 바이트 남음\n"
     ]
    }
   ],
   "source": [
    "%ls add.py"
   ]
  },
  {
   "cell_type": "code",
   "execution_count": 44,
   "id": "6f86028e-9007-414e-a4e1-a4a4ff2398d9",
   "metadata": {},
   "outputs": [
    {
     "data": {
      "text/plain": [
       "\u001b[1;33m\n",
       "\u001b[0m\u001b[1;32mdef\u001b[0m \u001b[0madd\u001b[0m\u001b[1;33m(\u001b[0m\u001b[0mx\u001b[0m\u001b[1;33m:\u001b[0m\u001b[0mint\u001b[0m\u001b[1;33m,\u001b[0m \u001b[0my\u001b[0m\u001b[1;33m:\u001b[0m\u001b[0mint\u001b[0m\u001b[1;33m)\u001b[0m \u001b[1;33m->\u001b[0m \u001b[0mint\u001b[0m\u001b[1;33m:\u001b[0m\u001b[1;33m\n",
       "\u001b[0m    \u001b[1;34m\"\"\"add()는 두 수를 더한 결과를 반환한다.\n",
       "    \"\"\"\u001b[0m\u001b[1;33m\n",
       "\u001b[0m    \u001b[1;32mreturn\u001b[0m \u001b[0mx\u001b[0m\u001b[1;33m+\u001b[0m\u001b[0my\u001b[0m\u001b[1;33m\n",
       "\u001b[0m\u001b[1;33m\n",
       "\u001b[0m\u001b[0mprint\u001b[0m\u001b[1;33m(\u001b[0m\u001b[0madd\u001b[0m\u001b[1;33m(\u001b[0m\u001b[1;36m100\u001b[0m\u001b[1;33m,\u001b[0m \u001b[1;36m20\u001b[0m\u001b[1;33m)\u001b[0m\u001b[1;33m)\u001b[0m\u001b[1;33m\u001b[0m\u001b[1;33m\u001b[0m\u001b[0m\n"
      ]
     },
     "metadata": {},
     "output_type": "display_data"
    }
   ],
   "source": [
    "%pycat add.py"
   ]
  },
  {
   "cell_type": "code",
   "execution_count": 45,
   "id": "32ee9317-0737-4f46-9425-13f3d3e73426",
   "metadata": {},
   "outputs": [
    {
     "name": "stdout",
     "output_type": "stream",
     "text": [
      "120\n"
     ]
    }
   ],
   "source": [
    "%run add.py"
   ]
  },
  {
   "cell_type": "code",
   "execution_count": 46,
   "id": "c0df8649-14e1-442e-af7c-2ff335e7feae",
   "metadata": {},
   "outputs": [
    {
     "name": "stdout",
     "output_type": "stream",
     "text": [
      "120\n"
     ]
    }
   ],
   "source": [
    "! python add.py"
   ]
  },
  {
   "cell_type": "code",
   "execution_count": null,
   "id": "da6e037a-e56d-47ec-8f9f-d24fda423934",
   "metadata": {},
   "outputs": [],
   "source": []
  },
  {
   "cell_type": "code",
   "execution_count": 47,
   "id": "daf1ed08-110f-43e6-8bdd-555867665a82",
   "metadata": {},
   "outputs": [],
   "source": [
    "%mkdir test1"
   ]
  },
  {
   "cell_type": "code",
   "execution_count": 48,
   "id": "c62e0e9c-dee2-4dde-a499-39a5fc147493",
   "metadata": {},
   "outputs": [
    {
     "data": {
      "text/plain": [
       "'C:\\\\Users\\\\SBAuser\\\\Jupyter_Python'"
      ]
     },
     "execution_count": 48,
     "metadata": {},
     "output_type": "execute_result"
    }
   ],
   "source": [
    "%pwd"
   ]
  },
  {
   "cell_type": "code",
   "execution_count": 49,
   "id": "bd4a00e5-d2fc-45a7-babe-2a63b3cf6116",
   "metadata": {},
   "outputs": [],
   "source": [
    "!mkdir test2"
   ]
  },
  {
   "cell_type": "code",
   "execution_count": 50,
   "id": "98a2a3e1-1521-49e7-8875-8ff57a5ece16",
   "metadata": {},
   "outputs": [
    {
     "name": "stderr",
     "output_type": "stream",
     "text": [
      "'mv'은(는) 내부 또는 외부 명령, 실행할 수 있는 프로그램, 또는\n",
      "배치 파일이 아닙니다.\n"
     ]
    }
   ],
   "source": [
    "!mv test2 test3"
   ]
  },
  {
   "cell_type": "code",
   "execution_count": null,
   "id": "09a18f5d-968d-42f8-a83a-fb2dec9932df",
   "metadata": {},
   "outputs": [],
   "source": [
    "%mv test2 test3"
   ]
  },
  {
   "cell_type": "code",
   "execution_count": 51,
   "id": "ebc9a245-42a7-4e04-8bd6-c4922c3b23ee",
   "metadata": {
    "collapsed": true,
    "jupyter": {
     "outputs_hidden": true
    },
    "tags": []
   },
   "outputs": [
    {
     "name": "stdout",
     "output_type": "stream",
     "text": [
      "%lsmagic\n",
      "%ls\n",
      "%cd\n",
      "%cd Jupyter_Python\n",
      "%ls -l .\\\n",
      "%cd .\n",
      "%cd\n",
      "%cd .\n",
      "%cd\n",
      "%cd Jupyter_Python\n",
      "%cd .\n",
      "%cd ..\n",
      "%cd # 상위\n",
      "%cd\n",
      "%cd Jupyter_Python\n",
      "%cd .\n",
      "%cd ..\n",
      "%cd\n",
      "%cd Jupyter_Python\n",
      "%cd .\n",
      "%cd ..\n",
      "%cd Jupyter_Python\n",
      "%ls -l .\\\n",
      "%ls -l C:\\Users\n",
      "%ls -l C:Users\n",
      "%ls -l C:\\Users\n",
      "%ls -l C:\\Users\\SBAuser\n",
      "%ls -l C:\\Users\\SBAuser\n",
      "%ls\n",
      "%ls\n",
      "%mkdir Test Test2\n",
      "%cd Test\n",
      "%ls\n",
      "%ls ..\\Test2\n",
      "%pwd\n",
      "%cd ..\n",
      "%rmdir Test2\n",
      "%pwd\n",
      "%cd\n",
      "%cd\n",
      "%cd Jupyter_Python\n",
      "%%writefile add.py\n",
      "\n",
      "def add(x:int, y:int) -> int:\n",
      "    \"\"\"add()는 두 수를 더한 결과를 반환한다.\n",
      "    \"\"\"\n",
      "    return x+y\n",
      "\n",
      "print(add(100, 20))\n",
      "%ls add.py\n",
      "%pycat add.py\n",
      "%run add.py\n",
      "! python add.py\n",
      "%mkdir test1\n",
      "%pwd\n",
      "!mkdir test2\n",
      "!mv test2 test3\n",
      "%history\n"
     ]
    }
   ],
   "source": [
    "%history"
   ]
  },
  {
   "cell_type": "code",
   "execution_count": null,
   "id": "6fb100ef-8cc9-480e-a74b-90a657bcf040",
   "metadata": {},
   "outputs": [],
   "source": [
    "%reset"
   ]
  },
  {
   "cell_type": "markdown",
   "id": "621b0707-1b6c-4d67-992f-24609a05b7c3",
   "metadata": {},
   "source": [
    "### ex) 외부명령 실행 결과 저장하는 방법 찾아보세요!!!"
   ]
  },
  {
   "cell_type": "code",
   "execution_count": 52,
   "id": "d5323c82-dde0-46b3-940d-5f0e6d12d3b3",
   "metadata": {
    "collapsed": true,
    "jupyter": {
     "outputs_hidden": true
    },
    "tags": []
   },
   "outputs": [
    {
     "name": "stdout",
     "output_type": "stream",
     "text": [
      " C 드라이브의 볼륨: Windows\n",
      " 볼륨 일련 번호: 8EF6-8BCC\n",
      "\n",
      " C:\\Users\\SBAuser\\Jupyter_Python 디렉터리\n",
      "\n",
      "2022-11-09  오후 05:31    <DIR>          .\n",
      "2022-11-09  오후 05:04    <DIR>          ..\n",
      "2022-11-09  오후 04:47    <DIR>          .ipynb_checkpoints\n",
      "2022-11-09  오후 05:30         6,145,092 1-01JupyterNotebook.ipynb\n",
      "2022-11-09  오후 04:47         1,965,774 1-02Basic_0.ipynb\n",
      "2022-11-09  오후 04:49            16,570 1-03Basic2.ipynb\n",
      "2022-11-09  오후 04:48            72,281 1-05Sequence_0.ipynb\n",
      "2022-11-09  오후 05:28               140 add.py\n",
      "2022-11-08  오후 04:16               116 sub1.md\n",
      "2022-11-09  오후 05:26    <DIR>          Test\n",
      "2022-11-09  오후 05:30    <DIR>          test1\n",
      "2022-11-09  오후 05:31    <DIR>          test2\n",
      "2022-11-09  오전 10:01             3,680 Untitled.ipynb\n",
      "2022-11-09  오후 04:11    <DIR>          __pycache__\n",
      "               7개 파일           8,203,653 바이트\n",
      "               7개 디렉터리  415,741,837,312 바이트 남음\n"
     ]
    }
   ],
   "source": [
    "! dir"
   ]
  },
  {
   "cell_type": "code",
   "execution_count": 53,
   "id": "be679037-16e1-4cc7-bd1d-a26e9e4ad59d",
   "metadata": {},
   "outputs": [
    {
     "name": "stdout",
     "output_type": "stream",
     "text": [
      "Python 3.9.13\n"
     ]
    }
   ],
   "source": [
    "! python -V"
   ]
  },
  {
   "cell_type": "code",
   "execution_count": 54,
   "id": "0ca933d3-8a9b-4c01-8415-ad3e2b11bd61",
   "metadata": {
    "collapsed": true,
    "jupyter": {
     "outputs_hidden": true
    },
    "tags": []
   },
   "outputs": [
    {
     "name": "stdout",
     "output_type": "stream",
     "text": [
      "anyio==3.6.2\n",
      "argon2-cffi==21.3.0\n",
      "argon2-cffi-bindings==21.2.0\n",
      "asttokens==2.1.0\n",
      "attrs==22.1.0\n",
      "Babel==2.11.0\n",
      "backcall==0.2.0\n",
      "beautifulsoup4==4.11.1\n",
      "bleach==5.0.1\n",
      "certifi==2022.9.24\n",
      "cffi==1.15.1\n",
      "charset-normalizer==2.1.1\n",
      "colorama==0.4.6\n",
      "contourpy==1.0.6\n",
      "cycler==0.11.0\n",
      "debugpy==1.6.3\n",
      "decorator==5.1.1\n",
      "defusedxml==0.7.1\n",
      "entrypoints==0.4\n",
      "executing==1.2.0\n",
      "fastjsonschema==2.16.2\n",
      "fonttools==4.38.0\n",
      "idna==3.4\n",
      "importlib-metadata==5.0.0\n",
      "ipykernel==6.17.0\n",
      "ipython==8.6.0\n",
      "ipython-genutils==0.2.0\n",
      "jedi==0.18.1\n",
      "Jinja2==3.1.2\n",
      "json5==0.9.10\n",
      "jsonschema==4.17.0\n",
      "jupyter-server==1.23.0\n",
      "jupyter_client==7.4.4\n",
      "jupyter_core==4.11.2\n",
      "jupyterlab==3.5.0\n",
      "jupyterlab-pygments==0.2.2\n",
      "jupyterlab_server==2.16.2\n",
      "kiwisolver==1.4.4\n",
      "MarkupSafe==2.1.1\n",
      "matplotlib==3.6.2\n",
      "matplotlib-inline==0.1.6\n",
      "mistune==2.0.4\n",
      "nbclassic==0.4.8\n",
      "nbclient==0.7.0\n",
      "nbconvert==7.2.3\n",
      "nbformat==5.7.0\n",
      "nest-asyncio==1.5.6\n",
      "notebook==6.5.2\n",
      "notebook_shim==0.2.2\n",
      "numpy==1.23.4\n",
      "packaging==21.3\n",
      "pandocfilters==1.5.0\n",
      "parso==0.8.3\n",
      "pickleshare==0.7.5\n",
      "Pillow==9.3.0\n",
      "prometheus-client==0.15.0\n",
      "prompt-toolkit==3.0.32\n",
      "psutil==5.9.4\n",
      "pure-eval==0.2.2\n",
      "pycparser==2.21\n",
      "Pygments==2.13.0\n",
      "pyparsing==3.0.9\n",
      "pyrsistent==0.19.2\n",
      "python-dateutil==2.8.2\n",
      "pytz==2022.6\n",
      "pywin32==305\n",
      "pywinpty==2.0.9\n",
      "pyzmq==24.0.1\n",
      "requests==2.28.1\n",
      "Send2Trash==1.8.0\n",
      "six==1.16.0\n",
      "sniffio==1.3.0\n",
      "soupsieve==2.3.2.post1\n",
      "stack-data==0.6.0\n",
      "terminado==0.17.0\n",
      "tinycss2==1.2.1\n",
      "tomli==2.0.1\n",
      "tornado==6.2\n",
      "traitlets==5.5.0\n",
      "urllib3==1.26.12\n",
      "wcwidth==0.2.5\n",
      "webencodings==0.5.1\n",
      "websocket-client==1.4.2\n",
      "zipp==3.10.0\n"
     ]
    }
   ],
   "source": [
    "! pip freeze"
   ]
  },
  {
   "cell_type": "code",
   "execution_count": 34,
   "id": "be278776-5aa8-4436-acfd-c9f08cc35b26",
   "metadata": {
    "collapsed": true,
    "jupyter": {
     "outputs_hidden": true
    },
    "tags": []
   },
   "outputs": [
    {
     "name": "stdout",
     "output_type": "stream",
     "text": [
      "Collecting matplotlib\n",
      "  Downloading matplotlib-3.6.2-cp39-cp39-win_amd64.whl (7.2 MB)\n",
      "     ---------------------------------------- 7.2/7.2 MB 20.1 MB/s eta 0:00:00\n",
      "Collecting contourpy>=1.0.1\n",
      "  Downloading contourpy-1.0.6-cp39-cp39-win_amd64.whl (161 kB)\n",
      "     ---------------------------------------- 161.3/161.3 kB ? eta 0:00:00\n",
      "Requirement already satisfied: packaging>=20.0 in c:\\users\\sbauser\\.venv\\second_day\\lib\\site-packages (from matplotlib) (21.3)\n",
      "Collecting numpy>=1.19\n",
      "  Downloading numpy-1.23.4-cp39-cp39-win_amd64.whl (14.7 MB)\n",
      "     --------------------------------------- 14.7/14.7 MB 18.7 MB/s eta 0:00:00\n",
      "Collecting kiwisolver>=1.0.1\n",
      "  Downloading kiwisolver-1.4.4-cp39-cp39-win_amd64.whl (55 kB)\n",
      "     ---------------------------------------- 55.4/55.4 kB ? eta 0:00:00\n",
      "Collecting cycler>=0.10\n",
      "  Downloading cycler-0.11.0-py3-none-any.whl (6.4 kB)\n",
      "Collecting fonttools>=4.22.0\n",
      "  Downloading fonttools-4.38.0-py3-none-any.whl (965 kB)\n",
      "     ------------------------------------- 965.4/965.4 kB 20.3 MB/s eta 0:00:00\n",
      "Requirement already satisfied: pyparsing>=2.2.1 in c:\\users\\sbauser\\.venv\\second_day\\lib\\site-packages (from matplotlib) (3.0.9)\n",
      "Requirement already satisfied: python-dateutil>=2.7 in c:\\users\\sbauser\\.venv\\second_day\\lib\\site-packages (from matplotlib) (2.8.2)\n",
      "Collecting pillow>=6.2.0\n",
      "  Downloading Pillow-9.3.0-cp39-cp39-win_amd64.whl (2.5 MB)\n",
      "     ---------------------------------------- 2.5/2.5 MB 22.6 MB/s eta 0:00:00\n",
      "Requirement already satisfied: six>=1.5 in c:\\users\\sbauser\\.venv\\second_day\\lib\\site-packages (from python-dateutil>=2.7->matplotlib) (1.16.0)\n",
      "Installing collected packages: pillow, numpy, kiwisolver, fonttools, cycler, contourpy, matplotlib\n",
      "Successfully installed contourpy-1.0.6 cycler-0.11.0 fonttools-4.38.0 kiwisolver-1.4.4 matplotlib-3.6.2 numpy-1.23.4 pillow-9.3.0\n"
     ]
    }
   ],
   "source": [
    "! pip install matplotlib"
   ]
  },
  {
   "cell_type": "markdown",
   "id": "ef8b25d9-b65b-4910-a439-70422887be53",
   "metadata": {},
   "source": [
    "## 수행시간 프로파일링\n",
    "\n",
    " - `%time`: 코드를 한번 수행되는 시간\n",
    " - `%timeit` , `%%timeit`: 코드를 여러번 수행해 평균을 측정\n",
    " - 머신러닝, 딥러닝 할 때 시간 예측할 때 많이 사용함"
   ]
  },
  {
   "cell_type": "code",
   "execution_count": 11,
   "id": "41229bd1-c877-494e-a4e9-9b81e39aafc2",
   "metadata": {},
   "outputs": [],
   "source": [
    "from collections import deque"
   ]
  },
  {
   "cell_type": "markdown",
   "id": "543da728-fb53-4c4d-a971-c991b3e72b43",
   "metadata": {},
   "source": [
    "collection에 있는 파이썬 여러 소스 중 deque라는 것을 쓰겠다는 명령, 코드임"
   ]
  },
  {
   "cell_type": "code",
   "execution_count": null,
   "id": "3714c981-ebfd-4c8d-8ddf-d1e4f6af48a1",
   "metadata": {},
   "outputs": [],
   "source": []
  },
  {
   "cell_type": "markdown",
   "id": "ad59e6fa-8c57-4be7-81c3-15d38d353e44",
   "metadata": {},
   "source": [
    "### 1. `%time` 과 `%%time`\n",
    "\n",
    "코드가 한번 실행하는 수행시간을 측정"
   ]
  },
  {
   "cell_type": "code",
   "execution_count": 12,
   "id": "e3512dbb-14dc-43bc-a1da-bd5b1ffc8356",
   "metadata": {
    "collapsed": true,
    "jupyter": {
     "outputs_hidden": true
    },
    "tags": []
   },
   "outputs": [
    {
     "name": "stdout",
     "output_type": "stream",
     "text": [
      "CPU times: total: 0 ns\n",
      "Wall time: 0 ns\n"
     ]
    },
    {
     "data": {
      "text/plain": [
       "deque([0,\n",
       "       1,\n",
       "       2,\n",
       "       3,\n",
       "       4,\n",
       "       5,\n",
       "       6,\n",
       "       7,\n",
       "       8,\n",
       "       9,\n",
       "       10,\n",
       "       11,\n",
       "       12,\n",
       "       13,\n",
       "       14,\n",
       "       15,\n",
       "       16,\n",
       "       17,\n",
       "       18,\n",
       "       19,\n",
       "       20,\n",
       "       21,\n",
       "       22,\n",
       "       23,\n",
       "       24,\n",
       "       25,\n",
       "       26,\n",
       "       27,\n",
       "       28,\n",
       "       29,\n",
       "       30,\n",
       "       31,\n",
       "       32,\n",
       "       33,\n",
       "       34,\n",
       "       35,\n",
       "       36,\n",
       "       37,\n",
       "       38,\n",
       "       39,\n",
       "       40,\n",
       "       41,\n",
       "       42,\n",
       "       43,\n",
       "       44,\n",
       "       45,\n",
       "       46,\n",
       "       47,\n",
       "       48,\n",
       "       49,\n",
       "       50,\n",
       "       51,\n",
       "       52,\n",
       "       53,\n",
       "       54,\n",
       "       55,\n",
       "       56,\n",
       "       57,\n",
       "       58,\n",
       "       59,\n",
       "       60,\n",
       "       61,\n",
       "       62,\n",
       "       63,\n",
       "       64,\n",
       "       65,\n",
       "       66,\n",
       "       67,\n",
       "       68,\n",
       "       69,\n",
       "       70,\n",
       "       71,\n",
       "       72,\n",
       "       73,\n",
       "       74,\n",
       "       75,\n",
       "       76,\n",
       "       77,\n",
       "       78,\n",
       "       79,\n",
       "       80,\n",
       "       81,\n",
       "       82,\n",
       "       83,\n",
       "       84,\n",
       "       85,\n",
       "       86,\n",
       "       87,\n",
       "       88,\n",
       "       89,\n",
       "       90,\n",
       "       91,\n",
       "       92,\n",
       "       93,\n",
       "       94,\n",
       "       95,\n",
       "       96,\n",
       "       97,\n",
       "       98,\n",
       "       99])"
      ]
     },
     "execution_count": 12,
     "metadata": {},
     "output_type": "execute_result"
    }
   ],
   "source": [
    "%time deque([i for i in range(100)])"
   ]
  },
  {
   "cell_type": "markdown",
   "id": "18c9498a-9364-469f-849d-58f3c99683ad",
   "metadata": {},
   "source": [
    "walltime만 보면됨..일단은(이게 출력되서 찍힌 시간. 나에게 알려진, 보이는데까지 걸린 시간)"
   ]
  },
  {
   "cell_type": "code",
   "execution_count": 13,
   "id": "81347cf3-6a98-4875-afa0-55010f963619",
   "metadata": {},
   "outputs": [
    {
     "name": "stdout",
     "output_type": "stream",
     "text": [
      "CPU times: total: 0 ns\n",
      "Wall time: 0 ns\n"
     ]
    },
    {
     "data": {
      "text/plain": [
       "4950"
      ]
     },
     "execution_count": 13,
     "metadata": {},
     "output_type": "execute_result"
    }
   ],
   "source": [
    "%time sum(range(100))"
   ]
  },
  {
   "cell_type": "markdown",
   "id": "2302d4cb-2a01-4b90-a917-1623ad764d32",
   "metadata": {},
   "source": [
    "초록색으로 되어 있으면 내장되어있는 파이썬 명령어, 함수임"
   ]
  },
  {
   "cell_type": "code",
   "execution_count": 14,
   "id": "15f0b2fd-8086-4daa-a632-b7b564c0dafe",
   "metadata": {},
   "outputs": [
    {
     "name": "stdout",
     "output_type": "stream",
     "text": [
      "CPU times: total: 15.6 ms\n",
      "Wall time: 14 ms\n"
     ]
    },
    {
     "data": {
      "text/plain": [
       "499999500000"
      ]
     },
     "execution_count": 14,
     "metadata": {},
     "output_type": "execute_result"
    }
   ],
   "source": [
    "%time sum(range(10000*100))"
   ]
  },
  {
   "cell_type": "code",
   "execution_count": 15,
   "id": "9d64b5ba-e43a-4841-a617-cc36007fa4b7",
   "metadata": {},
   "outputs": [
    {
     "name": "stdout",
     "output_type": "stream",
     "text": [
      "CPU times: total: 0 ns\n",
      "Wall time: 0 ns\n"
     ]
    },
    {
     "data": {
      "text/plain": [
       "499500"
      ]
     },
     "execution_count": 15,
     "metadata": {},
     "output_type": "execute_result"
    }
   ],
   "source": [
    "%%time\n",
    "sum(range(100))\n",
    "sum(range(1000))"
   ]
  },
  {
   "cell_type": "code",
   "execution_count": 16,
   "id": "257a88b3-0beb-4208-9b71-6f5f273ab481",
   "metadata": {},
   "outputs": [
    {
     "name": "stdout",
     "output_type": "stream",
     "text": [
      " C 드라이브의 볼륨: Windows\n",
      " 볼륨 일련 번호: 8EF6-8BCC\n",
      "\n",
      " C:\\Users\\SBAuser\\Jupyter_Python 디렉터리\n",
      "\n",
      "2022-11-09  오전 11:08               140 add.py\n",
      "               1개 파일                 140 바이트\n",
      "               0개 디렉터리  416,997,662,720 바이트 남음\n"
     ]
    }
   ],
   "source": [
    "%ls add.py"
   ]
  },
  {
   "cell_type": "code",
   "execution_count": 19,
   "id": "4bffcbcc-35cc-4f23-9438-331a5ebb8609",
   "metadata": {},
   "outputs": [
    {
     "name": "stdout",
     "output_type": "stream",
     "text": [
      "120\n",
      "CPU times: total: 0 ns\n",
      "Wall time: 54 ms\n"
     ]
    }
   ],
   "source": [
    "%%time\n",
    "! python add.py"
   ]
  },
  {
   "cell_type": "markdown",
   "id": "4caeb043-5cfd-48cc-bd88-2e883ddc3413",
   "metadata": {},
   "source": [
    "여러 줄일때는 %2개로 하면 됨"
   ]
  },
  {
   "cell_type": "code",
   "execution_count": 20,
   "id": "e53eebea-4a75-481f-956b-3fa60e881eae",
   "metadata": {},
   "outputs": [
    {
     "name": "stdout",
     "output_type": "stream",
     "text": [
      "120\n",
      "CPU times: total: 0 ns\n",
      "Wall time: 45.8 ms\n"
     ]
    }
   ],
   "source": [
    "%time ! python add.py"
   ]
  },
  {
   "cell_type": "markdown",
   "id": "5a40223e-3a53-45d7-a0e2-d9bab806e7d0",
   "metadata": {},
   "source": [
    "### 2. `%timeit` 과 `%%timeit`\n",
    "\n",
    "코드를 여러번 수행한 평균 시간을 측정 / timeit은 잘못 실행하면 굉장히 오래걸림.\n",
    "-쉘 종료, interrupt(가로채다) 그 쉘만 끄는 방법도 있고(interrupt는 그 쉘하고 i두번 누르기) / 커널을 다시 restart할 수 도 있음(위에 kernel>restart) 02개 (대신 이렇게 하면 지금까지 했던 모든 과정 날라감, 계산 날라감)"
   ]
  },
  {
   "cell_type": "code",
   "execution_count": 22,
   "id": "3d3f96c2-dbcb-4af6-a0b1-5e124227dbb7",
   "metadata": {},
   "outputs": [
    {
     "name": "stdout",
     "output_type": "stream",
     "text": [
      "5.83 µs ± 14.1 ns per loop (mean ± std. dev. of 7 runs, 100,000 loops each)\n"
     ]
    }
   ],
   "source": [
    "%timeit sum(range(1000))"
   ]
  },
  {
   "cell_type": "code",
   "execution_count": 23,
   "id": "5660decb-ca97-4e3f-9f47-f2028ea6c911",
   "metadata": {},
   "outputs": [
    {
     "name": "stderr",
     "output_type": "stream",
     "text": [
      "UsageError: %%timeit is a cell magic, but the cell body is empty. Did you mean the line magic %timeit (single %)?\n"
     ]
    }
   ],
   "source": [
    "%%timeit"
   ]
  },
  {
   "cell_type": "code",
   "execution_count": 24,
   "id": "62b4f51e-882e-404f-a434-1decab10e033",
   "metadata": {},
   "outputs": [
    {
     "name": "stdout",
     "output_type": "stream",
     "text": [
      "1.38 µs ± 2.56 ns per loop (mean ± std. dev. of 7 runs, 1,000,000 loops each)\n",
      "150 µs ± 1.57 µs per loop (mean ± std. dev. of 7 runs, 10,000 loops each)\n",
      "37.6 ms ± 638 µs per loop (mean ± std. dev. of 7 runs, 10 loops each)\n",
      "4 s ± 27.3 ms per loop (mean ± std. dev. of 7 runs, 1 loop each)\n"
     ]
    }
   ],
   "source": [
    "%timeit deque([i for i in range(100)])\n",
    "%timeit deque([i for i in range(10000)])\n",
    "%timeit deque([i for i in range(1000000)])\n",
    "%timeit deque([i for i in range(100000000)])"
   ]
  },
  {
   "cell_type": "code",
   "execution_count": 26,
   "id": "0f9cd9e3-106e-419c-a7b7-cc1f138e1554",
   "metadata": {},
   "outputs": [
    {
     "name": "stdout",
     "output_type": "stream",
     "text": [
      "1.96 µs ± 22.8 ns per loop (mean ± std. dev. of 7 runs, 100,000 loops each)\n",
      "216 µs ± 934 ns per loop (mean ± std. dev. of 7 runs, 1,000 loops each)\n",
      "29 ms ± 299 µs per loop (mean ± std. dev. of 7 runs, 10 loops each)\n",
      "3.16 s ± 20.1 ms per loop (mean ± std. dev. of 7 runs, 1 loop each)\n"
     ]
    }
   ],
   "source": [
    "%timeit deque(i for i in range(100))\n",
    "%timeit deque(i for i in range(10000))\n",
    "%timeit deque(i for i in range(1000000))\n",
    "%timeit deque(i for i in range(100000000))"
   ]
  },
  {
   "cell_type": "code",
   "execution_count": 27,
   "id": "6fa7e73b-5a35-420d-a53c-33ef53eed5a6",
   "metadata": {},
   "outputs": [
    {
     "name": "stdout",
     "output_type": "stream",
     "text": [
      "413 ns ± 4.05 ns per loop (mean ± std. dev. of 7 runs, 1,000,000 loops each)\n",
      "69.3 µs ± 579 ns per loop (mean ± std. dev. of 7 runs, 10,000 loops each)\n",
      "14.1 ms ± 27.6 µs per loop (mean ± std. dev. of 7 runs, 100 loops each)\n",
      "1.7 s ± 2.96 ms per loop (mean ± std. dev. of 7 runs, 1 loop each)\n"
     ]
    }
   ],
   "source": [
    "%timeit deque(range(100))\n",
    "%timeit deque(range(10000))\n",
    "%timeit deque(range(1000000))\n",
    "%timeit deque(range(100000000))"
   ]
  },
  {
   "cell_type": "code",
   "execution_count": 28,
   "id": "6f24f28e-34da-452a-bf98-76f12c109d74",
   "metadata": {},
   "outputs": [
    {
     "name": "stdout",
     "output_type": "stream",
     "text": [
      "1.04 µs ± 10.2 ns per loop (mean ± std. dev. of 7 runs, 1,000,000 loops each)\n",
      "108 µs ± 775 ns per loop (mean ± std. dev. of 7 runs, 10,000 loops each)\n",
      "28.7 ms ± 266 µs per loop (mean ± std. dev. of 7 runs, 10 loops each)\n",
      "2.95 s ± 21.3 ms per loop (mean ± std. dev. of 7 runs, 1 loop each)\n"
     ]
    }
   ],
   "source": [
    "%timeit [i for i in range(100)]\n",
    "%timeit [i for i in range(10000)]\n",
    "%timeit [i for i in range(1000000)]\n",
    "%timeit [i for i in range(100000000)]"
   ]
  },
  {
   "cell_type": "code",
   "execution_count": 29,
   "id": "a17bcee7-57e5-42db-8004-9e6092c098aa",
   "metadata": {},
   "outputs": [
    {
     "name": "stdout",
     "output_type": "stream",
     "text": [
      "334 ns ± 4.39 ns per loop (mean ± std. dev. of 7 runs, 1,000,000 loops each)\n",
      "46.9 µs ± 302 ns per loop (mean ± std. dev. of 7 runs, 10,000 loops each)\n",
      "12.4 ms ± 44.7 µs per loop (mean ± std. dev. of 7 runs, 100 loops each)\n",
      "1.34 s ± 8.71 ms per loop (mean ± std. dev. of 7 runs, 1 loop each)\n"
     ]
    }
   ],
   "source": [
    "%timeit list(range(100))\n",
    "%timeit list(range(10000))\n",
    "%timeit list(range(1000000))\n",
    "%timeit list(range(100000000))"
   ]
  },
  {
   "cell_type": "code",
   "execution_count": 30,
   "id": "2848fe1a-a7cc-49eb-9531-f2c1276ce9ba",
   "metadata": {},
   "outputs": [
    {
     "name": "stdout",
     "output_type": "stream",
     "text": [
      "1.36 s ± 5.88 ms per loop (mean ± std. dev. of 7 runs, 1 loop each)\n"
     ]
    }
   ],
   "source": [
    "%%timeit\n",
    "\n",
    "list(range(100))\n",
    "list(range(10000))\n",
    "list(range(1000000))\n",
    "list(range(100000000))"
   ]
  },
  {
   "cell_type": "markdown",
   "id": "b0bffad0-128e-41fa-b4d0-93c56f47597d",
   "metadata": {},
   "source": [
    "### 3. `%timeit` 의 옵션\n",
    "\n",
    "- `-n` : 한 루프당 몇 번 실행할 것인지 지정한다. 지정하지 않으면 알아서 적당히 충분히 정확한 데이터가 나올 정도로 실행함\n",
    "- `-r` : %timeit은 여러번 반복해서 그 평균값과 오차범위를 보여주는데, 몇 번 반복할 것인지를 지정할 수 있다.  기본값으로 7번 반복."
   ]
  },
  {
   "cell_type": "code",
   "execution_count": 40,
   "id": "9506468e-f2e1-4682-9d94-d612aa71f28a",
   "metadata": {},
   "outputs": [
    {
     "name": "stderr",
     "output_type": "stream",
     "text": [
      "UsageError: Line magic function `%%timeit` not found.\n"
     ]
    }
   ],
   "source": [
    "#  3(loops) * 3(runs)로 총 9번 실행이 된다\n",
    "%%timeit -n 3 -r 3\n",
    "\n",
    "list(range(100))\n",
    "list(range(10000))\n",
    "list(range(1000000))\n",
    "list(range(100000000))"
   ]
  },
  {
   "cell_type": "code",
   "execution_count": 41,
   "id": "c26963fd-ad6b-468d-ab06-52a88ddcabde",
   "metadata": {},
   "outputs": [
    {
     "name": "stdout",
     "output_type": "stream",
     "text": [
      "12.7 µs ± 933 ns per loop (mean ± std. dev. of 3 runs, 3 loops each)\n"
     ]
    }
   ],
   "source": [
    "%timeit -n 3 -r 3 sum(range(1000))"
   ]
  },
  {
   "cell_type": "code",
   "execution_count": 42,
   "id": "bde4fdf6-4d49-4c4c-b8fc-64928c961eb7",
   "metadata": {},
   "outputs": [
    {
     "name": "stdout",
     "output_type": "stream",
     "text": [
      "6.5 µs ± 497 ns per loop (mean ± std. dev. of 3 runs, 1 loop each)\n"
     ]
    }
   ],
   "source": [
    "%timeit -n 1 -r 3 sum(range(1000))"
   ]
  },
  {
   "cell_type": "markdown",
   "id": "0eef5e1e-e9cf-4cad-9786-0f33f6d6e41d",
   "metadata": {},
   "source": [
    " - `-t` : 시간계산에 time.time 모듈을 사용하게 된다. Unix 시스템에서 디폴트값이다\n",
    " - `-c` : 시간계산에 time.clock 모듈을 사용하게 된다. Windows 시스템에서 디폴트값이다. Unix시스템에서 이 옵션을 주면 Wall time(사람이 인지할 수 있는 시간) 대신 CPU time으로 계산된다\n",
    " - `-p` : 소숫점 몇자리까지 표시되는지 설정할 수 있다. 디폴트값은 3이다\n",
    " - `-q` : Quiet, 즉 결과값이 출력되지 않는다\n",
    " - `-o` : 결과를 TimeitResult객체로 반환한다"
   ]
  }
 ],
 "metadata": {
  "kernelspec": {
   "display_name": "Python 3 (ipykernel)",
   "language": "python",
   "name": "python3"
  },
  "language_info": {
   "codemirror_mode": {
    "name": "ipython",
    "version": 3
   },
   "file_extension": ".py",
   "mimetype": "text/x-python",
   "name": "python",
   "nbconvert_exporter": "python",
   "pygments_lexer": "ipython3",
   "version": "3.9.13"
  }
 },
 "nbformat": 4,
 "nbformat_minor": 5
}
