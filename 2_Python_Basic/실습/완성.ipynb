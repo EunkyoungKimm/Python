{
 "cells": [
  {
   "cell_type": "markdown",
   "id": "0f1bb3a5-b494-479f-b76b-4d3d517a0e90",
   "metadata": {},
   "source": [
    "# 전체 소스"
   ]
  },
  {
   "cell_type": "code",
   "execution_count": 12,
   "id": "6ce905f9-900d-4e4b-a666-f9174ee51223",
   "metadata": {},
   "outputs": [
    {
     "name": "stdout",
     "output_type": "stream",
     "text": [
      "0명의 학생 정보가 있습니다.\n",
      "--------------------------------------------------\n",
      "1. 학생정보 입력\n",
      "2. 학생정보 검색\n",
      "3. 학생정보 출력\n",
      "4. 학생정보 파일 저장 및 불러오기\n",
      "5. 종료\n",
      "--------------------------------------------------\n"
     ]
    },
    {
     "name": "stdin",
     "output_type": "stream",
     "text": [
      "학생정보 관리. 메뉴를 선택하세요:  1\n"
     ]
    },
    {
     "name": "stdout",
     "output_type": "stream",
     "text": [
      "--------------------------------------------------\n"
     ]
    },
    {
     "name": "stdin",
     "output_type": "stream",
     "text": [
      "1. 이름:  홍\n",
      "2. 나이:  12\n",
      "3. 전화번호('-'를 붙여서):  45\n",
      "4. 주소:  서울\n",
      "5. 전공:  역사\n"
     ]
    },
    {
     "name": "stdout",
     "output_type": "stream",
     "text": [
      "--------------------------------------------------\n",
      "1명의 학생 정보가 있습니다.\n",
      "--------------------------------------------------\n",
      "1. 학생정보 입력\n",
      "2. 학생정보 검색\n",
      "3. 학생정보 출력\n",
      "4. 학생정보 파일 저장 및 불러오기\n",
      "5. 종료\n",
      "--------------------------------------------------\n"
     ]
    },
    {
     "name": "stdin",
     "output_type": "stream",
     "text": [
      "학생정보 관리. 메뉴를 선택하세요:  1\n"
     ]
    },
    {
     "name": "stdout",
     "output_type": "stream",
     "text": [
      "--------------------------------------------------\n"
     ]
    },
    {
     "name": "stdin",
     "output_type": "stream",
     "text": [
      "1. 이름:  김\n",
      "2. 나이:  13\n",
      "3. 전화번호('-'를 붙여서):  79\n",
      "4. 주소:  부산\n",
      "5. 전공:  불어\n"
     ]
    },
    {
     "name": "stdout",
     "output_type": "stream",
     "text": [
      "--------------------------------------------------\n",
      "2명의 학생 정보가 있습니다.\n",
      "--------------------------------------------------\n",
      "1. 학생정보 입력\n",
      "2. 학생정보 검색\n",
      "3. 학생정보 출력\n",
      "4. 학생정보 파일 저장 및 불러오기\n",
      "5. 종료\n",
      "--------------------------------------------------\n"
     ]
    },
    {
     "name": "stdin",
     "output_type": "stream",
     "text": [
      "학생정보 관리. 메뉴를 선택하세요:  4\n"
     ]
    },
    {
     "name": "stdout",
     "output_type": "stream",
     "text": [
      "--------------------------------------------------\n"
     ]
    },
    {
     "name": "stdin",
     "output_type": "stream",
     "text": [
      "검색 선택 - (1 저장, 2 불러오기, 3 이전으로 돌아가기):  1\n"
     ]
    },
    {
     "name": "stdout",
     "output_type": "stream",
     "text": [
      "--------------------------------------------------\n"
     ]
    },
    {
     "ename": "ValueError",
     "evalue": "I/O operation on closed file.",
     "output_type": "error",
     "traceback": [
      "\u001b[1;31m---------------------------------------------------------------------------\u001b[0m",
      "\u001b[1;31mValueError\u001b[0m                                Traceback (most recent call last)",
      "Cell \u001b[1;32mIn [12], line 112\u001b[0m\n\u001b[0;32m    110\u001b[0m     student_print()\n\u001b[0;32m    111\u001b[0m \u001b[38;5;28;01melif\u001b[39;00m choice \u001b[38;5;241m==\u001b[39m \u001b[38;5;241m4\u001b[39m:\n\u001b[1;32m--> 112\u001b[0m     \u001b[43mstudent_file\u001b[49m\u001b[43m(\u001b[49m\u001b[43m)\u001b[49m\n\u001b[0;32m    113\u001b[0m \u001b[38;5;28;01melif\u001b[39;00m choice \u001b[38;5;241m==\u001b[39m \u001b[38;5;241m5\u001b[39m:\n\u001b[0;32m    114\u001b[0m     \u001b[38;5;28;01mpass\u001b[39;00m\n",
      "Cell \u001b[1;32mIn [12], line 79\u001b[0m, in \u001b[0;36mstudent_file\u001b[1;34m()\u001b[0m\n\u001b[0;32m     77\u001b[0m     file\u001b[38;5;241m.\u001b[39mwrite(\u001b[38;5;124m'\u001b[39m\u001b[38;5;124m---------------------------------------------\u001b[39m\u001b[38;5;130;01m\\n\u001b[39;00m\u001b[38;5;124m'\u001b[39m)\n\u001b[0;32m     78\u001b[0m     \u001b[38;5;28;01mfor\u001b[39;00m key, value \u001b[38;5;129;01min\u001b[39;00m student_dict\u001b[38;5;241m.\u001b[39mitems():\n\u001b[1;32m---> 79\u001b[0m         \u001b[43mfile\u001b[49m\u001b[38;5;241;43m.\u001b[39;49m\u001b[43mwrite\u001b[49m\u001b[43m(\u001b[49m\u001b[38;5;124;43mf\u001b[39;49m\u001b[38;5;124;43m'\u001b[39;49m\u001b[38;5;132;43;01m{\u001b[39;49;00m\u001b[43mkey\u001b[49m\u001b[38;5;132;43;01m}\u001b[39;49;00m\u001b[38;5;124;43m,\u001b[39;49m\u001b[38;5;132;43;01m{\u001b[39;49;00m\u001b[43mvalue\u001b[49m\u001b[38;5;241;43m.\u001b[39;49m\u001b[43mname\u001b[49m\u001b[38;5;132;43;01m}\u001b[39;49;00m\u001b[38;5;124;43m,\u001b[39;49m\u001b[38;5;132;43;01m{\u001b[39;49;00m\u001b[43mvalue\u001b[49m\u001b[38;5;241;43m.\u001b[39;49m\u001b[43mage\u001b[49m\u001b[38;5;132;43;01m}\u001b[39;49;00m\u001b[38;5;124;43m,\u001b[39;49m\u001b[38;5;132;43;01m{\u001b[39;49;00m\u001b[43mvalue\u001b[49m\u001b[38;5;241;43m.\u001b[39;49m\u001b[43mphone\u001b[49m\u001b[38;5;132;43;01m}\u001b[39;49;00m\u001b[38;5;124;43m,\u001b[39;49m\u001b[38;5;132;43;01m{\u001b[39;49;00m\u001b[43mvalue\u001b[49m\u001b[38;5;241;43m.\u001b[39;49m\u001b[43maddress\u001b[49m\u001b[38;5;132;43;01m}\u001b[39;49;00m\u001b[38;5;124;43m,\u001b[39;49m\u001b[38;5;132;43;01m{\u001b[39;49;00m\u001b[43mvalue\u001b[49m\u001b[38;5;241;43m.\u001b[39;49m\u001b[43mmajor\u001b[49m\u001b[38;5;132;43;01m}\u001b[39;49;00m\u001b[38;5;130;43;01m\\n\u001b[39;49;00m\u001b[38;5;124;43m'\u001b[39;49m\u001b[43m)\u001b[49m\n\u001b[0;32m     80\u001b[0m         file\u001b[38;5;241m.\u001b[39mclose()\n\u001b[0;32m     82\u001b[0m \u001b[38;5;28;01melif\u001b[39;00m method \u001b[38;5;241m==\u001b[39m \u001b[38;5;241m2\u001b[39m:\n",
      "\u001b[1;31mValueError\u001b[0m: I/O operation on closed file."
     ]
    }
   ],
   "source": [
    "class Student:\n",
    "    student_number = 1\n",
    "    def __init__(self, name, age, phone, address, major):\n",
    "        self.name = name\n",
    "        self.age = age\n",
    "        self.phone = phone\n",
    "        self.address = address\n",
    "        self.major = major\n",
    "        Student.student_number += 1\n",
    "        \n",
    "def menu():\n",
    "    print(f'{Student.student_number - 1}명의 학생 정보가 있습니다.')\n",
    "    print('-'*50)\n",
    "    print('1. 학생정보 입력')\n",
    "    print('2. 학생정보 검색')\n",
    "    print('3. 학생정보 출력')\n",
    "    print('4. 학생정보 파일 저장 및 불러오기')\n",
    "    print('5. 종료')\n",
    "    print('-'*50)\n",
    "    choice = int(input('학생정보 관리. 메뉴를 선택하세요: '))\n",
    "    print('-'*50)\n",
    "    \n",
    "    return choice\n",
    "\n",
    "def student_register():\n",
    "    name = input('1. 이름: ')\n",
    "    age = input('2. 나이: ')\n",
    "    phone = input('3. 전화번호(\\'-\\'를 붙여서): ')\n",
    "    address = input('4. 주소: ')\n",
    "    major = input('5. 전공: ')\n",
    "    print('-'*50)\n",
    "    student_dict.update({Student.student_number: Student(name, age, phone, address, major)})\n",
    "    \n",
    "def student_search():\n",
    "    method = 0\n",
    "    while method != 3:\n",
    "        method = int(input('검색 선택 - (1 번호, 2 이름, 3 이전으로 돌아가기): '))\n",
    "        print('-'*50)\n",
    "        if method == 1:\n",
    "            stu_num = int(input('학생 번호를 입력하세요: '))\n",
    "            if stu_num in student_dict.keys():\n",
    "                print(f'{stu_num}: 이름: {student_dict[stu_num].name}, 나이: {student_dict[stu_num].age}세, 전화번호: {student_dict[stu_num].phone}, 주소: {student_dict[stu_num].address}, 전공: {student_dict[stu_num].major}')\n",
    "                print('-'*50)\n",
    "            else:\n",
    "                print('없는 학생 번호입니다.')\n",
    "                print('-'*50)\n",
    "        # 학생 이름으로 검색하는거 잘 안됨..\n",
    "        elif method == 2:\n",
    "            stu_name = input('학생 이름을 입력하세요: ')\n",
    "            count += 1\n",
    "            for key in student_dict:\n",
    "                if stu_name == student_dict[key].name:\n",
    "                    print(f'{key}: 이름: {student_dict[key].name}, 나이: {student_dict[key].age}세, 전화번호: {student_dict[key].phone}, 주소: {student_dict[key].address}, 전공: {student_dict[key].major}')\n",
    "                    print('-'*50)\n",
    "                else:\n",
    "                     if count == Student.student_number:\n",
    "                        print('해당 학생을 찾을 수 없습니다')\n",
    "                        print('-'*50)\n",
    "                     count += 1\n",
    "        elif method == 3:\n",
    "            pass\n",
    "        else:\n",
    "            print('잘못된 입력입니다')\n",
    "            \n",
    "def student_print():\n",
    "    for key in student_dict:\n",
    "        print(f'{key}: 이름: {student_dict[key].name}, 나이: {student_dict[key].age}세, 전화번호: {student_dict[key].phone}, 주소: {student_dict[key].address}, 전공: {student_dict[key].major}')\n",
    "        print('-'*50)\n",
    "        \n",
    "# 파일 저장 잘 안됨! 찾아서 스스로 해보기!\n",
    "def student_file():\n",
    "    method = 0\n",
    "    while method != 3:\n",
    "        method = int(input('검색 선택 - (1 저장, 2 불러오기, 3 이전으로 돌아가기): '))\n",
    "        print('-'*50)\n",
    "        if method == 1:\n",
    "            file = open('db.txt', 'wt')\n",
    "            file.write('번호,이름,나이,전공,전화번호,주소\\n')\n",
    "            file.write('---------------------------------------------\\n')\n",
    "            for key, value in student_dict.items():\n",
    "                file.write(f'{key},{value.name},{value.age},{value.phone},{value.address},{value.major}\\n')\n",
    "                file.close()\n",
    "                \n",
    "        elif method == 2:\n",
    "            file = open('db.txt', 'rt')\n",
    "            strings = file.read()\n",
    "            \n",
    "            # 모르겠음..\n",
    "            string = re.split(',|\\n', strings) # import re?!\n",
    "            student_total = int(len((string - 8) / 6))\n",
    "            for i in range(student_total):\n",
    "                student_dict[int(string[7 + 6 * i])] = Student(string[8+6*i], string[9+6*i], string[10+6*i], string[11+6*i], string[12+6*i])\n",
    "                Student.student_number = student_total + 1\n",
    "                file.close()\n",
    "                \n",
    "        elif method == 3:\n",
    "            pass\n",
    "        else:\n",
    "            print('잘못된 입력입니다.')\n",
    "            \n",
    "if __name__ == '__main__':\n",
    "    student_dict = {}\n",
    "    choice = 1\n",
    "    \n",
    "    while choice != 5:\n",
    "        choice = menu()\n",
    "        if choice == 1:\n",
    "            student_register()\n",
    "        elif choice == 2:\n",
    "            student_search()\n",
    "        elif choice == 3:\n",
    "            student_print()\n",
    "        elif choice == 4:\n",
    "            student_file()\n",
    "        elif choice == 5:\n",
    "            pass\n",
    "        else:\n",
    "            print('잘못된 입력입니다.')"
   ]
  },
  {
   "cell_type": "code",
   "execution_count": null,
   "id": "bb5bd418-90b1-4935-939b-b5d9b43df18a",
   "metadata": {},
   "outputs": [],
   "source": []
  }
 ],
 "metadata": {
  "kernelspec": {
   "display_name": "Python 3 (ipykernel)",
   "language": "python",
   "name": "python3"
  },
  "language_info": {
   "codemirror_mode": {
    "name": "ipython",
    "version": 3
   },
   "file_extension": ".py",
   "mimetype": "text/x-python",
   "name": "python",
   "nbconvert_exporter": "python",
   "pygments_lexer": "ipython3",
   "version": "3.9.13"
  }
 },
 "nbformat": 4,
 "nbformat_minor": 5
}
