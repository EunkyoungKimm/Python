{
 "cells": [
  {
   "cell_type": "markdown",
   "id": "f5d4cc3b-70f2-4639-8dcf-af1a67c42a60",
   "metadata": {},
   "source": [
    "## 연습) 아래 리스트 값에 대한 `-`값은 오름차순으로, `+`값을 내림차순으로 정렬하시오.\n",
    "   data = [-91,3,-9,5,8,-24,10,-12,-8,3,10,7,-6,34]"
   ]
  },
  {
   "cell_type": "code",
   "execution_count": 3,
   "id": "bbfb0e07-f6c8-457f-b22a-b031c5c6b427",
   "metadata": {},
   "outputs": [
    {
     "name": "stdout",
     "output_type": "stream",
     "text": [
      "[-91, -24, -12, -9, -8, -6]\n",
      "[34, 10, 10, 8, 7, 5, 3, 3]\n"
     ]
    }
   ],
   "source": [
    "data = [-91,3,-9,5,8,-24,10,-12,-8,3,10,7,-6,34]\n",
    "result_minus = []\n",
    "result_plus = []\n",
    "\n",
    "for i in data:\n",
    "    if i < 0:\n",
    "        result_minus.append(i)\n",
    "    else:\n",
    "        result_plus.append(i)\n",
    "        \n",
    "print(sorted(result_minus))\n",
    "print(sorted(result_plus, reverse = True))"
   ]
  },
  {
   "cell_type": "markdown",
   "id": "5269e983-63e3-461b-9c3a-5dc04c09e3db",
   "metadata": {
    "tags": []
   },
   "source": [
    "HTML 주석\n",
    "\n",
    "<!----\n",
    "\n",
    "### 연습) 아래 리스트 짝수번째 인덱스 앞에 -10을 추가하고 출력.\n",
    "   \n",
    "   data = [-91,3,-9,5,8,-24,10,-12,-8,3,10,7,-6,34]\n",
    "\n",
    "---->"
   ]
  },
  {
   "cell_type": "markdown",
   "id": "89ad015f-74e2-4e17-930a-ee4c93f25077",
   "metadata": {},
   "source": [
    "### 연습) 아래 리스트 짝수번째 인덱스 앞에 -10을 추가하고 출력.\n",
    "   \n",
    "   data = [-91,3,-9,5,8,-24,10,-12,-8,3,10,7,-6,34]\n"
   ]
  },
  {
   "cell_type": "code",
   "execution_count": 44,
   "id": "ff719cde-063a-4a65-972d-92e28d4d38ca",
   "metadata": {},
   "outputs": [
    {
     "data": {
      "text/plain": [
       "[-91,\n",
       " 3,\n",
       " -10,\n",
       " -9,\n",
       " -10,\n",
       " 5,\n",
       " -10,\n",
       " 8,\n",
       " -10,\n",
       " -24,\n",
       " -10,\n",
       " 10,\n",
       " -10,\n",
       " -12,\n",
       " -10,\n",
       " -8,\n",
       " -10,\n",
       " 3,\n",
       " -10,\n",
       " 10,\n",
       " -10,\n",
       " 7,\n",
       " -10,\n",
       " -6,\n",
       " -10,\n",
       " 34,\n",
       " -10]"
      ]
     },
     "execution_count": 44,
     "metadata": {},
     "output_type": "execute_result"
    }
   ],
   "source": [
    "data = [-91,3,-9,5,8,-24,10,-12,-8,3,10,7,-6,34] # 짝수번째 데이터, 홀수번째 데이터 저장하고..\n",
    "\n",
    "# insert하면 data가 느니까 data 다 돌려면 len(data) 값을 많이 늘려줘야 함 - '-10'이 들어가도 최대가 data길이 2배니까 *2하면 다 돌 수 있음\n",
    "for i in range(2, len(data)*2, 2): \n",
    "        data.insert(i, -10) # index번호를 넣는거임! data[i] 이렇게 하는게 아니라!\n",
    "    \n",
    "data"
   ]
  }
 ],
 "metadata": {
  "kernelspec": {
   "display_name": "Python 3 (ipykernel)",
   "language": "python",
   "name": "python3"
  },
  "language_info": {
   "codemirror_mode": {
    "name": "ipython",
    "version": 3
   },
   "file_extension": ".py",
   "mimetype": "text/x-python",
   "name": "python",
   "nbconvert_exporter": "python",
   "pygments_lexer": "ipython3",
   "version": "3.9.13"
  }
 },
 "nbformat": 4,
 "nbformat_minor": 5
}
