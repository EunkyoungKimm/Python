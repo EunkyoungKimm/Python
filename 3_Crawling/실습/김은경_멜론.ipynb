{
 "cells": [
  {
   "cell_type": "markdown",
   "id": "968d97f7-ca56-4697-9487-d8e96cddc6ea",
   "metadata": {},
   "source": [
    "# 최종"
   ]
  },
  {
   "cell_type": "code",
   "execution_count": 7,
   "id": "f27bf720-948e-4055-aaec-e1d6c6e7e61f",
   "metadata": {
    "tags": []
   },
   "outputs": [
    {
     "name": "stdout",
     "output_type": "stream",
     "text": [
      "멜론 음원 순위.csv 파일로 저장 완료했습니다!\n"
     ]
    }
   ],
   "source": [
    "def crawling():\n",
    "    import requests\n",
    "    from bs4 import BeautifulSoup\n",
    "    request_headers = {'User-Agent': ('Mozilla/5.0 (Macintosh; Intel Mac OS X 10_12_6) AppleWebKit/537.36 '\n",
    "                   '(KHTML, like Gecko) Chrome/58.0.3029.110 Safari/537.36')}\n",
    "    response = requests.get('https://www.melon.com/chart/index.htm', headers = request_headers)\n",
    "    if response.status_code == 200:\n",
    "        soup = BeautifulSoup(response.text, 'lxml')\n",
    "        song_infos1 = soup.select('tr[class=lst50]') \n",
    "        song_infos2 = soup.select('tr[class=lst100]')\n",
    "        song_infos = song_infos1 + song_infos2\n",
    "        \n",
    "        chart_lst = []\n",
    "        \n",
    "        for song_info in song_infos:\n",
    "            info_lst = [] # 한 곡의 정보\n",
    "            \n",
    "            # 순위\n",
    "            ranking = song_info.select('span.rank')[0].text # 'span.rank' / 'span[class=rank]' 다됨!!  / tag=span, class=rank(.) / id는(#)\n",
    "            info_lst.append(ranking)\n",
    "            # 가수\n",
    "            singer = song_info.select('div.ellipsis.rank02 >a')[0].text\n",
    "            info_lst.append(singer)\n",
    "            # 노래 제목\n",
    "            title = song_info.select('div.ellipsis.rank01 > span > a')[0].text\n",
    "            info_lst.append(title)\n",
    "            # 앨범\n",
    "            album = song_info.select('div.ellipsis.rank03 > a')[0].text\n",
    "            info_lst.append(album)\n",
    "            # 좋아요 수\n",
    "            like = song_info.select('span.cnt > span.none')[0].text\n",
    "            info_lst.append(like)\n",
    "            \n",
    "            chart_lst.append(info_lst)\n",
    "    return chart_lst\n",
    "            \n",
    "    \n",
    "    \n",
    "def save_csv(chart_lst, filename):\n",
    "    import csv\n",
    "    with open(f'data/{filename}.csv', 'w') as csvfile:\n",
    "        writer = csv.writer(csvfile)\n",
    "        writer.writerow(['순위','가수','노래제목','앨범'])\n",
    "        for idx in range(len(chart_lst)):\n",
    "            writer.writerow([chart_lst[idx][0], chart_lst[idx][1],\n",
    "                             chart_lst[idx][2],chart_lst[idx][3]])\n",
    "    return print(f'{filename}.csv 파일로 저장 완료했습니다!')\n",
    "\n",
    "\n",
    "\n",
    "def main():\n",
    "    crawling()\n",
    "    save_csv(crawling(), '멜론 음원 순위')\n",
    "    \n",
    "\n",
    "if __name__ == '__main__': # 실행되는 환경을 체크하는! > 파이썬이면 실행됨\n",
    "    main()"
   ]
  },
  {
   "cell_type": "markdown",
   "id": "aae33f38-93b5-468f-9a70-b846b792cd36",
   "metadata": {},
   "source": [
    "- 배운것!"
   ]
  },
  {
   "cell_type": "code",
   "execution_count": 7,
   "id": "3d366787-e0ee-463d-a7d0-f14b8d4d1226",
   "metadata": {
    "tags": []
   },
   "outputs": [
    {
     "name": "stdout",
     "output_type": "stream",
     "text": [
      "멜론 음원 순위.csv 파일로 저장 완료했습니다!\n"
     ]
    }
   ],
   "source": [
    "def crawling():\n",
    "    import requests\n",
    "    from bs4 import BeautifulSoup\n",
    "    # headers = {'User-Agent':'Mozilla/5.0'} 이렇게 간단하게 써도 되는 것도 많음!\n",
    "    request_headers = {'User-Agent': ('Mozilla/5.0 (Macintosh; Intel Mac OS X 10_12_6) AppleWebKit/537.36 ' \n",
    "                   '(KHTML, like Gecko) Chrome/58.0.3029.110 Safari/537.36')}\n",
    "    response = requests.get('https://www.melon.com/chart/index.htm', headers = request_headers)\n",
    "    if response.status_code == 200: # else인 경우\n",
    "        soup = BeautifulSoup(response.text, 'lxml')\n",
    "        song_infos1 = soup.select('tr[class=lst50]')\n",
    "        song_infos2 = soup.select('tr[class=lst100]')\n",
    "        song_infos = song_infos1 + song_infos2 # song_infos = [song_info1, song_info2] 이렇게 해도 똑같은 결과!\n",
    "        \n",
    "        chart_lst = []\n",
    "        \n",
    "        for song_info in song_infos:\n",
    "            info_lst = [] # 한 곡의 정보\n",
    "            \n",
    "            # 순위\n",
    "            ranking = song_info.select('span.rank')[0].text # 'span.rank' / 'span[class=rank]' 다됨!!  / tag=span, class=rank(.) / id는(#)\n",
    "            info_lst.append(ranking)\n",
    "            # 가수\n",
    "            singer = song_info.select('div.ellipsis.rank02 >a')[0].text\n",
    "            info_lst.append(singer)\n",
    "            # 노래 제목\n",
    "            title = song_info.select('div.ellipsis.rank01 > span > a')[0].text\n",
    "            info_lst.append(title)\n",
    "            # 앨범\n",
    "            album = song_info.select('div.ellipsis.rank03 > a')[0].text\n",
    "            info_lst.append(album)\n",
    "            # # 좋아요 수\n",
    "            # like = song_info.select('span.cnt > span.none')[0].text\n",
    "            # info_lst.append(like)\n",
    "            \n",
    "            chart_lst.append(info_lst)\n",
    "    return chart_lst\n",
    "            \n",
    "    \n",
    "    \n",
    "def save_csv(chart_lst, filename):\n",
    "    import csv\n",
    "    with open(f'data/{filename}.csv', 'w', newline='') as csvfile: # 개행문자 없애주기 newline = '' / encoding도 해주면 좋을듯\n",
    "        writer = csv.writer(csvfile)\n",
    "        writer.writerow(['순위','가수','노래제목','앨범'])\n",
    "        for idx in range(len(chart_lst)):\n",
    "            writer.writerow([chart_lst[idx][0], chart_lst[idx][1],\n",
    "                             chart_lst[idx][2],chart_lst[idx][3]])\n",
    "    return print(f'{filename}.csv 파일로 저장 완료했습니다!')\n",
    "\n",
    "\n",
    "\n",
    "def main():\n",
    "    result = crawling() # 이렇게 객체 받아서 이걸 넘겨주기!!\n",
    "    save_csv(result, '멜론 음원 순위')\n",
    "    \n",
    "\n",
    "if __name__ == '__main__': # 실행되는 환경을 체크하는! > 파이썬이면 실행됨\n",
    "    main()"
   ]
  }
 ],
 "metadata": {
  "kernelspec": {
   "display_name": "Python 3 (ipykernel)",
   "language": "python",
   "name": "python3"
  },
  "language_info": {
   "codemirror_mode": {
    "name": "ipython",
    "version": 3
   },
   "file_extension": ".py",
   "mimetype": "text/x-python",
   "name": "python",
   "nbconvert_exporter": "python",
   "pygments_lexer": "ipython3",
   "version": "3.9.13"
  }
 },
 "nbformat": 4,
 "nbformat_minor": 5
}
