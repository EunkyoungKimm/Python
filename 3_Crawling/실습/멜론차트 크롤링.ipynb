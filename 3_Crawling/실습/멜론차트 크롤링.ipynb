{
 "cells": [
  {
   "cell_type": "code",
   "execution_count": 1,
   "id": "81f7918b-0025-46f0-a3a9-a7cac5b83264",
   "metadata": {},
   "outputs": [],
   "source": [
    "from bs4 import BeautifulSoup\n",
    "import requests"
   ]
  },
  {
   "cell_type": "code",
   "execution_count": 2,
   "id": "d9ddc719-ca44-4d8c-9316-48a3eaec64c4",
   "metadata": {
    "tags": []
   },
   "outputs": [
    {
     "name": "stdout",
     "output_type": "stream",
     "text": [
      "Requirement already satisfied: bs4 in c:\\users\\user\\.venv\\second_day\\lib\\site-packages (0.0.1)\n",
      "Requirement already satisfied: html5lib in c:\\users\\user\\.venv\\second_day\\lib\\site-packages (1.1)\n",
      "Requirement already satisfied: lxml in c:\\users\\user\\.venv\\second_day\\lib\\site-packages (4.9.1)\n",
      "Requirement already satisfied: chardet in c:\\users\\user\\.venv\\second_day\\lib\\site-packages (5.0.0)\n",
      "Requirement already satisfied: beautifulsoup4 in c:\\users\\user\\.venv\\second_day\\lib\\site-packages (from bs4) (4.11.1)\n",
      "Requirement already satisfied: webencodings in c:\\users\\user\\.venv\\second_day\\lib\\site-packages (from html5lib) (0.5.1)\n",
      "Requirement already satisfied: six>=1.9 in c:\\users\\user\\.venv\\second_day\\lib\\site-packages (from html5lib) (1.16.0)\n",
      "Requirement already satisfied: soupsieve>1.2 in c:\\users\\user\\.venv\\second_day\\lib\\site-packages (from beautifulsoup4->bs4) (2.3.2.post1)\n"
     ]
    }
   ],
   "source": [
    "! pip install bs4 html5lib lxml chardet"
   ]
  },
  {
   "cell_type": "code",
   "execution_count": 11,
   "id": "a512a956-9870-4aa5-a9f2-93fbe29372c2",
   "metadata": {},
   "outputs": [],
   "source": [
    "# 매개변수 없는 버전\n",
    "\n",
    "def crawling_movie_ranking(): \n",
    "    # 원하는 날짜 입력받고 그만큼 크롤링 하기 / 띄어쓰기 공백으로 \n",
    "    dates = input('원하는 날짜를 입력하세요(ex. 20221121 / 여러 날짜일 경우 띄어쓰기로 구분):').split(' ')\n",
    "    \n",
    "    results = {}\n",
    "\n",
    "    for d in dates:\n",
    "        # Soup crawling\n",
    "        response = requests.get('https://movie.naver.com/movie/sdb/rank/rmovie.naver?sel=cnt&tg=0&date=' + d)\n",
    "        soup = BeautifulSoup(response.text, 'lxml')\n",
    "        # tit3 클래스\n",
    "        tags = soup.select('div[class=tit3]')\n",
    "\n",
    "        lists = []\n",
    "        for tag in tags:\n",
    "            # lists append\n",
    "            lists.append(tag.text.strip())\n",
    "        results[d] = lists\n",
    "    return results"
   ]
  },
  {
   "cell_type": "code",
   "execution_count": 12,
   "id": "b3aed214-cbbe-450e-b517-bc2a794056cf",
   "metadata": {
    "collapsed": true,
    "jupyter": {
     "outputs_hidden": true
    },
    "tags": []
   },
   "outputs": [
    {
     "name": "stdin",
     "output_type": "stream",
     "text": [
      "원하는 날짜를 입력하세요(ex. 20221121 / 여러 날짜일 경우 띄어쓰기로 구분): 20221203\n"
     ]
    },
    {
     "data": {
      "text/plain": [
       "{'20221203': ['올빼미',\n",
       "  '데시벨',\n",
       "  '압꾸정',\n",
       "  '탄생',\n",
       "  '블랙 팬서: 와칸다 포에버',\n",
       "  '원피스 필름 레드',\n",
       "  '아바타: 물의 길',\n",
       "  '동감',\n",
       "  '유포자들',\n",
       "  '리멤버',\n",
       "  '폴: 600미터',\n",
       "  '본즈 앤 올',\n",
       "  '오늘 밤, 세계에서 이 사랑이 사라진다 해도',\n",
       "  '에브리씽 에브리웨어 올 앳 원스',\n",
       "  '영웅',\n",
       "  '프레이 포 더 데블',\n",
       "  '한산 리덕스',\n",
       "  '스트레인지 월드',\n",
       "  '극장판 뽀로로와 친구들: 바이러스를 없애줘!',\n",
       "  '크리스마스 캐럴',\n",
       "  '더 메뉴',\n",
       "  '극장판 짱구는 못말려: 수수께끼! 꽃피는 천하떡잎학교',\n",
       "  '자백',\n",
       "  '헤이지니&럭키강이 비밀의 문',\n",
       "  '창밖은 겨울',\n",
       "  '헤어질 결심',\n",
       "  '세이레',\n",
       "  '젠틀맨',\n",
       "  '심야카페: 미씽 허니',\n",
       "  '아마겟돈 타임',\n",
       "  '블랙 아담',\n",
       "  '놈이 우리 안에 있다',\n",
       "  '통영에서의 하루',\n",
       "  '양자경의 더 모든 날 모든 순간',\n",
       "  '탑건: 매버릭',\n",
       "  '그녀가 말했다',\n",
       "  '공조2: 인터내셔날',\n",
       "  '양성인간',\n",
       "  '신비한 동물들과 덤블도어의 비밀',\n",
       "  '인생은 아름다워',\n",
       "  '고속도로 가족',\n",
       "  '기예르모 델토로의 피노키오',\n",
       "  '낮에는 덥고 밤에는 춥고',\n",
       "  '노웨어 스페셜',\n",
       "  '너와 사랑한 시간',\n",
       "  '청춘시련',\n",
       "  '대무가',\n",
       "  '한산: 용의 출현',\n",
       "  '검은 짐승',\n",
       "  '그 겨울, 나는']}"
      ]
     },
     "execution_count": 12,
     "metadata": {},
     "output_type": "execute_result"
    }
   ],
   "source": [
    "crawling_movie_ranking()"
   ]
  },
  {
   "cell_type": "code",
   "execution_count": null,
   "id": "7c237526-460b-4cf2-9937-1c78750b9dcd",
   "metadata": {},
   "outputs": [],
   "source": []
  },
  {
   "cell_type": "code",
   "execution_count": 15,
   "id": "3b5ab01e-10ab-4092-8fd5-bb01c4705ea3",
   "metadata": {},
   "outputs": [],
   "source": [
    "# 이거 뭐임........? 어케 함?"
   ]
  },
  {
   "cell_type": "code",
   "execution_count": 13,
   "id": "447e30d0-5dde-4d5b-9c1f-a2cf5529eae6",
   "metadata": {},
   "outputs": [],
   "source": [
    "def to_csv(results:dict, filename:str) : #data 전달받아 csv 파일 저장\n",
    "\n",
    "    import csv\n",
    "\n",
    "    with open(filename, 'w',) as csvfile:\n",
    "        spamwriter = csv.writer(csvfile)\n",
    "        spamwriter.writerow(['제목', '네티즌평점','참여','감독', '출연진'])  # 번호, 제목 : 헤더\n",
    "        # for\n",
    "        for idx in range(len(movie_list)):\n",
    "            spamwriter.writerow([movie_list[idx]['제목'],\n",
    "                                 movie_list[idx]['네티즌평점'],\n",
    "                                 movie_list[idx]['네티즌참여'],\n",
    "                                 movie_list[idx]['감독'],\n",
    "                                 movie_list[idx]['출연진']])\n",
    "    "
   ]
  },
  {
   "cell_type": "code",
   "execution_count": 14,
   "id": "6af78fb2-2a30-4fe8-b80d-748ab00e2c8a",
   "metadata": {},
   "outputs": [
    {
     "ename": "NameError",
     "evalue": "name 'movie_list' is not defined",
     "output_type": "error",
     "traceback": [
      "\u001b[1;31m---------------------------------------------------------------------------\u001b[0m",
      "\u001b[1;31mNameError\u001b[0m                                 Traceback (most recent call last)",
      "Cell \u001b[1;32mIn [14], line 1\u001b[0m\n\u001b[1;32m----> 1\u001b[0m \u001b[43mto_csv\u001b[49m\u001b[43m(\u001b[49m\u001b[43mresults\u001b[49m\u001b[43m,\u001b[49m\u001b[43m \u001b[49m\u001b[38;5;124;43m'\u001b[39;49m\u001b[38;5;124;43mmelon_crawling\u001b[39;49m\u001b[38;5;124;43m'\u001b[39;49m\u001b[43m)\u001b[49m\n",
      "Cell \u001b[1;32mIn [13], line 9\u001b[0m, in \u001b[0;36mto_csv\u001b[1;34m(results, filename)\u001b[0m\n\u001b[0;32m      7\u001b[0m spamwriter\u001b[38;5;241m.\u001b[39mwriterow([\u001b[38;5;124m'\u001b[39m\u001b[38;5;124m제목\u001b[39m\u001b[38;5;124m'\u001b[39m, \u001b[38;5;124m'\u001b[39m\u001b[38;5;124m네티즌평점\u001b[39m\u001b[38;5;124m'\u001b[39m,\u001b[38;5;124m'\u001b[39m\u001b[38;5;124m참여\u001b[39m\u001b[38;5;124m'\u001b[39m,\u001b[38;5;124m'\u001b[39m\u001b[38;5;124m감독\u001b[39m\u001b[38;5;124m'\u001b[39m, \u001b[38;5;124m'\u001b[39m\u001b[38;5;124m출연진\u001b[39m\u001b[38;5;124m'\u001b[39m])  \u001b[38;5;66;03m# 번호, 제목 : 헤더\u001b[39;00m\n\u001b[0;32m      8\u001b[0m \u001b[38;5;66;03m# for\u001b[39;00m\n\u001b[1;32m----> 9\u001b[0m \u001b[38;5;28;01mfor\u001b[39;00m idx \u001b[38;5;129;01min\u001b[39;00m \u001b[38;5;28mrange\u001b[39m(\u001b[38;5;28mlen\u001b[39m(\u001b[43mmovie_list\u001b[49m)):\n\u001b[0;32m     10\u001b[0m     spamwriter\u001b[38;5;241m.\u001b[39mwriterow([movie_list[idx][\u001b[38;5;124m'\u001b[39m\u001b[38;5;124m제목\u001b[39m\u001b[38;5;124m'\u001b[39m],\n\u001b[0;32m     11\u001b[0m                          movie_list[idx][\u001b[38;5;124m'\u001b[39m\u001b[38;5;124m네티즌평점\u001b[39m\u001b[38;5;124m'\u001b[39m],\n\u001b[0;32m     12\u001b[0m                          movie_list[idx][\u001b[38;5;124m'\u001b[39m\u001b[38;5;124m네티즌참여\u001b[39m\u001b[38;5;124m'\u001b[39m],\n\u001b[0;32m     13\u001b[0m                          movie_list[idx][\u001b[38;5;124m'\u001b[39m\u001b[38;5;124m감독\u001b[39m\u001b[38;5;124m'\u001b[39m],\n\u001b[0;32m     14\u001b[0m                          movie_list[idx][\u001b[38;5;124m'\u001b[39m\u001b[38;5;124m출연진\u001b[39m\u001b[38;5;124m'\u001b[39m]])\n",
      "\u001b[1;31mNameError\u001b[0m: name 'movie_list' is not defined"
     ]
    }
   ],
   "source": [
    "to_csv(results, 'melon_crawling')"
   ]
  },
  {
   "cell_type": "code",
   "execution_count": null,
   "id": "2a223738-cab5-43e1-b26a-277a8ac21128",
   "metadata": {},
   "outputs": [],
   "source": []
  },
  {
   "cell_type": "code",
   "execution_count": null,
   "id": "64b16018-353b-451e-9eab-b4d7037a6627",
   "metadata": {},
   "outputs": [],
   "source": []
  },
  {
   "cell_type": "code",
   "execution_count": null,
   "id": "7b225436-7d17-40be-ba7d-e276183848f0",
   "metadata": {},
   "outputs": [],
   "source": []
  },
  {
   "cell_type": "code",
   "execution_count": null,
   "id": "5f4c4b4d-7447-4844-8d5b-e1dcc2fbaeb5",
   "metadata": {},
   "outputs": [],
   "source": []
  },
  {
   "cell_type": "code",
   "execution_count": null,
   "id": "b0fde9a7-e3e1-4165-911b-71be611f7a4f",
   "metadata": {},
   "outputs": [],
   "source": []
  },
  {
   "cell_type": "code",
   "execution_count": null,
   "id": "aabafe81-1360-4625-94f2-b7a0f641d02d",
   "metadata": {},
   "outputs": [],
   "source": []
  },
  {
   "cell_type": "code",
   "execution_count": null,
   "id": "d5b817cc-d0c1-434b-be07-b9fc677a72d4",
   "metadata": {},
   "outputs": [],
   "source": []
  },
  {
   "cell_type": "code",
   "execution_count": null,
   "id": "cbff3702-daae-4ac8-89bd-66e695ce7bff",
   "metadata": {},
   "outputs": [],
   "source": []
  },
  {
   "cell_type": "code",
   "execution_count": null,
   "id": "1ddd0039-6683-45d4-90ce-05ee098a363d",
   "metadata": {},
   "outputs": [],
   "source": []
  },
  {
   "cell_type": "code",
   "execution_count": 8,
   "id": "a0375954-cbc3-4336-8eef-794c07a28cca",
   "metadata": {
    "tags": []
   },
   "outputs": [],
   "source": [
    "# 딕셔너리에 넣었음!\n",
    "\n",
    "dates = ['20221121', '20221120', '20221119', '20221118', '20221117']\n",
    "\n",
    "results = {}\n",
    "\n",
    "\n",
    "for d in dates:\n",
    "    # Soup crawling\n",
    "    response = requests.get('https://movie.naver.com/movie/sdb/rank/rmovie.naver?sel=cnt&tg=0&date=' + d)\n",
    "    soup = BeautifulSoup(response.text, 'lxml')\n",
    "    # tit3 클래스\n",
    "    tags = soup.select('div[class=tit3]')\n",
    "    \n",
    "    lists = []\n",
    "    for tag in tags:\n",
    "        # lists append\n",
    "        lists.append(tag.text.strip())\n",
    "    results[d] = lists"
   ]
  },
  {
   "cell_type": "code",
   "execution_count": 9,
   "id": "c327b486-da90-4109-bd68-406bfbeb6d50",
   "metadata": {
    "collapsed": true,
    "jupyter": {
     "outputs_hidden": true
    },
    "tags": []
   },
   "outputs": [
    {
     "name": "stdout",
     "output_type": "stream",
     "text": [
      "{'20221121': ['블랙 팬서: 와칸다 포에버', '데시벨', '동감', '자백', '올빼미', '폴: 600미터', '에브리씽 에브리웨어 올 앳 원스', '블랙 아담', '한산 리덕스', '인생은 아름다워', '리멤버', '옆집사람', '고속도로 가족', '압꾸정', '극장판 짱구는 못말려: 수수께끼! 꽃피는 천하떡잎학교', '유포자들', '심야카페: 미씽 허니', '파이어버드', '영웅', '탄생', '스트레인지 월드', '주연', '양자경의 더 모든 날 모든 순간', '공조2: 인터내셔날', '킹덤2: 아득한 대지로', '아바타: 물의 길', '아인보: 아마존의 전설', '낮과 달', '원피스 필름 레드', '오늘 밤, 세계에서 이 사랑이 사라진다 해도', '블로우백', '늑대사냥', '탑건: 매버릭', '헤어질 결심', '비상선언', '아마겟돈 타임', '범죄도시2', '노웨어 스페셜', '같은 속옷을 입는 두 여자', '스마일', '한산: 용의 출현', '세이레', '놈이 우리 안에 있다', '본즈 앤 올', '가재가 노래하는 곳', '극장판 소드 아트 온라인 -프로그레시브- 짙은 어둠의 스케르초', '맨 온 엣지', '트랜스', '오마이키스', '초선'], '20221120': ['블랙 팬서: 와칸다 포에버', '데시벨', '자백', '동감', '에브리씽 에브리웨어 올 앳 원스', '블랙 아담', '올빼미', '폴: 600미터', '리멤버', '한산 리덕스', '인생은 아름다워', '옆집사람', '고속도로 가족', '극장판 짱구는 못말려: 수수께끼! 꽃피는 천하떡잎학교', '압꾸정', '유포자들', '심야카페: 미씽 허니', '킹덤2: 아득한 대지로', '아바타: 물의 길', '스트레인지 월드', '탄생', '공조2: 인터내셔날', '영웅', '파이어버드', '주연', '원피스 필름 레드', '탑건: 매버릭', '늑대사냥', '아인보: 아마존의 전설', '극장판 소드 아트 온라인 -프로그레시브- 짙은 어둠의 스케르초', '헤어질 결심', '같은 속옷을 입는 두 여자', '양자경의 더 모든 날 모든 순간', '낮과 달', '오늘 밤, 세계에서 이 사랑이 사라진다 해도', '범죄도시2', '아마겟돈 타임', '블로우백', '본즈 앤 올', '비상선언', '스마일', '가재가 노래하는 곳', '노웨어 스페셜', '한산: 용의 출현', '초선', '세이레', '명탐정 코난: 할로윈의 신부', '신비한 동물들과 덤블도어의 비밀', '바르도, 약간의 진실을 섞은 거짓된 연대기', '유령'], '20221119': ['블랙 팬서: 와칸다 포에버', '데시벨', '자백', '동감', '블랙 아담', '에브리씽 에브리웨어 올 앳 원스', '올빼미', '폴: 600미터', '리멤버', '한산 리덕스', '인생은 아름다워', '고속도로 가족', '극장판 짱구는 못말려: 수수께끼! 꽃피는 천하떡잎학교', '옆집사람', '압꾸정', '유포자들', '공조2: 인터내셔날', '심야카페: 미씽 허니', '킹덤2: 아득한 대지로', '스트레인지 월드', '탄생', '아바타: 물의 길', '영웅', '늑대사냥', '파이어버드', '헤어질 결심', '같은 속옷을 입는 두 여자', '탑건: 매버릭', '원피스 필름 레드', '아인보: 아마존의 전설', '극장판 소드 아트 온라인 -프로그레시브- 짙은 어둠의 스케르초', '범죄도시2', '아마겟돈 타임', '본즈 앤 올', '주연', '비상선언', '가재가 노래하는 곳', '낮과 달', '오늘 밤, 세계에서 이 사랑이 사라진다 해도', '스마일', '한산: 용의 출현', '블로우백', '양자경의 더 모든 날 모든 순간', '초선', '노웨어 스페셜', '극장판 뽀로로와 친구들: 바이러스를 없애줘!', '내 친한 친구의 아침식사', '미혹', '악에 바쳐', '명탐정 코난: 할로윈의 신부'], '20221118': ['블랙 팬서: 와칸다 포에버', '데시벨', '자백', '블랙 아담', '동감', '에브리씽 에브리웨어 올 앳 원스', '올빼미', '리멤버', '폴: 600미터', '인생은 아름다워', '한산 리덕스', '극장판 짱구는 못말려: 수수께끼! 꽃피는 천하떡잎학교', '고속도로 가족', '압꾸정', '옆집사람', '유포자들', '공조2: 인터내셔날', '심야카페: 미씽 허니', '킹덤2: 아득한 대지로', '스트레인지 월드', '아바타: 물의 길', '탄생', '늑대사냥', '같은 속옷을 입는 두 여자', '영웅', '극장판 소드 아트 온라인 -프로그레시브- 짙은 어둠의 스케르초', '헤어질 결심', '탑건: 매버릭', '원피스 필름 레드', '파이어버드', '아인보: 아마존의 전설', '악에 바쳐', '본즈 앤 올', '가재가 노래하는 곳', '내 친한 친구의 아침식사', '범죄도시2', '비상선언', '아마겟돈 타임', '미혹', '스마일', '오늘 밤, 세계에서 이 사랑이 사라진다 해도', '초선', '노웨어 스페셜', '도그', '헌트', '극장판 뽀로로와 친구들: 바이러스를 없애줘!', '낮과 달', '대무가', '한산: 용의 출현', '주연'], '20221117': ['블랙 팬서: 와칸다 포에버', '자백', '데시벨', '블랙 아담', '에브리씽 에브리웨어 올 앳 원스', '동감', '리멤버', '올빼미', '인생은 아름다워', '한산 리덕스', '폴: 600미터', '극장판 짱구는 못말려: 수수께끼! 꽃피는 천하떡잎학교', '고속도로 가족', '공조2: 인터내셔날', '같은 속옷을 입는 두 여자', '압꾸정', '악에 바쳐', '유포자들', '킹덤2: 아득한 대지로', '심야카페: 미씽 허니', '탄생', '옆집사람', '늑대사냥', '극장판 소드 아트 온라인 -프로그레시브- 짙은 어둠의 스케르초', '스트레인지 월드', '아바타: 물의 길', '탑건: 매버릭', '영웅', '미혹', '헤어질 결심', '가재가 노래하는 곳', '원피스 필름 레드', '내 친한 친구의 아침식사', '대무가', '본즈 앤 올', '아인보: 아마존의 전설', '극장판 뽀로로와 친구들: 바이러스를 없애줘!', '파이어버드', '비상선언', '헌트', '초선', '범죄도시2', '첫번째 아이', '오늘 밤, 세계에서 이 사랑이 사라진다 해도', '스마일', '아마겟돈 타임', '알카라스의 여름', '도그', '유령', '노웨어 스페셜']}\n"
     ]
    }
   ],
   "source": [
    "print(results)"
   ]
  },
  {
   "cell_type": "code",
   "execution_count": null,
   "id": "6b01f1f8-f350-41c6-886e-c5a536aa7b29",
   "metadata": {},
   "outputs": [],
   "source": []
  }
 ],
 "metadata": {
  "kernelspec": {
   "display_name": "Python 3 (ipykernel)",
   "language": "python",
   "name": "python3"
  },
  "language_info": {
   "codemirror_mode": {
    "name": "ipython",
    "version": 3
   },
   "file_extension": ".py",
   "mimetype": "text/x-python",
   "name": "python",
   "nbconvert_exporter": "python",
   "pygments_lexer": "ipython3",
   "version": "3.9.13"
  }
 },
 "nbformat": 4,
 "nbformat_minor": 5
}
