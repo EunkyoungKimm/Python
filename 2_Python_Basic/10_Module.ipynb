{
 "cells": [
  {
   "cell_type": "markdown",
   "id": "0b7888ec-44db-4761-b998-7ec77a92154c",
   "metadata": {},
   "source": [
    "# Module"
   ]
  },
  {
   "cell_type": "code",
   "execution_count": 1,
   "id": "5a5ed938-26ae-465e-94c9-5d10bf6f3736",
   "metadata": {},
   "outputs": [],
   "source": [
    "import os"
   ]
  },
  {
   "cell_type": "code",
   "execution_count": 2,
   "id": "0f7c913b-1d5b-4543-8e47-3f136fecdcca",
   "metadata": {
    "collapsed": true,
    "jupyter": {
     "outputs_hidden": true
    },
    "tags": []
   },
   "outputs": [
    {
     "data": {
      "text/plain": [
       "environ{'ALLUSERSPROFILE': 'C:\\\\ProgramData',\n",
       "        'APPDATA': 'C:\\\\Users\\\\User\\\\AppData\\\\Roaming',\n",
       "        'CHOCOLATEYINSTALL': 'C:\\\\ProgramData\\\\chocolatey',\n",
       "        'CHOCOLATEYLASTPATHUPDATE': '133058665946215263',\n",
       "        'COMMONPROGRAMFILES': 'C:\\\\Program Files\\\\Common Files',\n",
       "        'COMMONPROGRAMFILES(X86)': 'C:\\\\Program Files (x86)\\\\Common Files',\n",
       "        'COMMONPROGRAMW6432': 'C:\\\\Program Files\\\\Common Files',\n",
       "        'COMPUTERNAME': 'DESKTOP-4MGSVOR',\n",
       "        'COMSPEC': 'C:\\\\Windows\\\\system32\\\\cmd.exe',\n",
       "        'DRIVERDATA': 'C:\\\\Windows\\\\System32\\\\Drivers\\\\DriverData',\n",
       "        'FPS_BROWSER_APP_PROFILE_STRING': 'Internet Explorer',\n",
       "        'FPS_BROWSER_USER_PROFILE_STRING': 'Default',\n",
       "        'HOMEDRIVE': 'C:',\n",
       "        'HOMEPATH': '\\\\Users\\\\User',\n",
       "        'INTELLIJ IDEA COMMUNITY EDITION': 'C:\\\\Program Files\\\\JetBrains\\\\IntelliJ IDEA Community Edition 2022.1.1\\\\bin;',\n",
       "        'LOCALAPPDATA': 'C:\\\\Users\\\\User\\\\AppData\\\\Local',\n",
       "        'LOGONSERVER': '\\\\\\\\DESKTOP-4MGSVOR',\n",
       "        'NUMBER_OF_PROCESSORS': '8',\n",
       "        'ONEDRIVE': 'C:\\\\Users\\\\User\\\\OneDrive',\n",
       "        'OS': 'Windows_NT',\n",
       "        'PATH': 'C:\\\\Users\\\\User\\\\.venv\\\\Second_Day\\\\Scripts;C:\\\\Windows\\\\system32;C:\\\\Windows;C:\\\\Windows\\\\System32\\\\Wbem;C:\\\\Windows\\\\System32\\\\WindowsPowerShell\\\\v1.0\\\\;C:\\\\Windows\\\\System32\\\\OpenSSH\\\\;C:\\\\Program Files\\\\Git\\\\cmd;C:\\\\Program Files\\\\nodejs\\\\;C:\\\\ProgramData\\\\chocolatey\\\\bin;C:\\\\Users\\\\User\\\\.pyenv\\\\pyenv-win\\\\bin;C:\\\\Users\\\\User\\\\.pyenv\\\\pyenv-win\\\\shims;C:\\\\Users\\\\User\\\\AppData\\\\Local\\\\Programs\\\\Python\\\\Python310\\\\Scripts\\\\;C:\\\\Users\\\\User\\\\AppData\\\\Local\\\\Programs\\\\Python\\\\Python310\\\\;C:\\\\Users\\\\User\\\\anaconda3;C:\\\\Users\\\\User\\\\anaconda3\\\\Library\\\\mingw-w64\\\\bin;C:\\\\Users\\\\User\\\\anaconda3\\\\Library\\\\usr\\\\bin;C:\\\\Users\\\\User\\\\anaconda3\\\\Library\\\\bin;C:\\\\Users\\\\User\\\\anaconda3\\\\Scripts;C:\\\\Users\\\\User\\\\AppData\\\\Local\\\\Programs\\\\Python\\\\Python39\\\\Scripts\\\\;C:\\\\Users\\\\User\\\\AppData\\\\Local\\\\Programs\\\\Python\\\\Python39\\\\;C:\\\\Users\\\\User\\\\AppData\\\\Local\\\\Microsoft\\\\WindowsApps;C:\\\\Program Files\\\\JetBrains\\\\PyCharm Community Edition 2021.1.1\\\\bin;C:\\\\Program Files\\\\JetBrains\\\\PyCharm 2021.3\\\\bin;C:\\\\Users\\\\User\\\\AppData\\\\Local\\\\afreeca;C:\\\\Program Files\\\\JetBrains\\\\IntelliJ IDEA Community Edition 2022.1.1\\\\bin;C:\\\\Users\\\\User\\\\AppData\\\\Local\\\\Programs\\\\Microsoft VS Code\\\\bin;C:\\\\Users\\\\User\\\\AppData\\\\Roaming\\\\npm',\n",
       "        'PATHEXT': '.COM;.EXE;.BAT;.CMD;.VBS;.VBE;.JS;.JSE;.WSF;.WSH;.MSC;.CPL',\n",
       "        'PROCESSOR_ARCHITECTURE': 'AMD64',\n",
       "        'PROCESSOR_IDENTIFIER': 'Intel64 Family 6 Model 140 Stepping 1, GenuineIntel',\n",
       "        'PROCESSOR_LEVEL': '6',\n",
       "        'PROCESSOR_REVISION': '8c01',\n",
       "        'PROGRAMDATA': 'C:\\\\ProgramData',\n",
       "        'PROGRAMFILES': 'C:\\\\Program Files',\n",
       "        'PROGRAMFILES(X86)': 'C:\\\\Program Files (x86)',\n",
       "        'PROGRAMW6432': 'C:\\\\Program Files',\n",
       "        'PSMODULEPATH': 'C:\\\\Users\\\\User\\\\Documents\\\\WindowsPowerShell\\\\Modules;C:\\\\Program Files\\\\WindowsPowerShell\\\\Modules;C:\\\\Windows\\\\system32\\\\WindowsPowerShell\\\\v1.0\\\\Modules',\n",
       "        'PUBLIC': 'C:\\\\Users\\\\Public',\n",
       "        'PYCHARM': 'C:\\\\Program Files\\\\JetBrains\\\\PyCharm 2021.3\\\\bin;',\n",
       "        'PYCHARM COMMUNITY EDITION': 'C:\\\\Program Files\\\\JetBrains\\\\PyCharm Community Edition 2021.1.1\\\\bin;',\n",
       "        'PYENV': 'C:\\\\Users\\\\User\\\\.pyenv\\\\pyenv-win\\\\',\n",
       "        'PYENV_HOME': 'C:\\\\Users\\\\User\\\\.pyenv\\\\pyenv-win\\\\',\n",
       "        'PYENV_ROOT': 'C:\\\\Users\\\\User\\\\.pyenv\\\\pyenv-win\\\\',\n",
       "        'SESSIONNAME': 'Console',\n",
       "        'SYSTEMDRIVE': 'C:',\n",
       "        'SYSTEMROOT': 'C:\\\\Windows',\n",
       "        'TEMP': 'C:\\\\Users\\\\User\\\\AppData\\\\Local\\\\Temp',\n",
       "        'TMP': 'C:\\\\Users\\\\User\\\\AppData\\\\Local\\\\Temp',\n",
       "        'USERDOMAIN': 'DESKTOP-4MGSVOR',\n",
       "        'USERDOMAIN_ROAMINGPROFILE': 'DESKTOP-4MGSVOR',\n",
       "        'USERNAME': 'User',\n",
       "        'USERPROFILE': 'C:\\\\Users\\\\User',\n",
       "        'VIRTUAL_ENV': 'C:\\\\Users\\\\User\\\\.venv\\\\Second_Day',\n",
       "        'WINDIR': 'C:\\\\Windows',\n",
       "        '_OLD_VIRTUAL_PATH': 'C:\\\\Windows\\\\system32;C:\\\\Windows;C:\\\\Windows\\\\System32\\\\Wbem;C:\\\\Windows\\\\System32\\\\WindowsPowerShell\\\\v1.0\\\\;C:\\\\Windows\\\\System32\\\\OpenSSH\\\\;C:\\\\Program Files\\\\Git\\\\cmd;C:\\\\Program Files\\\\nodejs\\\\;C:\\\\ProgramData\\\\chocolatey\\\\bin;C:\\\\Users\\\\User\\\\.pyenv\\\\pyenv-win\\\\bin;C:\\\\Users\\\\User\\\\.pyenv\\\\pyenv-win\\\\shims;C:\\\\Users\\\\User\\\\AppData\\\\Local\\\\Programs\\\\Python\\\\Python310\\\\Scripts\\\\;C:\\\\Users\\\\User\\\\AppData\\\\Local\\\\Programs\\\\Python\\\\Python310\\\\;C:\\\\Users\\\\User\\\\anaconda3;C:\\\\Users\\\\User\\\\anaconda3\\\\Library\\\\mingw-w64\\\\bin;C:\\\\Users\\\\User\\\\anaconda3\\\\Library\\\\usr\\\\bin;C:\\\\Users\\\\User\\\\anaconda3\\\\Library\\\\bin;C:\\\\Users\\\\User\\\\anaconda3\\\\Scripts;C:\\\\Users\\\\User\\\\AppData\\\\Local\\\\Programs\\\\Python\\\\Python39\\\\Scripts\\\\;C:\\\\Users\\\\User\\\\AppData\\\\Local\\\\Programs\\\\Python\\\\Python39\\\\;C:\\\\Users\\\\User\\\\AppData\\\\Local\\\\Microsoft\\\\WindowsApps;C:\\\\Program Files\\\\JetBrains\\\\PyCharm Community Edition 2021.1.1\\\\bin;C:\\\\Program Files\\\\JetBrains\\\\PyCharm 2021.3\\\\bin;C:\\\\Users\\\\User\\\\AppData\\\\Local\\\\afreeca;C:\\\\Program Files\\\\JetBrains\\\\IntelliJ IDEA Community Edition 2022.1.1\\\\bin;C:\\\\Users\\\\User\\\\AppData\\\\Local\\\\Programs\\\\Microsoft VS Code\\\\bin;C:\\\\Users\\\\User\\\\AppData\\\\Roaming\\\\npm',\n",
       "        'JPY_SESSION_NAME': 'week2/a713438f-8407-46b6-a95b-dddef8d11ad1',\n",
       "        'JPY_INTERRUPT_EVENT': '3052',\n",
       "        'IPY_INTERRUPT_EVENT': '3052',\n",
       "        'JPY_PARENT_PID': '2320',\n",
       "        'TERM': 'xterm-color',\n",
       "        'CLICOLOR': '1',\n",
       "        'PAGER': 'cat',\n",
       "        'GIT_PAGER': 'cat',\n",
       "        'MPLBACKEND': 'module://matplotlib_inline.backend_inline'}"
      ]
     },
     "execution_count": 2,
     "metadata": {},
     "output_type": "execute_result"
    }
   ],
   "source": [
    "os.environ"
   ]
  },
  {
   "cell_type": "code",
   "execution_count": 3,
   "id": "4310a570-96dc-4c56-9b65-b5d4d1b17399",
   "metadata": {},
   "outputs": [
    {
     "ename": "ModuleNotFoundError",
     "evalue": "No module named 'add'",
     "output_type": "error",
     "traceback": [
      "\u001b[1;31m---------------------------------------------------------------------------\u001b[0m",
      "\u001b[1;31mModuleNotFoundError\u001b[0m                       Traceback (most recent call last)",
      "Cell \u001b[1;32mIn [3], line 1\u001b[0m\n\u001b[1;32m----> 1\u001b[0m \u001b[38;5;28;01mimport\u001b[39;00m \u001b[38;5;21;01madd\u001b[39;00m\n",
      "\u001b[1;31mModuleNotFoundError\u001b[0m: No module named 'add'"
     ]
    }
   ],
   "source": [
    "import add"
   ]
  },
  {
   "cell_type": "code",
   "execution_count": 4,
   "id": "6ffc20ce-ba5a-427c-996b-a1ce9c9dd1cf",
   "metadata": {},
   "outputs": [],
   "source": [
    "import sys"
   ]
  },
  {
   "cell_type": "code",
   "execution_count": 5,
   "id": "f4ae917c-d7be-404b-b2cd-03055c065c84",
   "metadata": {},
   "outputs": [
    {
     "data": {
      "text/plain": [
       "['C:\\\\Users\\\\User\\\\Jupyter_Python\\\\week2',\n",
       " 'C:\\\\Users\\\\User\\\\.pyenv\\\\pyenv-win\\\\versions\\\\3.9.13\\\\python39.zip',\n",
       " 'C:\\\\Users\\\\User\\\\.pyenv\\\\pyenv-win\\\\versions\\\\3.9.13\\\\DLLs',\n",
       " 'C:\\\\Users\\\\User\\\\.pyenv\\\\pyenv-win\\\\versions\\\\3.9.13\\\\lib',\n",
       " 'C:\\\\Users\\\\User\\\\.pyenv\\\\pyenv-win\\\\versions\\\\3.9.13',\n",
       " 'C:\\\\Users\\\\User\\\\.venv\\\\Second_Day',\n",
       " '',\n",
       " 'C:\\\\Users\\\\User\\\\.venv\\\\Second_Day\\\\lib\\\\site-packages',\n",
       " 'C:\\\\Users\\\\User\\\\.venv\\\\Second_Day\\\\lib\\\\site-packages\\\\win32',\n",
       " 'C:\\\\Users\\\\User\\\\.venv\\\\Second_Day\\\\lib\\\\site-packages\\\\win32\\\\lib',\n",
       " 'C:\\\\Users\\\\User\\\\.venv\\\\Second_Day\\\\lib\\\\site-packages\\\\Pythonwin']"
      ]
     },
     "execution_count": 5,
     "metadata": {},
     "output_type": "execute_result"
    }
   ],
   "source": [
    "sys.path # 여기에 나타난게 없는 곳에 있는 모듈은 못씀!"
   ]
  },
  {
   "cell_type": "code",
   "execution_count": 6,
   "id": "50f8c3bf-5522-4785-b4f9-4c7af5f7fb3a",
   "metadata": {},
   "outputs": [],
   "source": [
    "import sys as system"
   ]
  },
  {
   "cell_type": "code",
   "execution_count": 7,
   "id": "bea2dfdc-50bb-4158-aa62-f72be9875915",
   "metadata": {},
   "outputs": [
    {
     "data": {
      "text/plain": [
       "module"
      ]
     },
     "execution_count": 7,
     "metadata": {},
     "output_type": "execute_result"
    }
   ],
   "source": [
    "type(system)"
   ]
  },
  {
   "cell_type": "code",
   "execution_count": null,
   "id": "98700ba9-4bb1-4bff-a223-06e1745251f6",
   "metadata": {},
   "outputs": [],
   "source": []
  },
  {
   "cell_type": "markdown",
   "id": "5c2fff76-0c33-4ed8-8080-3ee8e9a34bdb",
   "metadata": {},
   "source": [
    "## 간단한 모듈"
   ]
  },
  {
   "cell_type": "code",
   "execution_count": 8,
   "id": "53df2e8e-4748-4fa0-af7a-b1457eb3b945",
   "metadata": {},
   "outputs": [
    {
     "name": "stdout",
     "output_type": "stream",
     "text": [
      "Writing mod1.py\n"
     ]
    }
   ],
   "source": [
    "%%writefile mod1.py\n",
    "# mod1 모듈\n",
    "def add(a,b):\n",
    "    return a+b\n",
    "\n",
    "def sub(a, b):\n",
    "    return a-b"
   ]
  },
  {
   "cell_type": "code",
   "execution_count": 9,
   "id": "d5d1f132-7186-47c2-b67c-3e73f8b2563d",
   "metadata": {},
   "outputs": [
    {
     "data": {
      "text/plain": [
       "\u001b[1;31m# mod1 모듈\u001b[0m\u001b[1;33m\n",
       "\u001b[0m\u001b[1;32mdef\u001b[0m \u001b[0madd\u001b[0m\u001b[1;33m(\u001b[0m\u001b[0ma\u001b[0m\u001b[1;33m,\u001b[0m\u001b[0mb\u001b[0m\u001b[1;33m)\u001b[0m\u001b[1;33m:\u001b[0m\u001b[1;33m\n",
       "\u001b[0m    \u001b[1;32mreturn\u001b[0m \u001b[0ma\u001b[0m\u001b[1;33m+\u001b[0m\u001b[0mb\u001b[0m\u001b[1;33m\n",
       "\u001b[0m\u001b[1;33m\n",
       "\u001b[0m\u001b[1;32mdef\u001b[0m \u001b[0msub\u001b[0m\u001b[1;33m(\u001b[0m\u001b[0ma\u001b[0m\u001b[1;33m,\u001b[0m \u001b[0mb\u001b[0m\u001b[1;33m)\u001b[0m\u001b[1;33m:\u001b[0m\u001b[1;33m\n",
       "\u001b[0m    \u001b[1;32mreturn\u001b[0m \u001b[0ma\u001b[0m\u001b[1;33m-\u001b[0m\u001b[0mb\u001b[0m\u001b[1;33m\u001b[0m\u001b[1;33m\u001b[0m\u001b[0m\n"
      ]
     },
     "metadata": {},
     "output_type": "display_data"
    }
   ],
   "source": [
    "%pycat mod1.py"
   ]
  },
  {
   "cell_type": "code",
   "execution_count": 10,
   "id": "4a994e58-20fa-4432-8f7d-686cd69eb386",
   "metadata": {},
   "outputs": [],
   "source": [
    "import mod1"
   ]
  },
  {
   "cell_type": "code",
   "execution_count": 11,
   "id": "7df17bd8-feb8-45c8-9b5d-c8b4338f1c1e",
   "metadata": {},
   "outputs": [
    {
     "data": {
      "text/plain": [
       "module"
      ]
     },
     "execution_count": 11,
     "metadata": {},
     "output_type": "execute_result"
    }
   ],
   "source": [
    "type(mod1)"
   ]
  },
  {
   "cell_type": "markdown",
   "id": "46a45905-bf82-4d2b-9927-058a431a3560",
   "metadata": {},
   "source": [
    "`.` 연산자로 모듈 안의 객체 접근"
   ]
  },
  {
   "cell_type": "code",
   "execution_count": 12,
   "id": "3f610c37-d718-4093-b3fd-db4466152d51",
   "metadata": {},
   "outputs": [
    {
     "data": {
      "text/plain": [
       "30"
      ]
     },
     "execution_count": 12,
     "metadata": {},
     "output_type": "execute_result"
    }
   ],
   "source": [
    "mod1.add(10,20)"
   ]
  },
  {
   "cell_type": "code",
   "execution_count": 13,
   "id": "dd574114-dc6a-4fff-bd73-01ade417a7be",
   "metadata": {},
   "outputs": [
    {
     "data": {
      "text/plain": [
       "19"
      ]
     },
     "execution_count": 13,
     "metadata": {},
     "output_type": "execute_result"
    }
   ],
   "source": [
    "mod1.sub(20,1)"
   ]
  },
  {
   "cell_type": "code",
   "execution_count": 14,
   "id": "191e7c39-a576-41ea-ad23-06f40834206b",
   "metadata": {},
   "outputs": [],
   "source": [
    "del mod1 "
   ]
  },
  {
   "cell_type": "code",
   "execution_count": 15,
   "id": "7424ab23-89de-489c-87b4-01af59fb2a45",
   "metadata": {},
   "outputs": [
    {
     "ename": "NameError",
     "evalue": "name 'mod1' is not defined",
     "output_type": "error",
     "traceback": [
      "\u001b[1;31m---------------------------------------------------------------------------\u001b[0m",
      "\u001b[1;31mNameError\u001b[0m                                 Traceback (most recent call last)",
      "Cell \u001b[1;32mIn [15], line 1\u001b[0m\n\u001b[1;32m----> 1\u001b[0m \u001b[43mmod1\u001b[49m\u001b[38;5;241m.\u001b[39msub(\u001b[38;5;241m20\u001b[39m,\u001b[38;5;241m1\u001b[39m)\n",
      "\u001b[1;31mNameError\u001b[0m: name 'mod1' is not defined"
     ]
    }
   ],
   "source": [
    "mod1.sub(20,1)"
   ]
  },
  {
   "cell_type": "code",
   "execution_count": null,
   "id": "e327934c-a4c0-4b3d-aff7-34ebf8888570",
   "metadata": {},
   "outputs": [],
   "source": []
  },
  {
   "cell_type": "markdown",
   "id": "90efb716-9bdd-4161-9a1c-761f3f4fdf80",
   "metadata": {},
   "source": [
    "as 사용"
   ]
  },
  {
   "cell_type": "code",
   "execution_count": 16,
   "id": "d75f8069-86cd-4347-9e2e-48c64c529541",
   "metadata": {},
   "outputs": [],
   "source": [
    "import mod1 as md1"
   ]
  },
  {
   "cell_type": "code",
   "execution_count": 17,
   "id": "1e693774-5227-4bd0-a222-19e22e005320",
   "metadata": {},
   "outputs": [
    {
     "data": {
      "text/plain": [
       "30"
      ]
     },
     "execution_count": 17,
     "metadata": {},
     "output_type": "execute_result"
    }
   ],
   "source": [
    "md1.add(10,20)"
   ]
  },
  {
   "cell_type": "code",
   "execution_count": 18,
   "id": "ca2df9f8-c4b1-44a6-a036-274ae556d90a",
   "metadata": {},
   "outputs": [
    {
     "data": {
      "text/plain": [
       "19"
      ]
     },
     "execution_count": 18,
     "metadata": {},
     "output_type": "execute_result"
    }
   ],
   "source": [
    "md1.sub(20,1)"
   ]
  },
  {
   "cell_type": "code",
   "execution_count": 19,
   "id": "7e14b288-69b4-48d7-8db3-b0d8cf6695b0",
   "metadata": {},
   "outputs": [],
   "source": [
    "del md1"
   ]
  },
  {
   "cell_type": "markdown",
   "id": "b4426f0a-ad4e-47cc-8458-89f0e69fee68",
   "metadata": {},
   "source": [
    "`*`사용(와일드카드)"
   ]
  },
  {
   "cell_type": "code",
   "execution_count": 20,
   "id": "2ff4b39b-f0c1-4159-82aa-656ae1791edb",
   "metadata": {},
   "outputs": [],
   "source": [
    "from mod1 import * # from mod1 import add, sub"
   ]
  },
  {
   "cell_type": "code",
   "execution_count": 22,
   "id": "9f1988d3-75ba-426a-b6c1-09d8744345fd",
   "metadata": {},
   "outputs": [
    {
     "data": {
      "text/plain": [
       "30"
      ]
     },
     "execution_count": 22,
     "metadata": {},
     "output_type": "execute_result"
    }
   ],
   "source": [
    "add(10,20) # mod1.add(10,20) ->X"
   ]
  },
  {
   "cell_type": "code",
   "execution_count": 24,
   "id": "8302f70d-e6cd-4cbe-9293-d151244ddd62",
   "metadata": {},
   "outputs": [
    {
     "data": {
      "text/plain": [
       "19"
      ]
     },
     "execution_count": 24,
     "metadata": {},
     "output_type": "execute_result"
    }
   ],
   "source": [
    "sub(20,1)"
   ]
  },
  {
   "cell_type": "code",
   "execution_count": null,
   "id": "3a7b0667-aa04-4974-bf11-8442e8c38e1b",
   "metadata": {},
   "outputs": [],
   "source": []
  },
  {
   "cell_type": "markdown",
   "id": "3e65d270-1f52-4d29-b867-903bfaf5089f",
   "metadata": {},
   "source": [
    "# 모듈의 객체 이름"
   ]
  },
  {
   "cell_type": "code",
   "execution_count": 25,
   "id": "63798634-ca05-48f0-813b-0ac2f64b0d31",
   "metadata": {},
   "outputs": [
    {
     "name": "stdout",
     "output_type": "stream",
     "text": [
      "Writing mod2.py\n"
     ]
    }
   ],
   "source": [
    "%%writefile mod2.py\n",
    "# mod2 모듈\n",
    "title = None # None으로 초기화\n",
    "\n",
    "def add(a,b):\n",
    "    return a+b\n",
    "\n",
    "def sub(a, b):\n",
    "    return a-b"
   ]
  },
  {
   "cell_type": "code",
   "execution_count": 26,
   "id": "6642af86-8951-431b-b6c9-5cd91866ad4e",
   "metadata": {},
   "outputs": [
    {
     "data": {
      "text/plain": [
       "\u001b[1;31m# mod2 모듈\u001b[0m\u001b[1;33m\n",
       "\u001b[0m\u001b[0mtitle\u001b[0m \u001b[1;33m=\u001b[0m \u001b[1;32mNone\u001b[0m \u001b[1;31m# None으로 초기화\u001b[0m\u001b[1;33m\n",
       "\u001b[0m\u001b[1;33m\n",
       "\u001b[0m\u001b[1;32mdef\u001b[0m \u001b[0madd\u001b[0m\u001b[1;33m(\u001b[0m\u001b[0ma\u001b[0m\u001b[1;33m,\u001b[0m\u001b[0mb\u001b[0m\u001b[1;33m)\u001b[0m\u001b[1;33m:\u001b[0m\u001b[1;33m\n",
       "\u001b[0m    \u001b[1;32mreturn\u001b[0m \u001b[0ma\u001b[0m\u001b[1;33m+\u001b[0m\u001b[0mb\u001b[0m\u001b[1;33m\n",
       "\u001b[0m\u001b[1;33m\n",
       "\u001b[0m\u001b[1;32mdef\u001b[0m \u001b[0msub\u001b[0m\u001b[1;33m(\u001b[0m\u001b[0ma\u001b[0m\u001b[1;33m,\u001b[0m \u001b[0mb\u001b[0m\u001b[1;33m)\u001b[0m\u001b[1;33m:\u001b[0m\u001b[1;33m\n",
       "\u001b[0m    \u001b[1;32mreturn\u001b[0m \u001b[0ma\u001b[0m\u001b[1;33m-\u001b[0m\u001b[0mb\u001b[0m\u001b[1;33m\u001b[0m\u001b[1;33m\u001b[0m\u001b[0m\n"
      ]
     },
     "metadata": {},
     "output_type": "display_data"
    }
   ],
   "source": [
    "%pycat mod2.py"
   ]
  },
  {
   "cell_type": "code",
   "execution_count": 27,
   "id": "97c26606-a056-45b3-91f8-bfbc02a8bda2",
   "metadata": {},
   "outputs": [],
   "source": [
    "from mod2 import title, add, sub"
   ]
  },
  {
   "cell_type": "code",
   "execution_count": 28,
   "id": "fdb2be85-2ce4-45e2-b1ef-05880ac610f6",
   "metadata": {},
   "outputs": [],
   "source": [
    "title"
   ]
  },
  {
   "cell_type": "code",
   "execution_count": 29,
   "id": "226edd54-75ae-412e-a934-5e0854fb835c",
   "metadata": {},
   "outputs": [
    {
     "data": {
      "text/plain": [
       "30"
      ]
     },
     "execution_count": 29,
     "metadata": {},
     "output_type": "execute_result"
    }
   ],
   "source": [
    "add(10,20)"
   ]
  },
  {
   "cell_type": "code",
   "execution_count": null,
   "id": "bc195b45-6cc2-471f-aafe-8da2269f4a1f",
   "metadata": {},
   "outputs": [],
   "source": []
  },
  {
   "cell_type": "markdown",
   "id": "86e2bde9-244a-46b2-b7bb-c4200ae56b92",
   "metadata": {},
   "source": [
    "# `__main__`"
   ]
  },
  {
   "cell_type": "code",
   "execution_count": 31,
   "id": "708608e1-5c77-4a56-b226-68962af3e67b",
   "metadata": {},
   "outputs": [],
   "source": [
    "import mod1"
   ]
  },
  {
   "cell_type": "code",
   "execution_count": 32,
   "id": "f828909f-da6c-4f25-abd9-742b89844a86",
   "metadata": {},
   "outputs": [
    {
     "data": {
      "text/plain": [
       "['__builtins__',\n",
       " '__cached__',\n",
       " '__doc__',\n",
       " '__file__',\n",
       " '__loader__',\n",
       " '__name__',\n",
       " '__package__',\n",
       " '__spec__',\n",
       " 'add',\n",
       " 'sub']"
      ]
     },
     "execution_count": 32,
     "metadata": {},
     "output_type": "execute_result"
    }
   ],
   "source": [
    "dir(mod1)"
   ]
  },
  {
   "cell_type": "code",
   "execution_count": 33,
   "id": "8696d8bf-c93b-4ba2-b11a-c59da915054a",
   "metadata": {},
   "outputs": [
    {
     "data": {
      "text/plain": [
       "''"
      ]
     },
     "execution_count": 33,
     "metadata": {},
     "output_type": "execute_result"
    }
   ],
   "source": [
    "mod1.__package__"
   ]
  },
  {
   "cell_type": "code",
   "execution_count": 35,
   "id": "a63216d0-6ef9-4547-9c96-07bcd3d96797",
   "metadata": {},
   "outputs": [
    {
     "data": {
      "text/plain": [
       "'mod1'"
      ]
     },
     "execution_count": 35,
     "metadata": {},
     "output_type": "execute_result"
    }
   ],
   "source": [
    "mod1.__name__ # 객체의 이름이 들어가 있음 > 이 이름이 __main__인 경우가 있음!"
   ]
  },
  {
   "cell_type": "code",
   "execution_count": 36,
   "id": "099f6799-51a3-43b1-9bef-7176ab67ba5a",
   "metadata": {},
   "outputs": [],
   "source": [
    "def test():\n",
    "    pass"
   ]
  },
  {
   "cell_type": "code",
   "execution_count": 37,
   "id": "8c52a985-d074-491e-9eba-6075b8b23f80",
   "metadata": {},
   "outputs": [
    {
     "data": {
      "text/plain": [
       "<function __main__.test()>"
      ]
     },
     "execution_count": 37,
     "metadata": {},
     "output_type": "execute_result"
    }
   ],
   "source": [
    "test # __main__밑에 test라는 function이 있음"
   ]
  },
  {
   "cell_type": "code",
   "execution_count": 1,
   "id": "4ba687fc-8673-46c5-8b14-6aaf9a81ff97",
   "metadata": {},
   "outputs": [
    {
     "name": "stdout",
     "output_type": "stream",
     "text": [
      "Overwriting mod1.py\n"
     ]
    }
   ],
   "source": [
    "%%writefile mod1.py\n",
    "\n",
    "def add(a,b):\n",
    "    return a+b\n",
    "\n",
    "def sub(a, b):\n",
    "    return a-b\n",
    "\n",
    "print(add(1,4))\n",
    "print(sub(4,2))"
   ]
  },
  {
   "cell_type": "code",
   "execution_count": 46,
   "id": "742bf07a-5e9c-45a9-8bba-cc53d4caf92b",
   "metadata": {},
   "outputs": [
    {
     "data": {
      "text/plain": [
       "\u001b[1;33m\n",
       "\u001b[0m\u001b[1;32mdef\u001b[0m \u001b[0madd\u001b[0m\u001b[1;33m(\u001b[0m\u001b[0ma\u001b[0m\u001b[1;33m,\u001b[0m\u001b[0mb\u001b[0m\u001b[1;33m)\u001b[0m\u001b[1;33m:\u001b[0m\u001b[1;33m\n",
       "\u001b[0m    \u001b[1;32mreturn\u001b[0m \u001b[0ma\u001b[0m\u001b[1;33m+\u001b[0m\u001b[0mb\u001b[0m\u001b[1;33m\n",
       "\u001b[0m\u001b[1;33m\n",
       "\u001b[0m\u001b[1;32mdef\u001b[0m \u001b[0msub\u001b[0m\u001b[1;33m(\u001b[0m\u001b[0ma\u001b[0m\u001b[1;33m,\u001b[0m \u001b[0mb\u001b[0m\u001b[1;33m)\u001b[0m\u001b[1;33m:\u001b[0m\u001b[1;33m\n",
       "\u001b[0m    \u001b[1;32mreturn\u001b[0m \u001b[0ma\u001b[0m\u001b[1;33m-\u001b[0m\u001b[0mb\u001b[0m\u001b[1;33m\n",
       "\u001b[0m\u001b[1;33m\n",
       "\u001b[0m\u001b[0mprint\u001b[0m\u001b[1;33m(\u001b[0m\u001b[0madd\u001b[0m\u001b[1;33m(\u001b[0m\u001b[1;36m1\u001b[0m\u001b[1;33m,\u001b[0m\u001b[1;36m4\u001b[0m\u001b[1;33m)\u001b[0m\u001b[1;33m)\u001b[0m\u001b[1;33m\n",
       "\u001b[0m\u001b[0mprint\u001b[0m\u001b[1;33m(\u001b[0m\u001b[0msub\u001b[0m\u001b[1;33m(\u001b[0m\u001b[1;36m4\u001b[0m\u001b[1;33m,\u001b[0m\u001b[1;36m2\u001b[0m\u001b[1;33m)\u001b[0m\u001b[1;33m)\u001b[0m\u001b[1;33m\u001b[0m\u001b[1;33m\u001b[0m\u001b[0m\n"
      ]
     },
     "metadata": {},
     "output_type": "display_data"
    }
   ],
   "source": [
    "%pycat mod1.py"
   ]
  },
  {
   "cell_type": "code",
   "execution_count": 47,
   "id": "0bb32682-d85d-4b2e-a101-350c374ed645",
   "metadata": {},
   "outputs": [
    {
     "name": "stdout",
     "output_type": "stream",
     "text": [
      "5\n",
      "2\n"
     ]
    }
   ],
   "source": [
    "! python mod1.py  # import한건x"
   ]
  },
  {
   "cell_type": "code",
   "execution_count": 48,
   "id": "0f7396e8-3af1-427f-88c5-35c187b12148",
   "metadata": {},
   "outputs": [
    {
     "ename": "NameError",
     "evalue": "name 'mod1' is not defined",
     "output_type": "error",
     "traceback": [
      "\u001b[1;31m---------------------------------------------------------------------------\u001b[0m",
      "\u001b[1;31mNameError\u001b[0m                                 Traceback (most recent call last)",
      "Cell \u001b[1;32mIn [48], line 1\u001b[0m\n\u001b[1;32m----> 1\u001b[0m \u001b[43mmod1\u001b[49m\u001b[38;5;241m.\u001b[39madd(\u001b[38;5;241m10\u001b[39m,\u001b[38;5;241m20\u001b[39m)\n",
      "\u001b[1;31mNameError\u001b[0m: name 'mod1' is not defined"
     ]
    }
   ],
   "source": [
    "mod1.add(10,20)"
   ]
  },
  {
   "cell_type": "code",
   "execution_count": 2,
   "id": "9a6744c2-6292-4ba9-b5c7-246d497c65bd",
   "metadata": {},
   "outputs": [
    {
     "name": "stdout",
     "output_type": "stream",
     "text": [
      "5\n",
      "2\n"
     ]
    }
   ],
   "source": [
    "import mod1"
   ]
  },
  {
   "cell_type": "code",
   "execution_count": 3,
   "id": "aa4b87d2-8727-41ab-8cb5-6d01c739fddd",
   "metadata": {},
   "outputs": [
    {
     "name": "stdout",
     "output_type": "stream",
     "text": [
      "Overwriting mod1.py\n"
     ]
    }
   ],
   "source": [
    "%%writefile mod1.py\n",
    "\n",
    "def add(a,b):\n",
    "    return a+b\n",
    "\n",
    "def sub(a, b):\n",
    "    return a-b\n",
    "\n",
    "print(__name__)"
   ]
  },
  {
   "cell_type": "code",
   "execution_count": 4,
   "id": "68c8cbea-26ed-4d89-97ca-544ee09e7dc5",
   "metadata": {},
   "outputs": [
    {
     "name": "stdout",
     "output_type": "stream",
     "text": [
      "__main__\n"
     ]
    }
   ],
   "source": [
    "! python mod1.py"
   ]
  },
  {
   "cell_type": "code",
   "execution_count": 1,
   "id": "af659cc4-4fa1-4360-9cea-8c7d476b9867",
   "metadata": {},
   "outputs": [
    {
     "name": "stdout",
     "output_type": "stream",
     "text": [
      "mod1\n"
     ]
    }
   ],
   "source": [
    "import mod1"
   ]
  },
  {
   "cell_type": "code",
   "execution_count": 2,
   "id": "bd4e90d5-9c63-430e-af74-ad91656b4830",
   "metadata": {},
   "outputs": [
    {
     "data": {
      "text/plain": [
       "'mod1'"
      ]
     },
     "execution_count": 2,
     "metadata": {},
     "output_type": "execute_result"
    }
   ],
   "source": [
    "mod1.__name__"
   ]
  },
  {
   "cell_type": "code",
   "execution_count": 3,
   "id": "117d3996-39d5-4a8d-9a94-b4992d893c97",
   "metadata": {},
   "outputs": [],
   "source": [
    "import mod1 as md1"
   ]
  },
  {
   "cell_type": "code",
   "execution_count": 4,
   "id": "106773ad-a947-4fc1-86f3-eefc1624c669",
   "metadata": {},
   "outputs": [
    {
     "data": {
      "text/plain": [
       "'mod1'"
      ]
     },
     "execution_count": 4,
     "metadata": {},
     "output_type": "execute_result"
    }
   ],
   "source": [
    "md1.__name__"
   ]
  },
  {
   "cell_type": "code",
   "execution_count": null,
   "id": "404319bf-b646-4f62-9610-0845052ff7d9",
   "metadata": {},
   "outputs": [],
   "source": []
  },
  {
   "cell_type": "markdown",
   "id": "275c1a14-254b-42aa-93fd-0e33f757f63f",
   "metadata": {},
   "source": [
    "## start point\n",
    "\n",
    "- 언어의 시작 함수: main() >> 자바, C++(파이썬은 이런 체계x)"
   ]
  },
  {
   "cell_type": "code",
   "execution_count": 1,
   "id": "8cb6c677-cef0-486e-87b3-59998492d25b",
   "metadata": {},
   "outputs": [
    {
     "name": "stdout",
     "output_type": "stream",
     "text": [
      "Overwriting mod1.py\n"
     ]
    }
   ],
   "source": [
    "%%writefile mod1.py\n",
    "\n",
    "def add(a,b):\n",
    "    return a+b\n",
    "\n",
    "def sub(a, b):\n",
    "    return a-b\n",
    "\n",
    "if __name__ == '__main__': # 이런 코드가 많이 들어감!\n",
    "    # test code 실행\n",
    "    print(add(10,20))\n",
    "    print(sub(3,1))"
   ]
  },
  {
   "cell_type": "code",
   "execution_count": 2,
   "id": "4ae75e66-ddaf-414e-a770-e3962b32f158",
   "metadata": {},
   "outputs": [
    {
     "name": "stdout",
     "output_type": "stream",
     "text": [
      "30\n",
      "2\n"
     ]
    }
   ],
   "source": [
    "! python mod1.py"
   ]
  },
  {
   "cell_type": "code",
   "execution_count": 3,
   "id": "4ad80e56-4fe7-4e5d-b440-dc800099656e",
   "metadata": {},
   "outputs": [],
   "source": [
    "import mod1 # name이 main이 아니니까(mod1)이니까! 테스트코드 실행x"
   ]
  },
  {
   "cell_type": "code",
   "execution_count": null,
   "id": "b23b828a-118f-407b-83d8-bb43229f992b",
   "metadata": {},
   "outputs": [],
   "source": []
  },
  {
   "cell_type": "markdown",
   "id": "c98a5add-f46f-4a34-8dd2-ecd2770db0a9",
   "metadata": {},
   "source": [
    "`__module__`"
   ]
  },
  {
   "cell_type": "code",
   "execution_count": 4,
   "id": "b0481224-f887-4d33-a6d8-ab39197b4807",
   "metadata": {},
   "outputs": [],
   "source": [
    "from math import sin"
   ]
  },
  {
   "cell_type": "code",
   "execution_count": 5,
   "id": "85a95b1e-4702-4b9e-8841-4cea10c4386b",
   "metadata": {},
   "outputs": [
    {
     "data": {
      "text/plain": [
       "'math'"
      ]
     },
     "execution_count": 5,
     "metadata": {},
     "output_type": "execute_result"
    }
   ],
   "source": [
    "sin.__module__ # 어떤 소속 module인지"
   ]
  },
  {
   "cell_type": "code",
   "execution_count": null,
   "id": "88be2d0a-6c2b-4ef6-a611-257456470df0",
   "metadata": {},
   "outputs": [],
   "source": []
  },
  {
   "cell_type": "markdown",
   "id": "08bca76e-c9f6-4b88-9327-98d5f45b6bc1",
   "metadata": {},
   "source": [
    "## Package\n",
    "- 디렉토리 밑에 있는 소스를 찾는것!"
   ]
  },
  {
   "cell_type": "code",
   "execution_count": 6,
   "id": "96a8de90-260f-42fa-be18-f0ccfd7b30f8",
   "metadata": {},
   "outputs": [],
   "source": [
    "%mkdir sound"
   ]
  },
  {
   "cell_type": "code",
   "execution_count": 7,
   "id": "e57b7494-bb6a-404a-b1b0-8b7ecf0b3f25",
   "metadata": {},
   "outputs": [],
   "source": [
    "%mkdir sound\\formats"
   ]
  },
  {
   "cell_type": "code",
   "execution_count": 8,
   "id": "456e6578-9153-44ae-841e-3cdabd560f4b",
   "metadata": {},
   "outputs": [],
   "source": [
    "%mkdir sound\\effects"
   ]
  },
  {
   "cell_type": "code",
   "execution_count": 9,
   "id": "f427e1fc-6b70-4f2e-9752-34df1b279763",
   "metadata": {},
   "outputs": [
    {
     "name": "stdout",
     "output_type": "stream",
     "text": [
      " C 드라이브의 볼륨에는 이름이 없습니다.\n",
      " 볼륨 일련 번호: 6C61-529B\n",
      "\n",
      " C:\\Users\\User\\Jupyter_Python\\week2\\sound 디렉터리\n",
      "\n",
      "2022-11-17  오후 03:07    <DIR>          .\n",
      "2022-11-17  오후 03:07    <DIR>          ..\n",
      "2022-11-17  오후 03:07    <DIR>          effects\n",
      "2022-11-17  오후 03:07    <DIR>          formats\n",
      "               0개 파일                   0 바이트\n",
      "               4개 디렉터리  84,557,332,480 바이트 남음\n"
     ]
    }
   ],
   "source": [
    "%ls sound\\"
   ]
  },
  {
   "cell_type": "code",
   "execution_count": 10,
   "id": "d0acc921-7a90-49b7-8b1c-65c923f04fa6",
   "metadata": {},
   "outputs": [
    {
     "name": "stdout",
     "output_type": "stream",
     "text": [
      "Writing sound/formats/audio.py\n"
     ]
    }
   ],
   "source": [
    "%%writefile sound/formats/audio.py\n",
    "# audio.py\n",
    "\n",
    "def audio(level):\n",
    "    pass"
   ]
  },
  {
   "cell_type": "code",
   "execution_count": 11,
   "id": "c3cff38b-d73a-44bc-b15b-ab9272f640ba",
   "metadata": {},
   "outputs": [
    {
     "data": {
      "text/plain": [
       "\u001b[1;31m# audio.py\u001b[0m\u001b[1;33m\n",
       "\u001b[0m\u001b[1;33m\n",
       "\u001b[0m\u001b[1;32mdef\u001b[0m \u001b[0maudio\u001b[0m\u001b[1;33m(\u001b[0m\u001b[0mlevel\u001b[0m\u001b[1;33m)\u001b[0m\u001b[1;33m:\u001b[0m\u001b[1;33m\n",
       "\u001b[0m    \u001b[1;32mpass\u001b[0m\u001b[1;33m\u001b[0m\u001b[1;33m\u001b[0m\u001b[0m\n"
      ]
     },
     "metadata": {},
     "output_type": "display_data"
    }
   ],
   "source": [
    "%pycat sound/formats/audio.py"
   ]
  },
  {
   "cell_type": "code",
   "execution_count": 12,
   "id": "5dcd56c0-3ca8-4f0c-a49a-b55b56957c55",
   "metadata": {},
   "outputs": [
    {
     "name": "stdout",
     "output_type": "stream",
     "text": [
      "Writing sound/effects/echo.py\n"
     ]
    }
   ],
   "source": [
    "%%writefile sound/effects/echo.py\n",
    "# echo.py\n",
    "\n",
    "def echo(msg):\n",
    "    pass"
   ]
  },
  {
   "cell_type": "code",
   "execution_count": 13,
   "id": "ff077937-3797-4e60-83cc-a8111543b79e",
   "metadata": {},
   "outputs": [
    {
     "data": {
      "text/plain": [
       "\u001b[1;31m# echo.py\u001b[0m\u001b[1;33m\n",
       "\u001b[0m\u001b[1;33m\n",
       "\u001b[0m\u001b[1;32mdef\u001b[0m \u001b[0mecho\u001b[0m\u001b[1;33m(\u001b[0m\u001b[0mmsg\u001b[0m\u001b[1;33m)\u001b[0m\u001b[1;33m:\u001b[0m\u001b[1;33m\n",
       "\u001b[0m    \u001b[1;32mpass\u001b[0m\u001b[1;33m\u001b[0m\u001b[1;33m\u001b[0m\u001b[0m\n"
      ]
     },
     "metadata": {},
     "output_type": "display_data"
    }
   ],
   "source": [
    "%pycat sound/effects/echo.py"
   ]
  },
  {
   "cell_type": "code",
   "execution_count": null,
   "id": "6f193409-d181-4c6c-a0a9-ff613a26e25e",
   "metadata": {},
   "outputs": [],
   "source": []
  },
  {
   "cell_type": "code",
   "execution_count": 14,
   "id": "239d88f7-b20b-4c5e-a7af-8fe5e85871c4",
   "metadata": {},
   "outputs": [],
   "source": [
    "import sound.effects.echo as echo"
   ]
  },
  {
   "cell_type": "code",
   "execution_count": 15,
   "id": "e87ca714-7ad5-408b-a2f4-a63e832f5c4e",
   "metadata": {},
   "outputs": [],
   "source": [
    "from sound.effects import echo"
   ]
  },
  {
   "cell_type": "code",
   "execution_count": 19,
   "id": "3df95acc-ec1e-48cb-99a1-432830154e99",
   "metadata": {},
   "outputs": [
    {
     "ename": "AttributeError",
     "evalue": "module 'sound.effects.echo' has no attribute '__module__'",
     "output_type": "error",
     "traceback": [
      "\u001b[1;31m---------------------------------------------------------------------------\u001b[0m",
      "\u001b[1;31mAttributeError\u001b[0m                            Traceback (most recent call last)",
      "Cell \u001b[1;32mIn [19], line 1\u001b[0m\n\u001b[1;32m----> 1\u001b[0m \u001b[43mecho\u001b[49m\u001b[38;5;241;43m.\u001b[39;49m\u001b[38;5;18;43m__module__\u001b[39;49m\n",
      "\u001b[1;31mAttributeError\u001b[0m: module 'sound.effects.echo' has no attribute '__module__'"
     ]
    }
   ],
   "source": [
    "echo.__module__"
   ]
  },
  {
   "cell_type": "code",
   "execution_count": 18,
   "id": "0393e3e3-f8c5-4fab-9aa1-057e5f7098c1",
   "metadata": {},
   "outputs": [
    {
     "data": {
      "text/plain": [
       "'sound.effects'"
      ]
     },
     "execution_count": 18,
     "metadata": {},
     "output_type": "execute_result"
    }
   ],
   "source": [
    "echo.__package__"
   ]
  },
  {
   "cell_type": "code",
   "execution_count": null,
   "id": "e38523aa-9168-48e1-9be4-ee76ea785ad0",
   "metadata": {},
   "outputs": [],
   "source": []
  },
  {
   "cell_type": "markdown",
   "id": "b8bf0ac2-01f5-46f6-8619-c1e6e98926fc",
   "metadata": {},
   "source": [
    "## 라이브러리 위치 지정"
   ]
  },
  {
   "cell_type": "code",
   "execution_count": 20,
   "id": "ebc3df99-ce81-4e81-808d-deaa867800f7",
   "metadata": {},
   "outputs": [
    {
     "data": {
      "text/plain": [
       "['C:\\\\Users\\\\User\\\\Jupyter_Python\\\\week2',\n",
       " 'C:\\\\Users\\\\User\\\\.pyenv\\\\pyenv-win\\\\versions\\\\3.9.13\\\\python39.zip',\n",
       " 'C:\\\\Users\\\\User\\\\.pyenv\\\\pyenv-win\\\\versions\\\\3.9.13\\\\DLLs',\n",
       " 'C:\\\\Users\\\\User\\\\.pyenv\\\\pyenv-win\\\\versions\\\\3.9.13\\\\lib',\n",
       " 'C:\\\\Users\\\\User\\\\.pyenv\\\\pyenv-win\\\\versions\\\\3.9.13',\n",
       " 'C:\\\\Users\\\\User\\\\.venv\\\\Second_Day',\n",
       " '',\n",
       " 'C:\\\\Users\\\\User\\\\.venv\\\\Second_Day\\\\lib\\\\site-packages',\n",
       " 'C:\\\\Users\\\\User\\\\.venv\\\\Second_Day\\\\lib\\\\site-packages\\\\win32',\n",
       " 'C:\\\\Users\\\\User\\\\.venv\\\\Second_Day\\\\lib\\\\site-packages\\\\win32\\\\lib',\n",
       " 'C:\\\\Users\\\\User\\\\.venv\\\\Second_Day\\\\lib\\\\site-packages\\\\Pythonwin']"
      ]
     },
     "execution_count": 20,
     "metadata": {},
     "output_type": "execute_result"
    }
   ],
   "source": [
    "import sys\n",
    "sys.path # 현재 위치 + 가상환경이 관리하는 라이브러리 위치 + 파이썬 윈도우...등"
   ]
  },
  {
   "cell_type": "code",
   "execution_count": 21,
   "id": "e62e5a16-59ba-4a76-b7ae-87473a6bdf0b",
   "metadata": {},
   "outputs": [
    {
     "name": "stdout",
     "output_type": "stream",
     "text": [
      " C 드라이브의 볼륨에는 이름이 없습니다.\n",
      " 볼륨 일련 번호: 6C61-529B\n",
      "\n",
      " C:\\Users\\User\\Jupyter_Python\\week2 디렉터리\n",
      "\n",
      "2022-11-17  오후 02:42               202 mod1.py\n",
      "2022-11-17  오후 02:16               119 mod2.py\n",
      "               2개 파일                 321 바이트\n",
      "               0개 디렉터리  84,552,228,864 바이트 남음\n"
     ]
    }
   ],
   "source": [
    "%ls *.py"
   ]
  },
  {
   "cell_type": "code",
   "execution_count": null,
   "id": "e3cf7acd-a060-4455-bb02-d88d84ca22fc",
   "metadata": {},
   "outputs": [],
   "source": [
    "# 혹시 매직커멘드..쓴거에는 주석 안됨?! ㄷㄷㄷㄷㄷ 폴더가 다만들어졌네..ㄷ"
   ]
  },
  {
   "cell_type": "code",
   "execution_count": 2,
   "id": "96152322-5c90-4c4c-bf12-d2c5b77f9956",
   "metadata": {},
   "outputs": [],
   "source": [
    "%mkdir ..\\Test # 디렉터리 만듦. wee2위 폴더인 Jupyter_Python에!"
   ]
  },
  {
   "cell_type": "code",
   "execution_count": 3,
   "id": "c6846e78-6911-4303-8436-bce6b1c087da",
   "metadata": {},
   "outputs": [
    {
     "name": "stdout",
     "output_type": "stream",
     "text": [
      " C 드라이브의 볼륨에는 이름이 없습니다.\n",
      " 볼륨 일련 번호: 6C61-529B\n",
      "\n",
      " C:\\Users\\User\\Jupyter_Python\\Test 디렉터리\n",
      "\n",
      "2022-11-17  오후 03:26    <DIR>          .\n",
      "2022-11-17  오후 03:26    <DIR>          ..\n",
      "               0개 파일                   0 바이트\n",
      "               2개 디렉터리  84,550,549,504 바이트 남음\n"
     ]
    }
   ],
   "source": [
    "%ls ..\\Test"
   ]
  },
  {
   "cell_type": "code",
   "execution_count": null,
   "id": "69ef0dcc-b815-497e-984b-0a4e12d74a4a",
   "metadata": {},
   "outputs": [],
   "source": [
    "# 밑에.. 왜 안되냥..............\n",
    "# test 디렉터리에 복사!(파일 옮기기, 복사하기)"
   ]
  },
  {
   "cell_type": "code",
   "execution_count": 5,
   "id": "6043f90d-27b8-4dc9-87ec-0d8ff31649ff",
   "metadata": {},
   "outputs": [
    {
     "name": "stdout",
     "output_type": "stream",
     "text": [
      "        1개 파일이 복사되었습니다.\n"
     ]
    }
   ],
   "source": [
    "%copy mod1.py ..\\Test\\test_mod1.py "
   ]
  },
  {
   "cell_type": "code",
   "execution_count": 6,
   "id": "c05170dc-1093-4dd4-8508-3ad3419a3fcc",
   "metadata": {},
   "outputs": [
    {
     "name": "stdout",
     "output_type": "stream",
     "text": [
      " C 드라이브의 볼륨에는 이름이 없습니다.\n",
      " 볼륨 일련 번호: 6C61-529B\n",
      "\n",
      " C:\\Users\\User\\Jupyter_Python\\Test 디렉터리\n",
      "\n",
      "2022-11-17  오후 03:38    <DIR>          .\n",
      "2022-11-17  오후 03:38    <DIR>          ..\n",
      "2022-11-17  오후 02:42               202 test_mod1.py\n",
      "               1개 파일                 202 바이트\n",
      "               2개 디렉터리  82,917,900,288 바이트 남음\n"
     ]
    }
   ],
   "source": [
    "%ls ..\\Test"
   ]
  },
  {
   "cell_type": "code",
   "execution_count": 7,
   "id": "92294114-7a33-4067-b88e-d51214475fec",
   "metadata": {},
   "outputs": [
    {
     "ename": "ModuleNotFoundError",
     "evalue": "No module named 'Test'",
     "output_type": "error",
     "traceback": [
      "\u001b[1;31m---------------------------------------------------------------------------\u001b[0m",
      "\u001b[1;31mModuleNotFoundError\u001b[0m                       Traceback (most recent call last)",
      "Cell \u001b[1;32mIn [7], line 1\u001b[0m\n\u001b[1;32m----> 1\u001b[0m \u001b[38;5;28;01mimport\u001b[39;00m \u001b[38;5;21;01mTest\u001b[39;00m\u001b[38;5;21;01m.\u001b[39;00m\u001b[38;5;21;01mtest_mod1\u001b[39;00m\n",
      "\u001b[1;31mModuleNotFoundError\u001b[0m: No module named 'Test'"
     ]
    }
   ],
   "source": [
    "import Test.test_mod1"
   ]
  },
  {
   "cell_type": "code",
   "execution_count": 9,
   "id": "0990a76d-ca4f-4800-a8e2-6cfe31570772",
   "metadata": {},
   "outputs": [],
   "source": [
    "import sys"
   ]
  },
  {
   "cell_type": "code",
   "execution_count": 10,
   "id": "f361b7a6-e96a-4b39-81e9-7e6335242a38",
   "metadata": {},
   "outputs": [
    {
     "data": {
      "text/plain": [
       "['C:\\\\Users\\\\User\\\\Jupyter_Python\\\\week2',\n",
       " 'C:\\\\Users\\\\User\\\\.pyenv\\\\pyenv-win\\\\versions\\\\3.9.13\\\\python39.zip',\n",
       " 'C:\\\\Users\\\\User\\\\.pyenv\\\\pyenv-win\\\\versions\\\\3.9.13\\\\DLLs',\n",
       " 'C:\\\\Users\\\\User\\\\.pyenv\\\\pyenv-win\\\\versions\\\\3.9.13\\\\lib',\n",
       " 'C:\\\\Users\\\\User\\\\.pyenv\\\\pyenv-win\\\\versions\\\\3.9.13',\n",
       " 'C:\\\\Users\\\\User\\\\.venv\\\\Second_Day',\n",
       " '',\n",
       " 'C:\\\\Users\\\\User\\\\.venv\\\\Second_Day\\\\lib\\\\site-packages',\n",
       " 'C:\\\\Users\\\\User\\\\.venv\\\\Second_Day\\\\lib\\\\site-packages\\\\win32',\n",
       " 'C:\\\\Users\\\\User\\\\.venv\\\\Second_Day\\\\lib\\\\site-packages\\\\win32\\\\lib',\n",
       " 'C:\\\\Users\\\\User\\\\.venv\\\\Second_Day\\\\lib\\\\site-packages\\\\Pythonwin']"
      ]
     },
     "execution_count": 10,
     "metadata": {},
     "output_type": "execute_result"
    }
   ],
   "source": [
    "sys.path"
   ]
  },
  {
   "cell_type": "code",
   "execution_count": null,
   "id": "e1c0865b-035d-41d6-88c4-7d63e0c12986",
   "metadata": {},
   "outputs": [],
   "source": [
    "# 이 경로를 새로 넣어주는거!"
   ]
  },
  {
   "cell_type": "code",
   "execution_count": 15,
   "id": "88ff97e4-a8e4-49a4-ab0c-09d197ba8319",
   "metadata": {},
   "outputs": [],
   "source": [
    "sys.path.append('C:\\\\Users\\\\User\\\\Jupyter_Python\\\\Test') "
   ]
  },
  {
   "cell_type": "code",
   "execution_count": 16,
   "id": "5c02cd9b-4499-457e-a756-5ed65cf5754a",
   "metadata": {},
   "outputs": [
    {
     "data": {
      "text/plain": [
       "['C:\\\\Users\\\\User\\\\Jupyter_Python\\\\week2',\n",
       " 'C:\\\\Users\\\\User\\\\.pyenv\\\\pyenv-win\\\\versions\\\\3.9.13\\\\python39.zip',\n",
       " 'C:\\\\Users\\\\User\\\\.pyenv\\\\pyenv-win\\\\versions\\\\3.9.13\\\\DLLs',\n",
       " 'C:\\\\Users\\\\User\\\\.pyenv\\\\pyenv-win\\\\versions\\\\3.9.13\\\\lib',\n",
       " 'C:\\\\Users\\\\User\\\\.pyenv\\\\pyenv-win\\\\versions\\\\3.9.13',\n",
       " 'C:\\\\Users\\\\User\\\\.venv\\\\Second_Day',\n",
       " '',\n",
       " 'C:\\\\Users\\\\User\\\\.venv\\\\Second_Day\\\\lib\\\\site-packages',\n",
       " 'C:\\\\Users\\\\User\\\\.venv\\\\Second_Day\\\\lib\\\\site-packages\\\\win32',\n",
       " 'C:\\\\Users\\\\User\\\\.venv\\\\Second_Day\\\\lib\\\\site-packages\\\\win32\\\\lib',\n",
       " 'C:\\\\Users\\\\User\\\\.venv\\\\Second_Day\\\\lib\\\\site-packages\\\\Pythonwin',\n",
       " 'C:\\\\Users\\\\User\\\\Jupyter_Python\\\\Test']"
      ]
     },
     "execution_count": 16,
     "metadata": {},
     "output_type": "execute_result"
    }
   ],
   "source": [
    "sys.path"
   ]
  },
  {
   "cell_type": "code",
   "execution_count": 18,
   "id": "e457ea58-ffd5-4a55-a25e-cb44fb7dcfaf",
   "metadata": {},
   "outputs": [],
   "source": [
    "import test_mod1"
   ]
  },
  {
   "cell_type": "code",
   "execution_count": 19,
   "id": "116e3854-64d6-4aeb-a036-36db58d9d526",
   "metadata": {},
   "outputs": [
    {
     "data": {
      "text/plain": [
       "55"
      ]
     },
     "execution_count": 19,
     "metadata": {},
     "output_type": "execute_result"
    }
   ],
   "source": [
    "test_mod1.add(10,45) # 됨"
   ]
  },
  {
   "cell_type": "code",
   "execution_count": null,
   "id": "4c054690-c778-460d-8c78-8f704a07c79f",
   "metadata": {},
   "outputs": [],
   "source": []
  }
 ],
 "metadata": {
  "kernelspec": {
   "display_name": "Python 3 (ipykernel)",
   "language": "python",
   "name": "python3"
  },
  "language_info": {
   "codemirror_mode": {
    "name": "ipython",
    "version": 3
   },
   "file_extension": ".py",
   "mimetype": "text/x-python",
   "name": "python",
   "nbconvert_exporter": "python",
   "pygments_lexer": "ipython3",
   "version": "3.9.13"
  }
 },
 "nbformat": 4,
 "nbformat_minor": 5
}
