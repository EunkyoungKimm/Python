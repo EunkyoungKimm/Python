{
 "cells": [
  {
   "cell_type": "markdown",
   "id": "ab312b86-0f6b-45a3-9313-1439541b9966",
   "metadata": {},
   "source": [
    "## 문제) 10명의 수학 점수를 입력받아 리스트 scores에 추가하고, 전체 점수의 합계와 평균을 내시오.\n",
    "- 단, 입력이 -1을 입력하면 종료한다.\n",
    "- scores = []"
   ]
  },
  {
   "cell_type": "code",
   "execution_count": 4,
   "id": "f5e71dee-0388-4479-b640-d81b9787af07",
   "metadata": {},
   "outputs": [
    {
     "name": "stdin",
     "output_type": "stream",
     "text": [
      "수학 점수를 입력하세요: 97\n",
      "수학 점수를 입력하세요: 88\n",
      "수학 점수를 입력하세요: 46\n",
      "수학 점수를 입력하세요: 81\n",
      "수학 점수를 입력하세요: 37\n",
      "수학 점수를 입력하세요: 78\n",
      "수학 점수를 입력하세요: 80\n",
      "수학 점수를 입력하세요: 60\n",
      "수학 점수를 입력하세요: 90\n",
      "수학 점수를 입력하세요: 100\n"
     ]
    },
    {
     "name": "stdout",
     "output_type": "stream",
     "text": [
      "전체 점수: 757, 평균: 75.70\n"
     ]
    }
   ],
   "source": [
    "scores = []\n",
    "for i in range(10):\n",
    "    score = input(\"수학 점수를 입력하세요:\")\n",
    "    score_int = int(score)\n",
    "    if score_int == -1:\n",
    "        print(\"잘못 입력했습니다.\")\n",
    "        break\n",
    "    scores.append(score_int)\n",
    "    if len(scores) == 10:\n",
    "        result = sum(scores)\n",
    "        avrg = result / len(scores)\n",
    "        print(\"전체 점수: %d, 평균: %.2f\" %(result, avrg))\n"
   ]
  },
  {
   "cell_type": "code",
   "execution_count": null,
   "id": "dd3e76e7-7ce5-41d4-ae55-76e3bd52c7b0",
   "metadata": {},
   "outputs": [],
   "source": []
  },
  {
   "cell_type": "markdown",
   "id": "2bac7962-a805-4b77-8c72-8fe63a07c3fd",
   "metadata": {},
   "source": [
    "# 정올 Jungol"
   ]
  },
  {
   "cell_type": "markdown",
   "id": "f3418a26-4fb5-416c-9fa6-ae1012f29a32",
   "metadata": {},
   "source": [
    "## <문자열1>"
   ]
  },
  {
   "cell_type": "markdown",
   "id": "63dc5120-1cd5-44e0-a47e-f1e80bb73817",
   "metadata": {},
   "source": [
    "### 형성평가 1\n",
    "- 네 단어로 된 문장을 한 줄에 입력받아, 순서를 거꾸로 출력하는 프로그램을 작성하라."
   ]
  },
  {
   "cell_type": "code",
   "execution_count": 15,
   "id": "503688bc-5980-4f99-9ed7-a6a5683d1e64",
   "metadata": {},
   "outputs": [
    {
     "name": "stdin",
     "output_type": "stream",
     "text": [
      "네 단어로 된 문장을 입력하세요: 가 나 다 라\n"
     ]
    },
    {
     "name": "stdout",
     "output_type": "stream",
     "text": [
      "<class 'list'>\n",
      "라 다 나 가 "
     ]
    }
   ],
   "source": [
    "user = input(\"네 단어로 된 문장을 입력하세요:\")\n",
    "word = user.split(\" \")\n",
    "# type(word) # list\n",
    "word.reverse()\n",
    "# word\n",
    "\n",
    "count = 0 # for문 바깥에서 초기화 해주기!!!! for문 안에 썼다가 애먹었다..\n",
    "\n",
    "for i in word:\n",
    "    print(word[count], end = ' ')\n",
    "    count+= 1"
   ]
  },
  {
   "cell_type": "code",
   "execution_count": 2,
   "id": "6cfa8a25-2ccd-4b17-8ffd-9432d19aa58b",
   "metadata": {},
   "outputs": [
    {
     "name": "stdin",
     "output_type": "stream",
     "text": [
      " a b 나 sms\n"
     ]
    },
    {
     "name": "stdout",
     "output_type": "stream",
     "text": [
      "sms 나 b a "
     ]
    }
   ],
   "source": [
    "# 정답\n",
    "\n",
    "user = input() # 예시 입력, 출력이랑 똑같이 나와야 함)\n",
    "word = user.split(\" \")\n",
    "# type(word) # list\n",
    "word.reverse()\n",
    "# word\n",
    "\n",
    "count = 0 \n",
    "\n",
    "for i in word:\n",
    "    print(word[count], end = ' ')\n",
    "    count+= 1"
   ]
  },
  {
   "cell_type": "markdown",
   "id": "7c65dc29-aa04-4afb-be35-38dd4990d0f3",
   "metadata": {},
   "source": [
    "### 형성평가 2\n",
    "- 사다리꼴의 밑변, 윗변, 높이의 길이를 순서대로 한 줄에 입력받아, 사다리꼴의 넓이를 출력하는 프로그램을 작성하라. \n",
    "\n",
    "> (사다리꼴의 넓이 = ( (밑변) + (윗변) ) × (높이) ) / 2 )"
   ]
  },
  {
   "cell_type": "code",
   "execution_count": 1,
   "id": "91420e93-7e48-4386-8662-87f9dd9c39dc",
   "metadata": {},
   "outputs": [
    {
     "name": "stdin",
     "output_type": "stream",
     "text": [
      " 2 3 6\n"
     ]
    },
    {
     "name": "stdout",
     "output_type": "stream",
     "text": [
      "15.0\n"
     ]
    }
   ],
   "source": [
    "user = input()\n",
    "li = user.split(\" \")\n",
    "base = int(li[0])\n",
    "upper_side = int(li[1])\n",
    "height = int(li[2])\n",
    "\n",
    "print( (base + upper_side) * height / 2)"
   ]
  },
  {
   "cell_type": "markdown",
   "id": "7c621802-c724-4ca3-99a9-285465e5b7d4",
   "metadata": {},
   "source": [
    "### 형성평가 3 \n",
    "- 네 문자열을 입력 받아 다음 형식으로 출력하는 프로그램을 작성하라..\n",
    "- 서식 문자를 이용한다.\n",
    "> 예) out = \"%s: %s\"\n",
    "- <span style=\"color:red\">문제이해x</span>- 예시 잘 읽으면 O"
   ]
  },
  {
   "cell_type": "code",
   "execution_count": 22,
   "id": "cbf71291-2f15-48d1-a7a3-5d4e88eefa7d",
   "metadata": {},
   "outputs": [
    {
     "name": "stdin",
     "output_type": "stream",
     "text": [
      " sk sms dms rud\n"
     ]
    },
    {
     "name": "stdout",
     "output_type": "stream",
     "text": [
      "sk: sms dms: rud\n"
     ]
    }
   ],
   "source": [
    "# 자꾸 런타임에러 떴었음...우이씌..ㅜ 그래도 이제 맞음!\n",
    "li = []\n",
    "\n",
    "for i in range(4):\n",
    "    user = input()\n",
    "    # li = user.split(\" \") # li 리스트에 담김/ 굳이 빈 list 위에 만들어줄 필요x\n",
    "    li.append(user)\n",
    "\n",
    "print('%s: %s\\n' %(li[0], li[1]) + '%s: %s' %(li[2], li[3]))\n"
   ]
  },
  {
   "cell_type": "markdown",
   "id": "be6acadb-7b29-4af0-ac34-c9b590228d3e",
   "metadata": {},
   "source": [
    "### 형성평가 4\n",
    "\n",
    "- 다음과 같이 LB(파운드)단위로 입력된 몸무게를 KG(킬로그램)단위로 바꾸는 프로그램을 작성하라.\n",
    "\n",
    "- 모든 실수(소수)는 소수점 두 번째 자리에서 반올림하여 소수점  한자리까지 출력한다.\n",
    "\n",
    "> (1LB = 0.45KG이다. 또한 \"LB? \"는 입력 전 물어보는 문장이다.) "
   ]
  },
  {
   "cell_type": "code",
   "execution_count": 18,
   "id": "16e9fe63-608a-45b0-b142-ee9e72bf2685",
   "metadata": {},
   "outputs": [
    {
     "name": "stdin",
     "output_type": "stream",
     "text": [
      "LB? 65.73\n"
     ]
    },
    {
     "name": "stdout",
     "output_type": "stream",
     "text": [
      "65.7LB is 29.6KG.\n"
     ]
    }
   ],
   "source": [
    "lb = input(\"LB? \") # 이놈의 띄어쓰기......!!!!!!!\n",
    "lb_to_kg = float(lb) * 0.45\n",
    "lb = round(float(lb), 1)\n",
    "lb_to_kg = round(lb_to_kg,1)\n",
    "print(\"%.1fLB is %.1fKG.\" % (lb, lb_to_kg))"
   ]
  },
  {
   "cell_type": "markdown",
   "id": "b676d109-3c70-4c50-b984-d01bfb7e39d5",
   "metadata": {},
   "source": [
    "### 형성평가 5\n",
    "- 이름과 키, 몸무게를 입력 받아 서식 문자를 사용하여 다음과 같이 출력하는 프로그램을 작성하라.\n",
    "> ex. 창호 170 68.47 >> 창호의 키는 170cm이며, 몸무게는 68.5kg입니다."
   ]
  },
  {
   "cell_type": "code",
   "execution_count": 10,
   "id": "a4cbdd0b-e844-45ad-b74a-99d583afac40",
   "metadata": {},
   "outputs": [
    {
     "name": "stdin",
     "output_type": "stream",
     "text": [
      "이름, 키, 몸무게를 순서대로 입력하세요(띄어쓰기로 구분해 입력하세요 ex. 창호 170 68.47): 창호 170 68.47\n"
     ]
    },
    {
     "name": "stdout",
     "output_type": "stream",
     "text": [
      "창호의 키는 170cm이며, 몸무게는 68.5kg입니다.\n"
     ]
    }
   ],
   "source": [
    "user = input()\n",
    "# user # 전체가 string임('창호 170 68.47'), 리스트x\n",
    "\n",
    "info = user.split(' ')\n",
    "# print(info)\n",
    "# type(info)\n",
    "h = float(info[2]) # height / height = int(s) # 들어온 수가 int가 아니라서 ValueError >> float으로 해줘야 함(68.47)\n",
    "round_h = round(h,1) # 소수점 1의 자리까지 반올림\n",
    "\n",
    "print(\"%s의 키는 %scm이며, 몸무게는 %skg입니다.\" %(info[0],info[1],round_h))"
   ]
  },
  {
   "cell_type": "markdown",
   "id": "7f085931-a7c8-4863-895f-2e7a10122317",
   "metadata": {
    "tags": []
   },
   "source": [
    "## <문자열2>"
   ]
  },
  {
   "cell_type": "code",
   "execution_count": null,
   "id": "1d61f01e-201f-4872-9206-e43701601f89",
   "metadata": {},
   "outputs": [],
   "source": []
  },
  {
   "cell_type": "code",
   "execution_count": null,
   "id": "481fda08-2c11-4a5c-89ff-d9e7e4e92e3a",
   "metadata": {},
   "outputs": [],
   "source": []
  }
 ],
 "metadata": {
  "kernelspec": {
   "display_name": "Python 3 (ipykernel)",
   "language": "python",
   "name": "python3"
  },
  "language_info": {
   "codemirror_mode": {
    "name": "ipython",
    "version": 3
   },
   "file_extension": ".py",
   "mimetype": "text/x-python",
   "name": "python",
   "nbconvert_exporter": "python",
   "pygments_lexer": "ipython3",
   "version": "3.9.13"
  }
 },
 "nbformat": 4,
 "nbformat_minor": 5
}
