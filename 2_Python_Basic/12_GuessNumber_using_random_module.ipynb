{
 "cells": [
  {
   "cell_type": "markdown",
   "id": "0942312a-179a-4507-a8a0-919c7123cea0",
   "metadata": {},
   "source": [
    "# \"실습\"  Guess number"
   ]
  },
  {
   "cell_type": "markdown",
   "id": "8841da5b-be30-4d96-97da-c5448a96cd8c",
   "metadata": {},
   "source": [
    "사용자가 입력한 숫자가 난수보다 큰지 작은지를 알려주고 계속 추측해서 난수값을 맞추는 프로그램을 작성하라.\n",
    "\n",
    "```\n",
    "1~100 사이 숫자를 맞춰 보세요!\n",
    "------------------------------------------------------------\n",
    "1 ~ 100 사이의 숫자를 입력하세요: 5\n",
    "작은 수를 입력했네요\n",
    "1 ~ 100 사이의 숫자를 입력하세요: 50\n",
    "작은 수를 입력했네요\n",
    "1 ~ 100 사이의 숫자를 입력하세요: 75\n",
    "큰 수를 입력했네요\n",
    "1 ~ 100 사이의 숫자를 입력하세요: 60\n",
    "큰 수를 입력했네요\n",
    "1 ~ 100 사이의 숫자를 입력하세요: 55\n",
    "큰 수를 입력했네요\n",
    "1 ~ 100 사이의 숫자를 입력하세요: 53\n",
    "큰 수를 입력했네요\n",
    "1 ~ 100 사이의 숫자를 입력하세요: 52\n",
    "큰 수를 입력했네요\n",
    "1 ~ 100 사이의 숫자를 입력하세요: 51\n",
    "------------------------------------------------------------\n",
    "8 번만에 정답을 맞췄네요...\n",
    "```"
   ]
  },
  {
   "cell_type": "code",
   "execution_count": 19,
   "id": "5dd79408-b286-4c45-8eaa-4d56cea04118",
   "metadata": {},
   "outputs": [
    {
     "name": "stdout",
     "output_type": "stream",
     "text": [
      "1~100 사이 숫자를 맞춰 보세요!\n",
      "------------------------------\n"
     ]
    },
    {
     "name": "stdin",
     "output_type": "stream",
     "text": [
      "1 ~ 100 사이의 숫자를 입력하세요:  50\n"
     ]
    },
    {
     "name": "stdout",
     "output_type": "stream",
     "text": [
      "큰 수를 입력했네요\n"
     ]
    },
    {
     "name": "stdin",
     "output_type": "stream",
     "text": [
      "1 ~ 100 사이의 숫자를 입력하세요:  20\n"
     ]
    },
    {
     "name": "stdout",
     "output_type": "stream",
     "text": [
      "큰 수를 입력했네요\n"
     ]
    },
    {
     "name": "stdin",
     "output_type": "stream",
     "text": [
      "1 ~ 100 사이의 숫자를 입력하세요:  10\n"
     ]
    },
    {
     "name": "stdout",
     "output_type": "stream",
     "text": [
      "작은 수를 입력했네요\n"
     ]
    },
    {
     "name": "stdin",
     "output_type": "stream",
     "text": [
      "1 ~ 100 사이의 숫자를 입력하세요:  15\n"
     ]
    },
    {
     "name": "stdout",
     "output_type": "stream",
     "text": [
      "작은 수를 입력했네요\n"
     ]
    },
    {
     "name": "stdin",
     "output_type": "stream",
     "text": [
      "1 ~ 100 사이의 숫자를 입력하세요:  18\n"
     ]
    },
    {
     "name": "stdout",
     "output_type": "stream",
     "text": [
      "******************************\n",
      "5만에 정답을 맞췄네요!\n"
     ]
    }
   ],
   "source": [
    "from random import randint\n",
    "\n",
    "print('1~100 사이 숫자를 맞춰 보세요!')\n",
    "print('-'*30)\n",
    "\n",
    "r_number = randint(1,100)\n",
    "\n",
    "count = 1\n",
    "while True:\n",
    "    user = input(\"1 ~ 100 사이의 숫자를 입력하세요: \")\n",
    "    if int(user) != r_number:\n",
    "        if int(user) >= r_number: \n",
    "            print('큰 수를 입력했네요')\n",
    "            count += 1\n",
    "            continue\n",
    "        else:\n",
    "            print('작은 수를 입력했네요')\n",
    "            count += 1\n",
    "            continue\n",
    "    else:\n",
    "        break\n",
    "        \n",
    "print('*'*30)\n",
    "print('%d번만에 정답을 맞췄네요!' % count)"
   ]
  },
  {
   "cell_type": "code",
   "execution_count": null,
   "id": "7f8e5088-b7f5-487a-b98c-38d12e78f3d3",
   "metadata": {},
   "outputs": [],
   "source": [
    "# 다른 풀이\n",
    "\n",
    "import random\n",
    "\n",
    "rn = random.randrange(1, 101, 1) # 임의의 숫자 1개\n",
    "num = -1                         # 입력값\n",
    "t_cnt = 0 # count of trying\n",
    "\n",
    "print(\"1~100 사이 숫자를 맞춰 보세요!\")\n",
    "print('*'*60)\n",
    "\n",
    "while (rn != num):\n",
    "    num = int(input(\"1 ~ 100 사이의 숫자를 입력하세요: \"))\n",
    "    \n",
    "    if (num > rn):\n",
    "        print('큰 수를 입력했네요')\n",
    "    elif (num < rn):\n",
    "        print('작은 수를 입력했네요')\n",
    "    t_cnt += 1\n",
    "    \n",
    "print('*'*60)\n",
    "print(t_cnt, '번만에 정답을 맞췄네요!')\n",
    "\n",
    "# 배운점: elif 활용하기, input에 바로 int해주기 >> int(input(~))"
   ]
  },
  {
   "cell_type": "markdown",
   "id": "b912c0c1-9bb5-424b-9479-acb66b271a9b",
   "metadata": {},
   "source": [
    "### 응용: 게임을 5번 반복해서 반복동안 성공한 횟수를 저장해 평균을 내보세요."
   ]
  },
  {
   "cell_type": "code",
   "execution_count": 20,
   "id": "84a0cff0-b40a-468a-bde7-47dde5348ee2",
   "metadata": {},
   "outputs": [
    {
     "name": "stdout",
     "output_type": "stream",
     "text": [
      "1~100 사이 숫자를 맞춰 보세요!\n",
      "------------------------------\n"
     ]
    },
    {
     "name": "stdin",
     "output_type": "stream",
     "text": [
      "1 ~ 100 사이의 숫자를 입력하세요:  50\n"
     ]
    },
    {
     "name": "stdout",
     "output_type": "stream",
     "text": [
      "작은 수를 입력했네요\n"
     ]
    },
    {
     "name": "stdin",
     "output_type": "stream",
     "text": [
      "1 ~ 100 사이의 숫자를 입력하세요:  75\n"
     ]
    },
    {
     "name": "stdout",
     "output_type": "stream",
     "text": [
      "큰 수를 입력했네요\n"
     ]
    },
    {
     "name": "stdin",
     "output_type": "stream",
     "text": [
      "1 ~ 100 사이의 숫자를 입력하세요:  63\n"
     ]
    },
    {
     "name": "stdout",
     "output_type": "stream",
     "text": [
      "큰 수를 입력했네요\n"
     ]
    },
    {
     "name": "stdin",
     "output_type": "stream",
     "text": [
      "1 ~ 100 사이의 숫자를 입력하세요:  55\n"
     ]
    },
    {
     "name": "stdout",
     "output_type": "stream",
     "text": [
      "큰 수를 입력했네요\n"
     ]
    },
    {
     "name": "stdin",
     "output_type": "stream",
     "text": [
      "1 ~ 100 사이의 숫자를 입력하세요:  53\n"
     ]
    },
    {
     "name": "stdout",
     "output_type": "stream",
     "text": [
      "큰 수를 입력했네요\n"
     ]
    },
    {
     "name": "stdin",
     "output_type": "stream",
     "text": [
      "1 ~ 100 사이의 숫자를 입력하세요:  51\n"
     ]
    },
    {
     "name": "stdout",
     "output_type": "stream",
     "text": [
      "******************************\n",
      "6만에 정답을 맞췄네요!\n",
      "1~100 사이 숫자를 맞춰 보세요!\n",
      "------------------------------\n"
     ]
    },
    {
     "name": "stdin",
     "output_type": "stream",
     "text": [
      "1 ~ 100 사이의 숫자를 입력하세요:  50\n"
     ]
    },
    {
     "name": "stdout",
     "output_type": "stream",
     "text": [
      "큰 수를 입력했네요\n"
     ]
    },
    {
     "name": "stdin",
     "output_type": "stream",
     "text": [
      "1 ~ 100 사이의 숫자를 입력하세요:  25\n"
     ]
    },
    {
     "name": "stdout",
     "output_type": "stream",
     "text": [
      "큰 수를 입력했네요\n"
     ]
    },
    {
     "name": "stdin",
     "output_type": "stream",
     "text": [
      "1 ~ 100 사이의 숫자를 입력하세요:  11\n"
     ]
    },
    {
     "name": "stdout",
     "output_type": "stream",
     "text": [
      "작은 수를 입력했네요\n"
     ]
    },
    {
     "name": "stdin",
     "output_type": "stream",
     "text": [
      "1 ~ 100 사이의 숫자를 입력하세요:  15\n"
     ]
    },
    {
     "name": "stdout",
     "output_type": "stream",
     "text": [
      "작은 수를 입력했네요\n"
     ]
    },
    {
     "name": "stdin",
     "output_type": "stream",
     "text": [
      "1 ~ 100 사이의 숫자를 입력하세요:  22\n"
     ]
    },
    {
     "name": "stdout",
     "output_type": "stream",
     "text": [
      "큰 수를 입력했네요\n"
     ]
    },
    {
     "name": "stdin",
     "output_type": "stream",
     "text": [
      "1 ~ 100 사이의 숫자를 입력하세요:  19\n"
     ]
    },
    {
     "name": "stdout",
     "output_type": "stream",
     "text": [
      "큰 수를 입력했네요\n"
     ]
    },
    {
     "name": "stdin",
     "output_type": "stream",
     "text": [
      "1 ~ 100 사이의 숫자를 입력하세요:  17\n"
     ]
    },
    {
     "name": "stdout",
     "output_type": "stream",
     "text": [
      "큰 수를 입력했네요\n"
     ]
    },
    {
     "name": "stdin",
     "output_type": "stream",
     "text": [
      "1 ~ 100 사이의 숫자를 입력하세요:  16\n"
     ]
    },
    {
     "name": "stdout",
     "output_type": "stream",
     "text": [
      "******************************\n",
      "8만에 정답을 맞췄네요!\n",
      "1~100 사이 숫자를 맞춰 보세요!\n",
      "------------------------------\n"
     ]
    },
    {
     "name": "stdin",
     "output_type": "stream",
     "text": [
      "1 ~ 100 사이의 숫자를 입력하세요:  50\n"
     ]
    },
    {
     "name": "stdout",
     "output_type": "stream",
     "text": [
      "큰 수를 입력했네요\n"
     ]
    },
    {
     "name": "stdin",
     "output_type": "stream",
     "text": [
      "1 ~ 100 사이의 숫자를 입력하세요:  25\n"
     ]
    },
    {
     "name": "stdout",
     "output_type": "stream",
     "text": [
      "작은 수를 입력했네요\n"
     ]
    },
    {
     "name": "stdin",
     "output_type": "stream",
     "text": [
      "1 ~ 100 사이의 숫자를 입력하세요:  35\n"
     ]
    },
    {
     "name": "stdout",
     "output_type": "stream",
     "text": [
      "큰 수를 입력했네요\n"
     ]
    },
    {
     "name": "stdin",
     "output_type": "stream",
     "text": [
      "1 ~ 100 사이의 숫자를 입력하세요:  28\n"
     ]
    },
    {
     "name": "stdout",
     "output_type": "stream",
     "text": [
      "작은 수를 입력했네요\n"
     ]
    },
    {
     "name": "stdin",
     "output_type": "stream",
     "text": [
      "1 ~ 100 사이의 숫자를 입력하세요:  33\n"
     ]
    },
    {
     "name": "stdout",
     "output_type": "stream",
     "text": [
      "******************************\n",
      "5만에 정답을 맞췄네요!\n",
      "1~100 사이 숫자를 맞춰 보세요!\n",
      "------------------------------\n"
     ]
    },
    {
     "name": "stdin",
     "output_type": "stream",
     "text": [
      "1 ~ 100 사이의 숫자를 입력하세요:  50\n"
     ]
    },
    {
     "name": "stdout",
     "output_type": "stream",
     "text": [
      "작은 수를 입력했네요\n"
     ]
    },
    {
     "name": "stdin",
     "output_type": "stream",
     "text": [
      "1 ~ 100 사이의 숫자를 입력하세요:  75\n"
     ]
    },
    {
     "name": "stdout",
     "output_type": "stream",
     "text": [
      "큰 수를 입력했네요\n"
     ]
    },
    {
     "name": "stdin",
     "output_type": "stream",
     "text": [
      "1 ~ 100 사이의 숫자를 입력하세요:  60\n"
     ]
    },
    {
     "name": "stdout",
     "output_type": "stream",
     "text": [
      "큰 수를 입력했네요\n"
     ]
    },
    {
     "name": "stdin",
     "output_type": "stream",
     "text": [
      "1 ~ 100 사이의 숫자를 입력하세요:  55\n"
     ]
    },
    {
     "name": "stdout",
     "output_type": "stream",
     "text": [
      "큰 수를 입력했네요\n"
     ]
    },
    {
     "name": "stdin",
     "output_type": "stream",
     "text": [
      "1 ~ 100 사이의 숫자를 입력하세요:  52\n"
     ]
    },
    {
     "name": "stdout",
     "output_type": "stream",
     "text": [
      "작은 수를 입력했네요\n"
     ]
    },
    {
     "name": "stdin",
     "output_type": "stream",
     "text": [
      "1 ~ 100 사이의 숫자를 입력하세요:  53\n"
     ]
    },
    {
     "name": "stdout",
     "output_type": "stream",
     "text": [
      "작은 수를 입력했네요\n"
     ]
    },
    {
     "name": "stdin",
     "output_type": "stream",
     "text": [
      "1 ~ 100 사이의 숫자를 입력하세요:  54\n"
     ]
    },
    {
     "name": "stdout",
     "output_type": "stream",
     "text": [
      "******************************\n",
      "7만에 정답을 맞췄네요!\n",
      "1~100 사이 숫자를 맞춰 보세요!\n",
      "------------------------------\n"
     ]
    },
    {
     "name": "stdin",
     "output_type": "stream",
     "text": [
      "1 ~ 100 사이의 숫자를 입력하세요:  50\n"
     ]
    },
    {
     "name": "stdout",
     "output_type": "stream",
     "text": [
      "작은 수를 입력했네요\n"
     ]
    },
    {
     "name": "stdin",
     "output_type": "stream",
     "text": [
      "1 ~ 100 사이의 숫자를 입력하세요:  75\n"
     ]
    },
    {
     "name": "stdout",
     "output_type": "stream",
     "text": [
      "작은 수를 입력했네요\n"
     ]
    },
    {
     "name": "stdin",
     "output_type": "stream",
     "text": [
      "1 ~ 100 사이의 숫자를 입력하세요:  85\n"
     ]
    },
    {
     "name": "stdout",
     "output_type": "stream",
     "text": [
      "작은 수를 입력했네요\n"
     ]
    },
    {
     "name": "stdin",
     "output_type": "stream",
     "text": [
      "1 ~ 100 사이의 숫자를 입력하세요:  95\n"
     ]
    },
    {
     "name": "stdout",
     "output_type": "stream",
     "text": [
      "******************************\n",
      "4만에 정답을 맞췄네요!\n",
      "5번 게임 동안 정답을 맞추기까지의 평균 횟수: 6번\n"
     ]
    }
   ],
   "source": [
    "from random import randint\n",
    "\n",
    "# game = 1 # 몇번째 게임인지 나오면 좋을듯..\n",
    "success_count = 0\n",
    "\n",
    "for s in range(5):\n",
    "    print('1~100 사이 숫자를 맞춰 보세요!')\n",
    "    print('-'*30)\n",
    "\n",
    "    r_number = randint(1,100)\n",
    "\n",
    "    count = 1\n",
    "    while True:\n",
    "        user = input(\"1 ~ 100 사이의 숫자를 입력하세요: \")\n",
    "        if int(user) != r_number:\n",
    "            if int(user) >= r_number: \n",
    "                print('큰 수를 입력했네요')\n",
    "                count += 1\n",
    "                continue\n",
    "            else:\n",
    "                print('작은 수를 입력했네요')\n",
    "                count += 1\n",
    "                continue\n",
    "        else:\n",
    "            break\n",
    "\n",
    "    print('*'*30)\n",
    "    print('%d만에 정답을 맞췄네요!' % count)\n",
    "    success_count += count\n",
    "avg_count = success_count / 5\n",
    "print(\"5번 게임 동안 정답을 맞추기까지의 평균 횟수: %d번\" % avg_count)"
   ]
  }
 ],
 "metadata": {
  "kernelspec": {
   "display_name": "Python 3 (ipykernel)",
   "language": "python",
   "name": "python3"
  },
  "language_info": {
   "codemirror_mode": {
    "name": "ipython",
    "version": 3
   },
   "file_extension": ".py",
   "mimetype": "text/x-python",
   "name": "python",
   "nbconvert_exporter": "python",
   "pygments_lexer": "ipython3",
   "version": "3.9.13"
  }
 },
 "nbformat": 4,
 "nbformat_minor": 5
}
