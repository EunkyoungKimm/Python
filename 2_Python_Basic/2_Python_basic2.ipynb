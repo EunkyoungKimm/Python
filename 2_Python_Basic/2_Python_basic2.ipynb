{
 "cells": [
  {
   "cell_type": "markdown",
   "id": "c6f2eda3-2faa-48c3-ac02-657be2b3a422",
   "metadata": {},
   "source": [
    "# Python Basic2"
   ]
  },
  {
   "cell_type": "markdown",
   "id": "0543a01a-ba89-4f01-bc5c-d80718da7b22",
   "metadata": {},
   "source": [
    "# 내장형\n",
    "\n",
    "https://docs.python.org/ko/3/library/stdtypes.html"
   ]
  },
  {
   "cell_type": "markdown",
   "id": "73df2e3e-49cb-4903-ae0e-2cb6e0e8866c",
   "metadata": {},
   "source": [
    "### Scala Types\n",
    " - 수치, 문자형 리터럴(값이 있는거, 숫자나 문자)"
   ]
  },
  {
   "cell_type": "markdown",
   "id": "d1474a0e-c0a7-4a9d-9131-490372bdb519",
   "metadata": {},
   "source": [
    "### 내장 상수\n",
    "\n",
    "- 정해져있는 상수값들 / 숫자로도 표현됨(아마.. False 0, True 1) > 그니까 다 숫자or문자\n",
    "\n",
    "1. Ellipsis `...`\n",
    "    - Numpy Tutorial 참고\n",
    "1. False\n",
    "2. True\n",
    "3. None\n",
    "4. __debug__"
   ]
  },
  {
   "cell_type": "markdown",
   "id": "70589fbf-1939-409a-bbe1-efa8a623ba57",
   "metadata": {},
   "source": [
    "## 수치형\n",
    "\n",
    " - int (부호있는 정수)\n",
    "     - Python3.x 에서 long은 int로 표현\n",
    " - long (int 보다 긴 정수, 8, 16 진수 표현가능)\n",
    " - float (부동소수점이 있는 실수)\n",
    " - complex (복소수)\n",
    "\n",
    "\n",
    "```python\n",
    "var1 = 1\n",
    "var2 = -10\n",
    "\n",
    "var1 = 122\n",
    "var2 = -0x19323 # 16진수, 얘도 정수임\n",
    "\n",
    "var1 = 15.20\n",
    "var2 = 70.2-1E12 # 10의 12승 / 1E-12면 10의 -12승\n",
    "\n",
    "var1 = 3.14j\n",
    "var2 = 4.53e1-7j\n",
    "```"
   ]
  },
  {
   "cell_type": "markdown",
   "id": "01189e5d-2287-403f-a93a-5ebc2ea8ea1c",
   "metadata": {},
   "source": [
    "### 정수형"
   ]
  },
  {
   "cell_type": "code",
   "execution_count": 179,
   "id": "2cde5337-4415-4e0f-98d8-82db6b570f00",
   "metadata": {
    "scrolled": true
   },
   "outputs": [],
   "source": [
    "#Integers\n",
    "e = 10\n",
    "f = 20"
   ]
  },
  {
   "cell_type": "code",
   "execution_count": 180,
   "id": "9d8dc1b8-35ed-495b-8519-0de7b8440bf3",
   "metadata": {
    "scrolled": true
   },
   "outputs": [
    {
     "name": "stdout",
     "output_type": "stream",
     "text": [
      "30\n"
     ]
    }
   ],
   "source": [
    "g = e + f\n",
    "print(g)"
   ]
  },
  {
   "cell_type": "code",
   "execution_count": 181,
   "id": "8fc137dd-fd3b-4f74-80fd-1493b538f6e7",
   "metadata": {
    "scrolled": true
   },
   "outputs": [
    {
     "data": {
      "text/plain": [
       "int"
      ]
     },
     "execution_count": 181,
     "metadata": {},
     "output_type": "execute_result"
    }
   ],
   "source": [
    "type(g)"
   ]
  },
  {
   "cell_type": "markdown",
   "id": "3770a06c-65fa-431a-9be4-4e0bd0cf04ac",
   "metadata": {},
   "source": [
    "P3에서 long이 int로 표현"
   ]
  },
  {
   "cell_type": "code",
   "execution_count": 185,
   "id": "6cec0d00-9493-4020-a45e-87763fedfa5a",
   "metadata": {},
   "outputs": [
    {
     "ename": "SyntaxError",
     "evalue": "invalid syntax (1538119483.py, line 2)",
     "output_type": "error",
     "traceback": [
      "\u001b[1;36m  Cell \u001b[1;32mIn [185], line 2\u001b[1;36m\u001b[0m\n\u001b[1;33m    a = 12345L # python 2.x 에서 굉장히 큰 숫자를 표현하려고 사용했던 표현(다른 데에서 l발견하면 파이썬 2점대에서 컴파일되겠구나 생각하면 됨)\u001b[0m\n\u001b[1;37m             ^\u001b[0m\n\u001b[1;31mSyntaxError\u001b[0m\u001b[1;31m:\u001b[0m invalid syntax\n"
     ]
    }
   ],
   "source": [
    "# long integer\n",
    "a = 12345L # python 2.x 에서 굉장히 큰 숫자를 표현하려고 사용했던 표현(다른 데에서 l발견하면 파이썬 2점대에서 컴파일되겠구나 생각하면 됨)"
   ]
  },
  {
   "cell_type": "code",
   "execution_count": null,
   "id": "3e3e606e-2d0f-4330-8072-f406ab7fe53d",
   "metadata": {},
   "outputs": [],
   "source": [
    "e = 10\n",
    "f = 20\n",
    "g = e + f\n",
    "g"
   ]
  },
  {
   "cell_type": "markdown",
   "id": "5c7b183c-bcc2-4937-96e6-0350bfbb5813",
   "metadata": {},
   "source": [
    "### 실수형"
   ]
  },
  {
   "cell_type": "code",
   "execution_count": 186,
   "id": "0fd73452-9fd3-4ed6-9e7a-02a5d94c41c2",
   "metadata": {},
   "outputs": [
    {
     "data": {
      "text/plain": [
       "float"
      ]
     },
     "execution_count": 186,
     "metadata": {},
     "output_type": "execute_result"
    }
   ],
   "source": [
    "# floating point\n",
    "pi = 3.14159\n",
    "type(pi)"
   ]
  },
  {
   "cell_type": "code",
   "execution_count": 187,
   "id": "8a66dfbc-2b9f-4b58-85e1-e5822e4fe8c9",
   "metadata": {},
   "outputs": [
    {
     "data": {
      "text/plain": [
       "4.24159"
      ]
     },
     "execution_count": 187,
     "metadata": {},
     "output_type": "execute_result"
    }
   ],
   "source": [
    "pi + 1.1"
   ]
  },
  {
   "cell_type": "code",
   "execution_count": 188,
   "id": "8e4ef91c-57d5-4f06-834c-193d1f82f1cf",
   "metadata": {},
   "outputs": [
    {
     "data": {
      "text/plain": [
       "5.14159"
      ]
     },
     "execution_count": 188,
     "metadata": {},
     "output_type": "execute_result"
    }
   ],
   "source": [
    "pi + 2"
   ]
  },
  {
   "cell_type": "markdown",
   "id": "4467759e-84d8-4137-b48d-897ff024c293",
   "metadata": {},
   "source": [
    "- Type Casting!! 이 발생함!!!(Automatically Type Casting)>> 보통 숫자가 얼마나 자세히, 세밀하게 표현되냐에서 자동으로실수+정수하면 실수가 됨!"
   ]
  },
  {
   "cell_type": "markdown",
   "id": "bf83d6eb-aa52-4ad0-bdf8-351e6ebc3427",
   "metadata": {},
   "source": [
    "지수 표현"
   ]
  },
  {
   "cell_type": "code",
   "execution_count": 189,
   "id": "559b510d-0d42-4af6-b7d2-a3d9442f96fa",
   "metadata": {},
   "outputs": [],
   "source": [
    "e = 3e3"
   ]
  },
  {
   "cell_type": "code",
   "execution_count": 190,
   "id": "524fc7a9-0395-4be7-8622-311d306bd51c",
   "metadata": {},
   "outputs": [
    {
     "data": {
      "text/plain": [
       "3000.0"
      ]
     },
     "execution_count": 190,
     "metadata": {},
     "output_type": "execute_result"
    }
   ],
   "source": [
    "e"
   ]
  },
  {
   "cell_type": "code",
   "execution_count": 191,
   "id": "3a4eb7de-8ce1-4799-b11e-45704492f176",
   "metadata": {},
   "outputs": [
    {
     "data": {
      "text/plain": [
       "0.003"
      ]
     },
     "execution_count": 191,
     "metadata": {},
     "output_type": "execute_result"
    }
   ],
   "source": [
    "3e-3"
   ]
  },
  {
   "cell_type": "code",
   "execution_count": null,
   "id": "f12b9123-dca9-45ad-902e-ab481b2a36b3",
   "metadata": {},
   "outputs": [],
   "source": [
    "d = -2.12E-5\n",
    "print(e, d)"
   ]
  },
  {
   "cell_type": "code",
   "execution_count": null,
   "id": "29562ee4-c577-4f39-85de-9a2e84ebdde7",
   "metadata": {},
   "outputs": [],
   "source": [
    "type(e)"
   ]
  },
  {
   "cell_type": "markdown",
   "id": "4f490919-2ede-4c42-8614-8b62d1d4cb34",
   "metadata": {},
   "source": [
    "float.is_integer() : 값의 모양이 정수 형태인가 확인. 타입 체크는 아니고 형태 판별 메서드"
   ]
  },
  {
   "cell_type": "code",
   "execution_count": null,
   "id": "9b339cb8-5db3-4965-bdfb-7e83b72c86ea",
   "metadata": {},
   "outputs": [],
   "source": [
    "print(e, type(e), \"는 정수형태?\", e.is_integer())\n",
    "print(d, type(d), \"는 정수형태?\", d.is_integer())"
   ]
  },
  {
   "cell_type": "markdown",
   "id": "17ce9362-cb80-4052-8a50-d5f7b666ee06",
   "metadata": {},
   "source": [
    "### 2/8/16 진수"
   ]
  },
  {
   "cell_type": "code",
   "execution_count": 192,
   "id": "aad3e93a-9dac-4008-85e4-207b4ec5a1b2",
   "metadata": {},
   "outputs": [
    {
     "data": {
      "text/plain": [
       "42"
      ]
     },
     "execution_count": 192,
     "metadata": {},
     "output_type": "execute_result"
    }
   ],
   "source": [
    "# Bin: 0~1, 0b붙음\n",
    "0b101010"
   ]
  },
  {
   "cell_type": "code",
   "execution_count": 194,
   "id": "ff453d69-788b-448a-ac7c-13f1892b277b",
   "metadata": {},
   "outputs": [
    {
     "data": {
      "text/plain": [
       "(7, 8)"
      ]
     },
     "execution_count": 194,
     "metadata": {},
     "output_type": "execute_result"
    }
   ],
   "source": [
    "# Octal: 0~7, 0o붙음\n",
    "0o07, 0o10"
   ]
  },
  {
   "cell_type": "code",
   "execution_count": 195,
   "id": "6ed6a2b2-6541-4f2a-ac0a-47614c8a33c3",
   "metadata": {},
   "outputs": [
    {
     "data": {
      "text/plain": [
       "int"
      ]
     },
     "execution_count": 195,
     "metadata": {},
     "output_type": "execute_result"
    }
   ],
   "source": [
    "type(0o07)"
   ]
  },
  {
   "cell_type": "code",
   "execution_count": 197,
   "id": "de193692-da12-4114-a711-158f1ff096b7",
   "metadata": {},
   "outputs": [
    {
     "data": {
      "text/plain": [
       "58"
      ]
     },
     "execution_count": 197,
     "metadata": {},
     "output_type": "execute_result"
    }
   ],
   "source": [
    "# Hex\n",
    "0x3A        # 3*16 + 10*1"
   ]
  },
  {
   "cell_type": "code",
   "execution_count": 198,
   "id": "3858c84b-3d70-4a07-bf3a-83408bf5856d",
   "metadata": {},
   "outputs": [
    {
     "data": {
      "text/plain": [
       "int"
      ]
     },
     "execution_count": 198,
     "metadata": {},
     "output_type": "execute_result"
    }
   ],
   "source": [
    "type(0x3A)"
   ]
  },
  {
   "cell_type": "code",
   "execution_count": 201,
   "id": "8079b74c-3c1a-4d5b-89d4-93d7a7fb103c",
   "metadata": {},
   "outputs": [
    {
     "data": {
      "text/plain": [
       "('0b1001', '0b101010100')"
      ]
     },
     "execution_count": 201,
     "metadata": {},
     "output_type": "execute_result"
    }
   ],
   "source": [
    "bin(9), bin(340) # 10진수를 2진수로"
   ]
  },
  {
   "cell_type": "code",
   "execution_count": 202,
   "id": "d1ed8def-6ad7-4cb6-8f32-e67675630f21",
   "metadata": {},
   "outputs": [
    {
     "data": {
      "text/plain": [
       "10"
      ]
     },
     "execution_count": 202,
     "metadata": {},
     "output_type": "execute_result"
    }
   ],
   "source": [
    "int(0b1010) # 2진수를 10진수로"
   ]
  },
  {
   "cell_type": "code",
   "execution_count": 203,
   "id": "71ae258a-ab0e-4777-90a1-4f287b9ab93e",
   "metadata": {},
   "outputs": [
    {
     "data": {
      "text/plain": [
       "847"
      ]
     },
     "execution_count": 203,
     "metadata": {},
     "output_type": "execute_result"
    }
   ],
   "source": [
    "int(0x34f)"
   ]
  },
  {
   "cell_type": "code",
   "execution_count": 205,
   "id": "78daff15-10da-4bef-bc77-515d0eae8644",
   "metadata": {},
   "outputs": [
    {
     "data": {
      "text/plain": [
       "'0x257'"
      ]
     },
     "execution_count": 205,
     "metadata": {},
     "output_type": "execute_result"
    }
   ],
   "source": [
    "hex(599) # 10진수를 16진수로"
   ]
  },
  {
   "cell_type": "markdown",
   "id": "62896a23-a647-4655-b7c0-9135459c9de8",
   "metadata": {},
   "source": [
    "### Complex"
   ]
  },
  {
   "cell_type": "code",
   "execution_count": 206,
   "id": "26d5cd50-6fcd-45cd-a596-579ecc1d7533",
   "metadata": {},
   "outputs": [
    {
     "data": {
      "text/plain": [
       "(3+4j)"
      ]
     },
     "execution_count": 206,
     "metadata": {},
     "output_type": "execute_result"
    }
   ],
   "source": [
    "# complex\n",
    "3+4j"
   ]
  },
  {
   "cell_type": "code",
   "execution_count": 207,
   "id": "058fc6ad-a304-47f3-9dba-a99c0abf7bed",
   "metadata": {},
   "outputs": [
    {
     "name": "stdout",
     "output_type": "stream",
     "text": [
      "(3+4j)\n"
     ]
    }
   ],
   "source": [
    "print(3+4j)"
   ]
  },
  {
   "cell_type": "code",
   "execution_count": 209,
   "id": "021ed920-9992-4099-ab05-f7c9f407912c",
   "metadata": {},
   "outputs": [
    {
     "name": "stdout",
     "output_type": "stream",
     "text": [
      "(3+4j)\n"
     ]
    }
   ],
   "source": [
    "print(complex(3, 4)) # 실수부 3, 허수부 4 / complex 내장함수"
   ]
  },
  {
   "cell_type": "code",
   "execution_count": 210,
   "id": "68823373-de1a-4cda-ae38-d5b34dc3428f",
   "metadata": {},
   "outputs": [
    {
     "name": "stdout",
     "output_type": "stream",
     "text": [
      "(3+4j) 의 실수부: 3.0\n",
      "(3+4j) 의 허수부: 7.0\n",
      "(3+4j) 의 켤레 복소수: (3-4j)\n"
     ]
    }
   ],
   "source": [
    "print(3+4J, \"의 실수부:\", 3+4J.real)\n",
    "print(3+4j, \"의 허수부:\", 3+4j.imag) # 허수부\n",
    "print(3+4J, \"의 켤레 복소수:\", 3+4J.conjugate())"
   ]
  },
  {
   "cell_type": "code",
   "execution_count": null,
   "id": "b4802388-ca1b-4510-b6f5-1cf6cc02682a",
   "metadata": {},
   "outputs": [],
   "source": [
    "5.0+2.5J"
   ]
  },
  {
   "cell_type": "code",
   "execution_count": null,
   "id": "5f50f4f8-29f6-4a22-b6f0-154893394ba4",
   "metadata": {},
   "outputs": [],
   "source": [
    "type(4j)"
   ]
  },
  {
   "cell_type": "markdown",
   "id": "f4bd0408-5390-4cf9-b3e5-4181c9a83df6",
   "metadata": {},
   "source": [
    "### 수치자료형 한계\n",
    "\n",
    "- python 3.x : 수치형은 모두 다 64bit(8bytes) 64비트(비트는 소문자로 씀. 제일 작은 단위)(이 비트가 8개 단위로.. 바이트는 이렇게 대문자로 씀.(8x8=64) > 크기가 확장됨.."
   ]
  },
  {
   "cell_type": "code",
   "execution_count": 184,
   "id": "68a1739a-acd6-4ff5-bd19-b31feb99f859",
   "metadata": {},
   "outputs": [
    {
     "data": {
      "text/plain": [
       "9223372036854775807"
      ]
     },
     "execution_count": 184,
     "metadata": {},
     "output_type": "execute_result"
    }
   ],
   "source": [
    "import sys\n",
    "sys.maxsize # 이 숫자까지 표현가능"
   ]
  },
  {
   "cell_type": "markdown",
   "id": "62bfdd6a-0738-4e3d-a39f-19e24a396227",
   "metadata": {},
   "source": [
    "### 숫자형 내장 함수\n",
    "\n",
    "형 변환을 위한 데이터형 내장함수\n",
    " - int(), float(), complex(), bin(), hex(), oct()\n",
    "\n",
    "연산을 위한 내장 함수\n",
    " - pow(), mean(), abs()"
   ]
  },
  {
   "cell_type": "code",
   "execution_count": 211,
   "id": "e48cb4ab-7147-441d-81ff-77934e2dd6a0",
   "metadata": {},
   "outputs": [
    {
     "name": "stdout",
     "output_type": "stream",
     "text": [
      "절댓값: 3\n",
      "정수 변환 함수: 3\n",
      "실수 변환 함수: 3.14159\n",
      "복소수 행성 함수: (5+3j)\n"
     ]
    }
   ],
   "source": [
    "print(\"절댓값:\", abs(-3))\n",
    "print(\"정수 변환 함수:\", int(\"3\"))\n",
    "print(\"실수 변환 함수:\", float(\"3.14159\"))\n",
    "print(\"복소수 행성 함수:\", complex(5, 3))"
   ]
  },
  {
   "cell_type": "code",
   "execution_count": 213,
   "id": "05468f66-2dd9-420d-9d9b-87a26a61c0a6",
   "metadata": {},
   "outputs": [
    {
     "ename": "ValueError",
     "evalue": "invalid literal for int() with base 10: '105.9'",
     "output_type": "error",
     "traceback": [
      "\u001b[1;31m---------------------------------------------------------------------------\u001b[0m",
      "\u001b[1;31mValueError\u001b[0m                                Traceback (most recent call last)",
      "Cell \u001b[1;32mIn [213], line 1\u001b[0m\n\u001b[1;32m----> 1\u001b[0m f \u001b[38;5;241m=\u001b[39m \u001b[38;5;28;43mint\u001b[39;49m\u001b[43m(\u001b[49m\u001b[38;5;124;43m\"\u001b[39;49m\u001b[38;5;124;43m105.9\u001b[39;49m\u001b[38;5;124;43m\"\u001b[39;49m\u001b[43m)\u001b[49m \u001b[38;5;66;03m# 문자가 int값이 아니라서 Error\u001b[39;00m\n\u001b[0;32m      2\u001b[0m f\n",
      "\u001b[1;31mValueError\u001b[0m: invalid literal for int() with base 10: '105.9'"
     ]
    }
   ],
   "source": [
    "f = int(\"105.9\") # 문자로 나타낸 수가 int값이 아니라서 Error\n",
    "f"
   ]
  },
  {
   "cell_type": "code",
   "execution_count": 215,
   "id": "71e216de-2211-42d7-becd-2bbf2179e675",
   "metadata": {},
   "outputs": [
    {
     "ename": "ValueError",
     "evalue": "invalid literal for int() with base 10: '0x1F'",
     "output_type": "error",
     "traceback": [
      "\u001b[1;31m---------------------------------------------------------------------------\u001b[0m",
      "\u001b[1;31mValueError\u001b[0m                                Traceback (most recent call last)",
      "Cell \u001b[1;32mIn [215], line 1\u001b[0m\n\u001b[1;32m----> 1\u001b[0m f \u001b[38;5;241m=\u001b[39m \u001b[38;5;28;43mint\u001b[39;49m\u001b[43m(\u001b[49m\u001b[38;5;124;43m\"\u001b[39;49m\u001b[38;5;124;43m0x1F\u001b[39;49m\u001b[38;5;124;43m\"\u001b[39;49m\u001b[43m)\u001b[49m \u001b[38;5;66;03m# 문자로 나타낸 수가 int값이 아니라서 Error\u001b[39;00m\n\u001b[0;32m      2\u001b[0m f\n",
      "\u001b[1;31mValueError\u001b[0m: invalid literal for int() with base 10: '0x1F'"
     ]
    }
   ],
   "source": [
    "f = int(\"0x1F\") # 문자로 나타낸 수가 int값이 아니라서 Error\n",
    "f"
   ]
  },
  {
   "cell_type": "code",
   "execution_count": 216,
   "id": "b9ce60c2-3333-4820-8674-6fd62f2c9c9b",
   "metadata": {},
   "outputs": [
    {
     "data": {
      "text/plain": [
       "105"
      ]
     },
     "execution_count": 216,
     "metadata": {},
     "output_type": "execute_result"
    }
   ],
   "source": [
    "f = int(\"105\")\n",
    "f"
   ]
  },
  {
   "cell_type": "code",
   "execution_count": 217,
   "id": "3dd7bdde-de01-470a-bc0d-6241285cf388",
   "metadata": {},
   "outputs": [
    {
     "name": "stdout",
     "output_type": "stream",
     "text": [
      "(2, 1) is <class 'tuple'>\n"
     ]
    }
   ],
   "source": [
    "# 정수 나눗셈의 몫과 나머지\n",
    "res = divmod(7, 3) # 7을 3으로 나눈 몫과 나머지\n",
    "print(res, \"is\", type(res))"
   ]
  },
  {
   "cell_type": "code",
   "execution_count": null,
   "id": "b1828ab0-39ca-4ee7-9c76-0b636308c8d8",
   "metadata": {},
   "outputs": [],
   "source": [
    "print(\"제곱 함수:\", pow(3, 10)) # 3의 10승 -> **"
   ]
  },
  {
   "cell_type": "code",
   "execution_count": null,
   "id": "e96999fb-efb4-4b7b-a58b-5ba7e0d0a707",
   "metadata": {},
   "outputs": [],
   "source": [
    "print(abs(-2.0))           # 절대 값\n",
    "# 자료형 int(), long(), float()\n",
    "print(int(20.4))           # 정수\n",
    "print(float(1))\n"
   ]
  },
  {
   "cell_type": "markdown",
   "id": "a5248d42-56d4-497f-97e4-3e4b12fd9e47",
   "metadata": {},
   "source": [
    "복잡한 삼각 함수, 지수, 로그 등은  math 모듈 안쪽에 있다"
   ]
  },
  {
   "cell_type": "code",
   "execution_count": null,
   "id": "5385378e-b9e4-4530-b277-c4130a54a668",
   "metadata": {},
   "outputs": [],
   "source": [
    "import math, cmath\n",
    "dir(math)\n",
    "dir(cmath)"
   ]
  },
  {
   "cell_type": "markdown",
   "id": "c0148af1-3e8c-42d0-be2b-cd041df75928",
   "metadata": {},
   "source": [
    "## Boolean\n",
    "\n",
    "불(bool) 자료형이란 참(True)과 거짓(False)을 나타내는 자료형이다. 불 자료형은 다음의 2가지 값만을 가질 수 있다. 논리연산, 관계연산을 하는.. 비교.. 이런 결과를 표현하기 위해 사용하는게 바로 이 불 자료형!\n",
    "\n",
    " - `True` : 참\n",
    " - `False` : 거짓\n",
    " \n",
    "`True`나 `False`는 파이썬의 예약어로 첫 문자를 항상 대문자로 사용해야 한다."
   ]
  },
  {
   "cell_type": "code",
   "execution_count": 6,
   "id": "17326eff-0abc-4404-bd80-7a9cdb30ea47",
   "metadata": {},
   "outputs": [],
   "source": [
    "a = True\n",
    "b = False"
   ]
  },
  {
   "cell_type": "code",
   "execution_count": 7,
   "id": "b77a21b6-c7db-4d7a-bb4f-e523b26102f5",
   "metadata": {},
   "outputs": [
    {
     "data": {
      "text/plain": [
       "True"
      ]
     },
     "execution_count": 7,
     "metadata": {},
     "output_type": "execute_result"
    }
   ],
   "source": [
    "a"
   ]
  },
  {
   "cell_type": "code",
   "execution_count": 8,
   "id": "0bd9f398-6ddf-4350-9eff-35c9711a5222",
   "metadata": {},
   "outputs": [
    {
     "data": {
      "text/plain": [
       "False"
      ]
     },
     "execution_count": 8,
     "metadata": {},
     "output_type": "execute_result"
    }
   ],
   "source": [
    "b"
   ]
  },
  {
   "cell_type": "code",
   "execution_count": 9,
   "id": "af9ca96a-2b10-4a07-a109-d73288a5c922",
   "metadata": {},
   "outputs": [
    {
     "name": "stdout",
     "output_type": "stream",
     "text": [
      "False\n"
     ]
    }
   ],
   "source": [
    "print(b)"
   ]
  },
  {
   "cell_type": "code",
   "execution_count": 11,
   "id": "895af9b2-e4c8-4bfd-b532-47ae1a788507",
   "metadata": {},
   "outputs": [
    {
     "name": "stdout",
     "output_type": "stream",
     "text": [
      "True False\n"
     ]
    }
   ],
   "source": [
    "print(True, False)"
   ]
  },
  {
   "cell_type": "code",
   "execution_count": 12,
   "id": "d5cb7d34-34f9-452d-bd8c-900b09203457",
   "metadata": {},
   "outputs": [
    {
     "data": {
      "text/plain": [
       "False"
      ]
     },
     "execution_count": 12,
     "metadata": {},
     "output_type": "execute_result"
    }
   ],
   "source": [
    "a == b"
   ]
  },
  {
   "cell_type": "code",
   "execution_count": 13,
   "id": "80315446-7ca4-4ccd-98f2-d68b618a9cc1",
   "metadata": {},
   "outputs": [
    {
     "data": {
      "text/plain": [
       "(True, False, True)"
      ]
     },
     "execution_count": 13,
     "metadata": {},
     "output_type": "execute_result"
    }
   ],
   "source": [
    "3 > 1, 0 == 1, -1 <= 0"
   ]
  },
  {
   "cell_type": "markdown",
   "id": "eaeb0ef5-7e18-42fb-acfd-c9534738ec05",
   "metadata": {},
   "source": [
    "### 자료형의 Boolean 비교\n",
    "\n",
    "일반 자료형에 대해서 비교연산, 반복 조건 등에 따라 참.거짓을 사용하게 된다."
   ]
  },
  {
   "cell_type": "code",
   "execution_count": 33,
   "id": "5aff3a17-7136-4253-bbbb-7df21a1b7047",
   "metadata": {},
   "outputs": [],
   "source": [
    "a = [1, 2, 3, 4] # list(리스트라는 자료형! 이건 내장형이 아님. 즉, 파이썬에서 지원하는 자료형이 아님)-여러개의 객체값, 스칼라값, 복합된 자료를 표현할 때 씀."
   ]
  },
  {
   "cell_type": "code",
   "execution_count": 34,
   "id": "28444571-7aec-4d9c-961a-4b6c91feb8c4",
   "metadata": {},
   "outputs": [
    {
     "data": {
      "text/plain": [
       "[1, 2, 3, 4]"
      ]
     },
     "execution_count": 34,
     "metadata": {},
     "output_type": "execute_result"
    }
   ],
   "source": [
    "a"
   ]
  },
  {
   "cell_type": "code",
   "execution_count": 39,
   "id": "996e8230-47b8-483f-887e-2decf0f45e21",
   "metadata": {},
   "outputs": [],
   "source": [
    "# while-반복문: 자료형, 값이 있을 때까지(존재하면) 계속 무한반복.. > 이때 bool 자료형이 활용됨(true=값이 있다, false=값이 없다)\n",
    "while a:\n",
    "    print(a.pop()) # pop-하나씩 끄집어냄. 끄집어낸거는 비어짐. 마지막에 비워지니까 false가 되서 멈춤.\n",
    "    \n",
    "# (이렇게 조건판단할 때, bool자료형이 쓰여짐.)/비어져있다는 상태를 표시하는 상수가 None.\n",
    "# hello = ' ' >> 이건 비어진게 아님.(공백이 있음) / hello = ''(공백도 없으면 False더라)"
   ]
  },
  {
   "cell_type": "markdown",
   "id": "dba5fc0b-c8b4-439f-8f05-5933e7a9b973",
   "metadata": {},
   "source": [
    "hello 객체가 비어있지 않다면 일을 처리한다"
   ]
  },
  {
   "cell_type": "code",
   "execution_count": 2,
   "id": "6a2c49bf-baba-481b-b26c-18b2b674297c",
   "metadata": {
    "scrolled": true
   },
   "outputs": [
    {
     "name": "stdout",
     "output_type": "stream",
     "text": [
      "hello\n"
     ]
    }
   ],
   "source": [
    "hello = \"안녕하세요\"\n",
    "if hello:                 #hello에 값이 있으면.. hello값 있으니까 True! 걍 if hello = if True 인 의미임!\n",
    "    print(\"hello\")\n",
    "else:\n",
    "    print(\"Oooops\")"
   ]
  },
  {
   "cell_type": "code",
   "execution_count": 1,
   "id": "32081509-24e9-44b4-a609-f235c8274e26",
   "metadata": {
    "scrolled": true
   },
   "outputs": [
    {
     "name": "stdout",
     "output_type": "stream",
     "text": [
      "hello\n"
     ]
    }
   ],
   "source": [
    "hello = \" \"\n",
    "if hello:                 #hello에 값이 있으면.. hello값 있으니까 True! 걍 if hello = if True 인 의미임!\n",
    "    print(\"hello\")\n",
    "else:\n",
    "    print(\"Oooops\")"
   ]
  },
  {
   "cell_type": "code",
   "execution_count": 3,
   "id": "3cf9a774-91ff-4cf3-8e62-0aa1443c0735",
   "metadata": {},
   "outputs": [
    {
     "name": "stdout",
     "output_type": "stream",
     "text": [
      "Up...\n"
     ]
    }
   ],
   "source": [
    "if 3 > 1:\n",
    "    print('Up...')\n",
    "else:\n",
    "    print('Low...')"
   ]
  },
  {
   "cell_type": "code",
   "execution_count": 23,
   "id": "c205410f-dee1-4861-adf4-f08fd4ed7a73",
   "metadata": {},
   "outputs": [
    {
     "data": {
      "text/plain": [
       "True"
      ]
     },
     "execution_count": 23,
     "metadata": {},
     "output_type": "execute_result"
    }
   ],
   "source": [
    "3 > 1"
   ]
  },
  {
   "cell_type": "code",
   "execution_count": 22,
   "id": "b81fb78b-2c88-4bf3-88c1-d8f5be435239",
   "metadata": {},
   "outputs": [
    {
     "name": "stdout",
     "output_type": "stream",
     "text": [
      "Up...\n"
     ]
    }
   ],
   "source": [
    "if 3 > 1 == True:               #위에랑 의미==\n",
    "    print('Up...')\n",
    "else:\n",
    "    print('Low...')"
   ]
  },
  {
   "cell_type": "markdown",
   "id": "e2001fce-c971-4b8e-8e54-662b805fe5a6",
   "metadata": {},
   "source": [
    "hello 요소가 존재하는 동안 다음 요소를 사용한다."
   ]
  },
  {
   "cell_type": "code",
   "execution_count": 41,
   "id": "7bc56d03-bdaf-4a57-bc4c-14cb55bd22e8",
   "metadata": {},
   "outputs": [
    {
     "name": "stdout",
     "output_type": "stream",
     "text": [
      "안\n",
      "녕\n",
      "하\n",
      "세\n",
      "요\n"
     ]
    }
   ],
   "source": [
    "hello = \"안녕하세요\"\n",
    "for c in hello: # for 반복문 - 범위값..동안 반복 / while, for문 옆에는 조건문, 조건식, 조건을 갖고있는 객체가 쓰임, 그걸 판단하는데 bool자료형이 쓰이고, 그게 비어있는 상태를 나타낸게 none이라는 상수로 표현됨.\n",
    "    print(c)"
   ]
  },
  {
   "cell_type": "markdown",
   "id": "742ea1d0-2756-4c2c-b44e-0a8880f60d07",
   "metadata": {},
   "source": [
    "### Boolean operation\n",
    "\n",
    "`bool(item)`내장 함수를 사용하면 주어진 자료의 참.거짓을 알 수 있다."
   ]
  },
  {
   "cell_type": "code",
   "execution_count": 42,
   "id": "760fb3ed-b1cf-4b5c-b9d1-844dadf3a885",
   "metadata": {},
   "outputs": [
    {
     "data": {
      "text/plain": [
       "True"
      ]
     },
     "execution_count": 42,
     "metadata": {},
     "output_type": "execute_result"
    }
   ],
   "source": [
    "bool([1])"
   ]
  },
  {
   "cell_type": "code",
   "execution_count": 43,
   "id": "b01c692c-dbca-45e4-9d79-27ce9a6fa47b",
   "metadata": {},
   "outputs": [
    {
     "data": {
      "text/plain": [
       "True"
      ]
     },
     "execution_count": 43,
     "metadata": {},
     "output_type": "execute_result"
    }
   ],
   "source": [
    "bool(1)"
   ]
  },
  {
   "cell_type": "code",
   "execution_count": 44,
   "id": "eb208d7f-bbe9-4df9-b525-9ace62872545",
   "metadata": {},
   "outputs": [
    {
     "data": {
      "text/plain": [
       "True"
      ]
     },
     "execution_count": 44,
     "metadata": {},
     "output_type": "execute_result"
    }
   ],
   "source": [
    "bool(\"하하하\")"
   ]
  },
  {
   "cell_type": "markdown",
   "id": "39e7e465-0c7e-49f9-9bc8-c458b9be0be0",
   "metadata": {},
   "source": [
    "연산규칙은?"
   ]
  },
  {
   "cell_type": "code",
   "execution_count": 45,
   "id": "2c9fcb64-fc15-4dd6-b918-59147bcd2b31",
   "metadata": {},
   "outputs": [
    {
     "data": {
      "text/plain": [
       "0"
      ]
     },
     "execution_count": 45,
     "metadata": {},
     "output_type": "execute_result"
    }
   ],
   "source": [
    "bool(\"하하하\") * bool([])"
   ]
  },
  {
   "cell_type": "code",
   "execution_count": 48,
   "id": "87d7341d-d6f9-407a-a447-65d9b77dccb6",
   "metadata": {},
   "outputs": [
    {
     "data": {
      "text/plain": [
       "False"
      ]
     },
     "execution_count": 48,
     "metadata": {},
     "output_type": "execute_result"
    }
   ],
   "source": [
    "bool(None) # none이라는 상태는 값이 없는 상태, id없음. 메모리에 할당이 안된 상태임!"
   ]
  },
  {
   "cell_type": "code",
   "execution_count": 47,
   "id": "f2c2187f-f9f9-42d7-8657-f1e1c7dc5343",
   "metadata": {},
   "outputs": [
    {
     "data": {
      "text/plain": [
       "False"
      ]
     },
     "execution_count": 47,
     "metadata": {},
     "output_type": "execute_result"
    }
   ],
   "source": [
    "bool([])"
   ]
  },
  {
   "cell_type": "code",
   "execution_count": 50,
   "id": "992a4074-d2c1-4eb9-a9d2-38901c972c2e",
   "metadata": {},
   "outputs": [
    {
     "data": {
      "text/plain": [
       "2"
      ]
     },
     "execution_count": 50,
     "metadata": {},
     "output_type": "execute_result"
    }
   ],
   "source": [
    "True + True # True기 때문에 연산할때! 1로 바뀜. ( 이렇게 같은 자료형만 연산됨! 1 + 'h' >> error )/ 연산할 때는 이렇게 숫자로 바뀜"
   ]
  },
  {
   "cell_type": "code",
   "execution_count": 52,
   "id": "8487677e-e457-44fa-842b-bcc6219c05cd",
   "metadata": {},
   "outputs": [
    {
     "data": {
      "text/plain": [
       "1"
      ]
     },
     "execution_count": 52,
     "metadata": {},
     "output_type": "execute_result"
    }
   ],
   "source": [
    "True + False # 불리언이 연산으로 들어가면 수치형으로 됨."
   ]
  },
  {
   "cell_type": "code",
   "execution_count": 53,
   "id": "fb6d4ebb-bae2-4a22-ac9e-8a8f3cae41a2",
   "metadata": {},
   "outputs": [
    {
     "data": {
      "text/plain": [
       "0"
      ]
     },
     "execution_count": 53,
     "metadata": {},
     "output_type": "execute_result"
    }
   ],
   "source": [
    "True * False"
   ]
  },
  {
   "cell_type": "markdown",
   "id": "30ee60d7-e5af-4352-8351-25a0e540a21c",
   "metadata": {},
   "source": [
    "## Strings"
   ]
  },
  {
   "cell_type": "code",
   "execution_count": 55,
   "id": "8d42a23d-4baa-4450-b0f1-695417d927d2",
   "metadata": {},
   "outputs": [],
   "source": [
    "a = 'this is a string'\n",
    "b = \"another 문자열\""
   ]
  },
  {
   "cell_type": "code",
   "execution_count": 59,
   "id": "ac57e10d-a8b0-46b6-bb8e-4c5969abae93",
   "metadata": {},
   "outputs": [],
   "source": [
    "# docstring\n",
    "\n",
    "c = \"\"\"\n",
    "This is a longer string that\n",
    "spans multiple lines\n",
    "\"\"\""
   ]
  },
  {
   "cell_type": "code",
   "execution_count": 57,
   "id": "865b7733-1a46-4134-863e-16894683d933",
   "metadata": {},
   "outputs": [
    {
     "data": {
      "text/plain": [
       "str"
      ]
     },
     "execution_count": 57,
     "metadata": {},
     "output_type": "execute_result"
    }
   ],
   "source": [
    "c.__class__"
   ]
  },
  {
   "cell_type": "code",
   "execution_count": 60,
   "id": "485dea1d-2387-430e-8f5f-7672a9aff4c3",
   "metadata": {},
   "outputs": [
    {
     "data": {
      "text/plain": [
       "str"
      ]
     },
     "execution_count": 60,
     "metadata": {},
     "output_type": "execute_result"
    }
   ],
   "source": [
    "type(c)"
   ]
  },
  {
   "cell_type": "code",
   "execution_count": 64,
   "id": "3ee99648-e5a7-4929-b6a1-daa91aab2b5f",
   "metadata": {},
   "outputs": [
    {
     "data": {
      "text/plain": [
       "'\\nTHIS IS A LONGER STRING THAT\\nSPANS MULTIPLE LINES\\n'"
      ]
     },
     "execution_count": 64,
     "metadata": {},
     "output_type": "execute_result"
    }
   ],
   "source": [
    "c.upper() # 객체. 하고 tab하면 그 객체에 쓸 수 있는 함수,메소드f가 나타남"
   ]
  },
  {
   "cell_type": "code",
   "execution_count": 63,
   "id": "c78da6e5-f544-4cb5-9297-ab0b7f76a831",
   "metadata": {},
   "outputs": [
    {
     "data": {
      "text/plain": [
       "3"
      ]
     },
     "execution_count": 63,
     "metadata": {},
     "output_type": "execute_result"
    }
   ],
   "source": [
    "c.count('\\n') # 저 문자가 몇개가 있는지"
   ]
  },
  {
   "cell_type": "markdown",
   "id": "a8097cab-a630-4365-845d-8dd27c6a0840",
   "metadata": {},
   "source": [
    "불변형 시퀀스 객체"
   ]
  },
  {
   "cell_type": "code",
   "execution_count": 66,
   "id": "6a3c7aef-a0f7-4e34-b988-fefe3a761cc7",
   "metadata": {},
   "outputs": [
    {
     "ename": "TypeError",
     "evalue": "'str' object does not support item assignment",
     "output_type": "error",
     "traceback": [
      "\u001b[1;31m---------------------------------------------------------------------------\u001b[0m",
      "\u001b[1;31mTypeError\u001b[0m                                 Traceback (most recent call last)",
      "Cell \u001b[1;32mIn [66], line 1\u001b[0m\n\u001b[1;32m----> 1\u001b[0m \u001b[43ma\u001b[49m\u001b[43m[\u001b[49m\u001b[38;5;241;43m10\u001b[39;49m\u001b[43m]\u001b[49m \u001b[38;5;241m=\u001b[39m \u001b[38;5;124m'\u001b[39m\u001b[38;5;124mf\u001b[39m\u001b[38;5;124m'\u001b[39m \u001b[38;5;66;03m# f로 못 바꿈. 시퀀스에서 배울거임.\u001b[39;00m\n",
      "\u001b[1;31mTypeError\u001b[0m: 'str' object does not support item assignment"
     ]
    }
   ],
   "source": [
    "a[10] = 'f' # f로 못 바꿈. 시퀀스에서 배울거임."
   ]
  },
  {
   "cell_type": "code",
   "execution_count": 68,
   "id": "965385de-3bf4-4a85-afa8-b2386b65aa6a",
   "metadata": {},
   "outputs": [
    {
     "data": {
      "text/plain": [
       "'this is a longer string'"
      ]
     },
     "execution_count": 68,
     "metadata": {},
     "output_type": "execute_result"
    }
   ],
   "source": [
    "b = a.replace('string', 'longer string')\n",
    "b"
   ]
  },
  {
   "cell_type": "code",
   "execution_count": 69,
   "id": "dd63d0f6-b483-44ad-b9ff-957412d228b6",
   "metadata": {},
   "outputs": [],
   "source": [
    "a = 5.6"
   ]
  },
  {
   "cell_type": "code",
   "execution_count": 70,
   "id": "08e6b3a6-70b3-49eb-87ef-5b04d253a78f",
   "metadata": {},
   "outputs": [
    {
     "data": {
      "text/plain": [
       "(5.6, float)"
      ]
     },
     "execution_count": 70,
     "metadata": {},
     "output_type": "execute_result"
    }
   ],
   "source": [
    "a, type(a)"
   ]
  },
  {
   "cell_type": "code",
   "execution_count": 71,
   "id": "c892445c-c76b-4ab1-88b1-2a371eff7e3f",
   "metadata": {},
   "outputs": [
    {
     "name": "stdout",
     "output_type": "stream",
     "text": [
      "5.6\n"
     ]
    }
   ],
   "source": [
    "s = str(a)\n",
    "print(s)"
   ]
  },
  {
   "cell_type": "code",
   "execution_count": 72,
   "id": "d169deb2-a806-4ae7-95d0-e7a089c0a3ed",
   "metadata": {},
   "outputs": [
    {
     "data": {
      "text/plain": [
       "str"
      ]
     },
     "execution_count": 72,
     "metadata": {},
     "output_type": "execute_result"
    }
   ],
   "source": [
    "type(s)"
   ]
  },
  {
   "cell_type": "code",
   "execution_count": 73,
   "id": "66851056-f9bb-4ca2-aeca-b71ed9046926",
   "metadata": {},
   "outputs": [
    {
     "data": {
      "text/plain": [
       "'pyt'"
      ]
     },
     "execution_count": 73,
     "metadata": {},
     "output_type": "execute_result"
    }
   ],
   "source": [
    "s = 'python' \n",
    "list(s)\n",
    "s[:3]"
   ]
  },
  {
   "cell_type": "code",
   "execution_count": 74,
   "id": "966f52c9-343f-4b4e-a05f-afbf02af99ce",
   "metadata": {},
   "outputs": [
    {
     "ename": "ValueError",
     "evalue": "invalid literal for int() with base 10: 'python'",
     "output_type": "error",
     "traceback": [
      "\u001b[1;31m---------------------------------------------------------------------------\u001b[0m",
      "\u001b[1;31mValueError\u001b[0m                                Traceback (most recent call last)",
      "Cell \u001b[1;32mIn [74], line 1\u001b[0m\n\u001b[1;32m----> 1\u001b[0m \u001b[38;5;28;43mint\u001b[39;49m\u001b[43m(\u001b[49m\u001b[43ms\u001b[49m\u001b[43m)\u001b[49m \u001b[38;5;66;03m# 이런건 error. s 안에 수 형태가 있어야 문자열을 int 바꿀 수 있는 여지라도 있는거임!\u001b[39;00m\n",
      "\u001b[1;31mValueError\u001b[0m: invalid literal for int() with base 10: 'python'"
     ]
    }
   ],
   "source": [
    "int(s) # 이런건 error. s 안에 수 형태가 있어야 문자열을 int 바꿀 수 있는 여지라도 있는거임!"
   ]
  },
  {
   "cell_type": "markdown",
   "id": "7196b0d1-2018-45af-bf83-f0e98e3d088d",
   "metadata": {},
   "source": [
    "Escape Sequence(회피문자)"
   ]
  },
  {
   "cell_type": "code",
   "execution_count": 76,
   "id": "474e2ac5-d640-4005-ac9d-77c62d5727ba",
   "metadata": {},
   "outputs": [
    {
     "name": "stdout",
     "output_type": "stream",
     "text": [
      "12\\34\n"
     ]
    }
   ],
   "source": [
    "s = '12\\\\34' # \\는 특수문자. 이걸 2개 써주면 그 특수한 기능 회피! \n",
    "print(s)"
   ]
  },
  {
   "cell_type": "code",
   "execution_count": 80,
   "id": "7169829c-a925-4140-a524-d9d3396bbc97",
   "metadata": {},
   "outputs": [
    {
     "data": {
      "text/plain": [
       "'this\\\\has\\\\no\\\\special\\\\characters'"
      ]
     },
     "execution_count": 80,
     "metadata": {},
     "output_type": "execute_result"
    }
   ],
   "source": [
    "s = r'this\\has\\no\\special\\characters' # raw string - 회피문자가 안에 있으면 자동으로 \\를 붙여줌.\n",
    "s"
   ]
  },
  {
   "cell_type": "code",
   "execution_count": 81,
   "id": "2be2ce00-a9da-4ebf-9f02-122acc39c297",
   "metadata": {},
   "outputs": [
    {
     "name": "stdout",
     "output_type": "stream",
     "text": [
      "12\\\\34\n"
     ]
    }
   ],
   "source": [
    "s = r'12\\\\34'\n",
    "print(s)"
   ]
  },
  {
   "cell_type": "markdown",
   "id": "84646a3b-9a48-4233-b46a-32322ac22ade",
   "metadata": {},
   "source": [
    "- 연산: concatenating"
   ]
  },
  {
   "cell_type": "code",
   "execution_count": 84,
   "id": "b406a60c-7c66-49b1-985f-7f73bfd1ad24",
   "metadata": {},
   "outputs": [
    {
     "data": {
      "text/plain": [
       "'this is the first half and this is the second half'"
      ]
     },
     "execution_count": 84,
     "metadata": {},
     "output_type": "execute_result"
    }
   ],
   "source": [
    "# 문자열끼리 더하기 연산됨.(모든 객체들 다 더하기 연산은 있음)(빼기, 나누기는 안됨.. 문자열끼리 곱하기도 안됨)\n",
    "\n",
    "a = 'this is the first half '\n",
    "b = 'and this is the second half'\n",
    "a + b"
   ]
  },
  {
   "cell_type": "code",
   "execution_count": 86,
   "id": "42a36cf2-5736-4690-ba45-6757eca08b4d",
   "metadata": {},
   "outputs": [
    {
     "data": {
      "text/plain": [
       "'this is the first half this is the first half this is the first half this is the first half this is the first half this is the first half this is the first half this is the first half this is the first half this is the first half '"
      ]
     },
     "execution_count": 86,
     "metadata": {},
     "output_type": "execute_result"
    }
   ],
   "source": [
    "# 객체에다가 scala 값 곱하기 연산은 됨!(곱하기는 배수 연산이 됨)\n",
    "\n",
    "a * 10"
   ]
  },
  {
   "cell_type": "code",
   "execution_count": null,
   "id": "0c032b22-262a-4d14-831e-aa4e9e5259eb",
   "metadata": {},
   "outputs": [],
   "source": []
  },
  {
   "cell_type": "code",
   "execution_count": null,
   "id": "a412d75f-d9a7-4c81-9124-516a5fc502c2",
   "metadata": {},
   "outputs": [],
   "source": []
  },
  {
   "cell_type": "markdown",
   "id": "e6ae61c9-c52a-4943-8bdf-b520e97889f2",
   "metadata": {},
   "source": [
    "- String formatter / formatting! (형식화된 문자를 만들어주는 것!-고정되서 형태를 갖춰서 출력하고 싶을때! 오른쪽 공백 몇,,, 왼쪽 공백 몇.. 이렇게)\n",
    "- 3가지 방법 있음(여기서는 2가지 배움)"
   ]
  },
  {
   "cell_type": "code",
   "execution_count": 91,
   "id": "49b8a575-144f-4b8c-b108-bc589d8a6228",
   "metadata": {},
   "outputs": [],
   "source": [
    "template = '{0:.2f} {1:s} are worth US${2:d}' # 2f가 뭘까?"
   ]
  },
  {
   "cell_type": "code",
   "execution_count": 92,
   "id": "9c88a4d2-4959-49ac-a549-01a5826fa23b",
   "metadata": {},
   "outputs": [
    {
     "data": {
      "text/plain": [
       "'4.56 Argentine Pesos are worth US$1'"
      ]
     },
     "execution_count": 92,
     "metadata": {},
     "output_type": "execute_result"
    }
   ],
   "source": [
    "template.format(4.5560, 'Argentine Pesos', 1) # 각 위치에 들어갈 것들 제공(python 3.x)"
   ]
  },
  {
   "cell_type": "code",
   "execution_count": 93,
   "id": "1491705a-29f4-433f-bd21-4bdcbf898d37",
   "metadata": {},
   "outputs": [
    {
     "data": {
      "text/plain": [
       "'4.56 Argentine Pesos are worth US$1'"
      ]
     },
     "execution_count": 93,
     "metadata": {},
     "output_type": "execute_result"
    }
   ],
   "source": [
    "# python3.4 > above, f literal 도입됨-변수값을 직접 넣을 수 있음\n",
    "f'{4.5560:.2f} Argentine Pesos are worth US${1:d}'"
   ]
  },
  {
   "cell_type": "markdown",
   "id": "983ad313-387d-4dc4-afe7-620876d5b7a6",
   "metadata": {
    "tags": []
   },
   "source": [
    "### Bytes and Unicode"
   ]
  },
  {
   "cell_type": "code",
   "execution_count": 94,
   "id": "3ced71b1-f7e7-47c8-a33b-160c0553a341",
   "metadata": {},
   "outputs": [
    {
     "data": {
      "text/plain": [
       "'español'"
      ]
     },
     "execution_count": 94,
     "metadata": {},
     "output_type": "execute_result"
    }
   ],
   "source": [
    "val = \"español\" # 유니코드\n",
    "val"
   ]
  },
  {
   "cell_type": "code",
   "execution_count": 101,
   "id": "42eda692-047b-4746-a9f9-fedf73b8f2b4",
   "metadata": {},
   "outputs": [
    {
     "data": {
      "text/plain": [
       "b'espa\\xc3\\xb1ol'"
      ]
     },
     "execution_count": 101,
     "metadata": {},
     "output_type": "execute_result"
    }
   ],
   "source": [
    "val_utf8 = val.encode('utf-8') # 유니코드의 코드값을 주면됨, 유니코드는 다 4바이트..근데 그거 다 쓸 필요없는것도 많으니까 그걸 절약해주는게 utf-8이라고 함)\n",
    "val_utf8"
   ]
  },
  {
   "cell_type": "code",
   "execution_count": 98,
   "id": "02e5b30f-79e8-4d28-b774-d36629ec2de6",
   "metadata": {},
   "outputs": [
    {
     "data": {
      "text/plain": [
       "b'\\xe3\\x84\\xb1'"
      ]
     },
     "execution_count": 98,
     "metadata": {},
     "output_type": "execute_result"
    }
   ],
   "source": [
    "\"ㄱ\".encode('utf-8')"
   ]
  },
  {
   "cell_type": "code",
   "execution_count": 100,
   "id": "24bc4a45-0047-4931-9a57-8bd9ec3f4978",
   "metadata": {},
   "outputs": [
    {
     "data": {
      "text/plain": [
       "b'\\xa4\\xa1'"
      ]
     },
     "execution_count": 100,
     "metadata": {},
     "output_type": "execute_result"
    }
   ],
   "source": [
    "\"ㄱ\".encode('euc-kr') # 한국 통신 규격중 문자(나라간에 통신할때 쓰는 규약, 국가표준 KSC 5601)(한글: 2Byte 문자(8비트, 8비트 2개로 다 가능))"
   ]
  },
  {
   "cell_type": "markdown",
   "id": "f745abd1-4689-4bdc-a13d-8885aa3090c6",
   "metadata": {},
   "source": [
    "windows를 만든 Microsoft(MS).. 윈도우 MS : CP를 씀. 한국어는 cp949라고 얘기함."
   ]
  },
  {
   "cell_type": "code",
   "execution_count": 103,
   "id": "fbddb793-94ab-43d0-b8c7-a78961fcdd2e",
   "metadata": {},
   "outputs": [
    {
     "data": {
      "text/plain": [
       "b'\\xa4\\xa1'"
      ]
     },
     "execution_count": 103,
     "metadata": {},
     "output_type": "execute_result"
    }
   ],
   "source": [
    "\"ㄱ\".encode('cp949')"
   ]
  },
  {
   "cell_type": "code",
   "execution_count": 104,
   "id": "31c9ff51-57f2-4718-b048-461fd5c231eb",
   "metadata": {},
   "outputs": [
    {
     "data": {
      "text/plain": [
       "bytes"
      ]
     },
     "execution_count": 104,
     "metadata": {},
     "output_type": "execute_result"
    }
   ],
   "source": [
    "type(val_utf8)"
   ]
  },
  {
   "cell_type": "code",
   "execution_count": 106,
   "id": "7cf68279-5853-48de-8545-870621656858",
   "metadata": {},
   "outputs": [
    {
     "data": {
      "text/plain": [
       "'español'"
      ]
     },
     "execution_count": 106,
     "metadata": {},
     "output_type": "execute_result"
    }
   ],
   "source": [
    "val_utf8.decode('utf-8') # 다시 문자화 됨"
   ]
  },
  {
   "cell_type": "code",
   "execution_count": 107,
   "id": "6e443ffe-bcd3-47a8-b42f-8b35f67869bc",
   "metadata": {},
   "outputs": [
    {
     "data": {
      "text/plain": [
       "b'e\\x00s\\x00p\\x00a\\x00\\xf1\\x00o\\x00l\\x00'"
      ]
     },
     "execution_count": 107,
     "metadata": {},
     "output_type": "execute_result"
    }
   ],
   "source": [
    "val.encode('latin1')\n",
    "val.encode('utf-16')\n",
    "val.encode('utf-16le')"
   ]
  },
  {
   "cell_type": "code",
   "execution_count": 108,
   "id": "35882b59-571f-48ed-87a6-f07b514a4f36",
   "metadata": {},
   "outputs": [
    {
     "data": {
      "text/plain": [
       "'this is bytes'"
      ]
     },
     "execution_count": 108,
     "metadata": {},
     "output_type": "execute_result"
    }
   ],
   "source": [
    "bytes_val = b'this is bytes'\n",
    "bytes_val\n",
    "decoded = bytes_val.decode('utf8')\n",
    "decoded  # this is str (Unicode) now"
   ]
  },
  {
   "cell_type": "markdown",
   "id": "1b8075ca-3715-4c4a-82fc-bc1272e0864d",
   "metadata": {},
   "source": [
    "한글 조합형 전재.. 이런거 히스토리, 뉴스기사 등 검색해서 찾아보기"
   ]
  },
  {
   "cell_type": "code",
   "execution_count": null,
   "id": "2aaab061-47fb-4eb2-83ab-6da8989d2f41",
   "metadata": {},
   "outputs": [],
   "source": []
  },
  {
   "cell_type": "markdown",
   "id": "72ec7adc-8a0e-4ca6-9cf8-b7132e2bfe79",
   "metadata": {},
   "source": [
    "### Type casting\n",
    "\n",
    "- 형 변환"
   ]
  },
  {
   "cell_type": "code",
   "execution_count": null,
   "id": "cbca529e-efad-4b75-b247-1c8f58b6c343",
   "metadata": {},
   "outputs": [],
   "source": [
    "s = '3.14159'\n",
    "fval = float(s)\n",
    "type(fval)\n",
    "int(fval)\n",
    "bool(fval)\n",
    "bool(0)"
   ]
  },
  {
   "cell_type": "markdown",
   "id": "b96d67b7-a1bf-4ec7-b046-a65ba5643166",
   "metadata": {},
   "source": [
    "### 문자열 객체 내의 메소드"
   ]
  },
  {
   "cell_type": "code",
   "execution_count": 109,
   "id": "db4839fd-67fb-4428-a384-04ea504d3b0f",
   "metadata": {},
   "outputs": [],
   "source": [
    "x = \"Hello World\""
   ]
  },
  {
   "cell_type": "code",
   "execution_count": 110,
   "id": "0dec83e7-4fb8-4061-929e-7513c7521064",
   "metadata": {},
   "outputs": [
    {
     "data": {
      "text/plain": [
       "'Hello World'"
      ]
     },
     "execution_count": 110,
     "metadata": {},
     "output_type": "execute_result"
    }
   ],
   "source": [
    "x"
   ]
  },
  {
   "cell_type": "markdown",
   "id": "e996b1f1-44eb-4abc-ba8e-5798d794fc11",
   "metadata": {},
   "source": [
    "- count: 개수세기\n",
    "- index: 몇번째에 있는지(0번부터 시작!0번부터 시작하는 번호 표기법은 index라고 함! 색인(가장 많이 보는게 사전)\n",
    "- rindex: 오른쪽에서 몇번째에 있는지\n",
    "- find: 처음 나오는 위치\n",
    "- rfind: 오른쪽에서부터 처음나오는 위치"
   ]
  },
  {
   "cell_type": "code",
   "execution_count": 111,
   "id": "7dca68c6-25f2-4387-98f5-0a229feb33bb",
   "metadata": {},
   "outputs": [
    {
     "data": {
      "text/plain": [
       "(3, 2, 9)"
      ]
     },
     "execution_count": 111,
     "metadata": {},
     "output_type": "execute_result"
    }
   ],
   "source": [
    "x.count('l'), x.index('l'), x.rindex('l')"
   ]
  },
  {
   "cell_type": "code",
   "execution_count": 112,
   "id": "1367c5f4-d1bc-4b2b-9a1e-0e8d60adcee0",
   "metadata": {},
   "outputs": [
    {
     "data": {
      "text/plain": [
       "(2, 9)"
      ]
     },
     "execution_count": 112,
     "metadata": {},
     "output_type": "execute_result"
    }
   ],
   "source": [
    "x.find('l'), x.rfind('l')"
   ]
  },
  {
   "cell_type": "code",
   "execution_count": null,
   "id": "ae265acc-6bcb-4246-8b46-278f2b699275",
   "metadata": {},
   "outputs": [],
   "source": []
  },
  {
   "cell_type": "code",
   "execution_count": null,
   "id": "5eac2faa-2591-4339-878f-8083103c025f",
   "metadata": {},
   "outputs": [],
   "source": [
    "s = \"x_b*\""
   ]
  },
  {
   "cell_type": "code",
   "execution_count": null,
   "id": "30a77264-be94-4067-806e-8020728a814b",
   "metadata": {},
   "outputs": [],
   "source": [
    "s.isidentifier()"
   ]
  },
  {
   "cell_type": "code",
   "execution_count": null,
   "id": "70662da7-5e2e-4ece-8246-5623146bef3e",
   "metadata": {},
   "outputs": [],
   "source": [
    "s1 = \"x_b\""
   ]
  },
  {
   "cell_type": "code",
   "execution_count": null,
   "id": "4f97a98e-26b9-423c-b323-e872922b97f5",
   "metadata": {},
   "outputs": [],
   "source": [
    "s1.isidentifier()"
   ]
  },
  {
   "cell_type": "markdown",
   "id": "4f93029d-2c65-44ab-96bd-9c5961f3cb4c",
   "metadata": {},
   "source": [
    "- join: 결합해줌"
   ]
  },
  {
   "cell_type": "code",
   "execution_count": 113,
   "id": "25a7d4c5-522e-4d6d-97dc-85b9749bfd78",
   "metadata": {},
   "outputs": [
    {
     "data": {
      "text/plain": [
       "'hello,world'"
      ]
     },
     "execution_count": 113,
     "metadata": {},
     "output_type": "execute_result"
    }
   ],
   "source": [
    "\",\".join([\"hello\",\"world\"])"
   ]
  },
  {
   "cell_type": "markdown",
   "id": "b6aa9d22-f1a0-4710-b242-712333d21d5b",
   "metadata": {},
   "source": [
    "- split: 단어로 구분할때"
   ]
  },
  {
   "cell_type": "code",
   "execution_count": 114,
   "id": "153e5923-aef2-4053-898a-7797bd1e9651",
   "metadata": {},
   "outputs": [
    {
     "data": {
      "text/plain": [
       "['hello', 'world']"
      ]
     },
     "execution_count": 114,
     "metadata": {},
     "output_type": "execute_result"
    }
   ],
   "source": [
    "\"hello,world\".split(',')"
   ]
  },
  {
   "cell_type": "code",
   "execution_count": 117,
   "id": "7d61af34-5074-45bc-877b-c8bd2aa2bb34",
   "metadata": {},
   "outputs": [
    {
     "data": {
      "text/plain": [
       "['여러분', '재밌죠']"
      ]
     },
     "execution_count": 117,
     "metadata": {},
     "output_type": "execute_result"
    }
   ],
   "source": [
    "\"여러분 재밌죠\".split()"
   ]
  },
  {
   "cell_type": "code",
   "execution_count": 118,
   "id": "1dd6e0b7-5d2a-4a43-82f3-dd4a71101d35",
   "metadata": {},
   "outputs": [
    {
     "data": {
      "text/plain": [
       "['여러분', '재밌죠. 그런데 졸리지 않으세요?']"
      ]
     },
     "execution_count": 118,
     "metadata": {},
     "output_type": "execute_result"
    }
   ],
   "source": [
    "\"여러분/재밌죠. 그런데 졸리지 않으세요?\".split('/')"
   ]
  },
  {
   "cell_type": "code",
   "execution_count": null,
   "id": "b1cae174-419d-43ae-9a19-5e0c5af9b58c",
   "metadata": {},
   "outputs": [],
   "source": []
  },
  {
   "cell_type": "markdown",
   "id": "b3bc1eee-a5a1-4d7e-aeb7-0a26f7f1eeac",
   "metadata": {},
   "source": [
    "- strip: 왼족, 오른쪽 공백을 말함. 공백을 빼고 출력함. 왼쪽 오른쪽! 가운데 아님.\n",
    "- strip 왜 씀? 공백문자 제거!(어떤 문서를 데이터베이스에 넣을때 특수한 문자가 들어갈 수 있는데..(ascii table 검색하면 ascii code볼 수 있음)/white space 문자(공백문자) 이걸 제거."
   ]
  },
  {
   "cell_type": "code",
   "execution_count": 119,
   "id": "4220dae4-e78c-4d95-807d-126fdde44ec4",
   "metadata": {},
   "outputs": [
    {
     "data": {
      "text/plain": [
       "'hello   world'"
      ]
     },
     "execution_count": 119,
     "metadata": {},
     "output_type": "execute_result"
    }
   ],
   "source": [
    "\"   hello   world  \".strip()"
   ]
  },
  {
   "cell_type": "code",
   "execution_count": 120,
   "id": "873a5e06-3140-4457-9ac1-8a64f68e4400",
   "metadata": {},
   "outputs": [
    {
     "data": {
      "text/plain": [
       "'   hello   world'"
      ]
     },
     "execution_count": 120,
     "metadata": {},
     "output_type": "execute_result"
    }
   ],
   "source": [
    "\"   hello   world  \".rstrip()"
   ]
  },
  {
   "cell_type": "code",
   "execution_count": 121,
   "id": "5a2d8961-5a38-4690-bbab-7865adf01bcf",
   "metadata": {},
   "outputs": [
    {
     "data": {
      "text/plain": [
       "'hello   world  '"
      ]
     },
     "execution_count": 121,
     "metadata": {},
     "output_type": "execute_result"
    }
   ],
   "source": [
    "\"   hello   world  \".lstrip()"
   ]
  },
  {
   "cell_type": "code",
   "execution_count": 124,
   "id": "48a835d2-6c68-4b3c-a02e-d0e19fd3990f",
   "metadata": {},
   "outputs": [
    {
     "data": {
      "text/plain": [
       "False"
      ]
     },
     "execution_count": 124,
     "metadata": {},
     "output_type": "execute_result"
    }
   ],
   "source": [
    "\"   hello   world  \".isspace() # white space인지 아닌지 구분"
   ]
  },
  {
   "cell_type": "code",
   "execution_count": 125,
   "id": "a09432d7-dc3b-42a6-bcc4-e1cbccc2a415",
   "metadata": {},
   "outputs": [
    {
     "data": {
      "text/plain": [
       "True"
      ]
     },
     "execution_count": 125,
     "metadata": {},
     "output_type": "execute_result"
    }
   ],
   "source": [
    "\"\\n\".isspace()"
   ]
  },
  {
   "cell_type": "markdown",
   "id": "a9714ded-dc40-4757-ab20-1c8ddf460ad0",
   "metadata": {},
   "source": [
    "## None\n",
    "- 왜씀? 찾아보기!!"
   ]
  },
  {
   "cell_type": "code",
   "execution_count": 132,
   "id": "4808d15d-3b08-4efd-aad6-262837b931e5",
   "metadata": {},
   "outputs": [],
   "source": [
    "a = None # None은 메모리 할당 안됨, 값이 할당이 안됨.(id나오지만 값이 할당 안됨)"
   ]
  },
  {
   "cell_type": "code",
   "execution_count": 128,
   "id": "767568ae-c769-4442-8cc2-92bf30663bc1",
   "metadata": {},
   "outputs": [],
   "source": [
    "a"
   ]
  },
  {
   "cell_type": "code",
   "execution_count": 129,
   "id": "f50317df-1e3a-4655-98f5-81d09da552e5",
   "metadata": {},
   "outputs": [
    {
     "data": {
      "text/plain": [
       "140737096658136"
      ]
     },
     "execution_count": 129,
     "metadata": {},
     "output_type": "execute_result"
    }
   ],
   "source": [
    "id(a)"
   ]
  },
  {
   "cell_type": "code",
   "execution_count": 131,
   "id": "dc32e23b-753e-40ad-9589-21ae63bf0781",
   "metadata": {},
   "outputs": [
    {
     "data": {
      "text/plain": [
       "True"
      ]
     },
     "execution_count": 131,
     "metadata": {},
     "output_type": "execute_result"
    }
   ],
   "source": [
    "a is None # None이냐 아니냐, is None, is not None으로 확인함."
   ]
  },
  {
   "cell_type": "code",
   "execution_count": 133,
   "id": "f0e0327e-77ce-4641-b609-b133e5e735fc",
   "metadata": {},
   "outputs": [
    {
     "data": {
      "text/plain": [
       "True"
      ]
     },
     "execution_count": 133,
     "metadata": {},
     "output_type": "execute_result"
    }
   ],
   "source": [
    "b = 5\n",
    "b is not None"
   ]
  },
  {
   "cell_type": "code",
   "execution_count": 134,
   "id": "a30b27c2-298c-4818-a17a-0ae1bcca9e71",
   "metadata": {},
   "outputs": [
    {
     "data": {
      "text/plain": [
       "NoneType"
      ]
     },
     "execution_count": 134,
     "metadata": {},
     "output_type": "execute_result"
    }
   ],
   "source": [
    "type(None)"
   ]
  },
  {
   "cell_type": "markdown",
   "id": "7e1f9e98-83a5-4e48-bb04-b1340cfae916",
   "metadata": {},
   "source": [
    "# Dates and times\n",
    "\n",
    "파이썬 기본 API 에서 지원하는 날짜시간 형식 자료구조"
   ]
  },
  {
   "cell_type": "markdown",
   "id": "3dd0249a-9c34-4390-a85a-8ce230732658",
   "metadata": {},
   "source": [
    "- 날짜 표기: YYYY-MM-DD / YYYY/MM/DD , hh:mm:ss 다른나라는 이 순서가 다를 수 있음. 그런 표기 방법이 나라별로 다르기 때문에 나라별로 바꾸거나, 고정된 형식으로 쓰려고 할 떄 활용."
   ]
  },
  {
   "cell_type": "code",
   "execution_count": 136,
   "id": "88c667cd-fea0-4c2c-b094-31bcf603a2f8",
   "metadata": {},
   "outputs": [],
   "source": [
    "# 이건 그저 문자열일뿐..\n",
    "a = '2022-10-05'\n",
    "b = '2022-10-06'"
   ]
  },
  {
   "cell_type": "code",
   "execution_count": 137,
   "id": "0a01f541-30fe-4ad4-890e-ed5382414614",
   "metadata": {},
   "outputs": [
    {
     "data": {
      "text/plain": [
       "True"
      ]
     },
     "execution_count": 137,
     "metadata": {},
     "output_type": "execute_result"
    }
   ],
   "source": [
    "a < b # 문자코드의 값!으로 계산함(날짜 기준.. 뭔가 전 일인지..이런걸로 비교한거 아님)날짜연산은 아님"
   ]
  },
  {
   "cell_type": "code",
   "execution_count": null,
   "id": "4ded0999-ce05-468d-9e44-1f9a7b312908",
   "metadata": {},
   "outputs": [],
   "source": []
  },
  {
   "cell_type": "code",
   "execution_count": 138,
   "id": "5b318e48-8706-45c2-a892-add550fbece6",
   "metadata": {},
   "outputs": [],
   "source": [
    "from datetime import datetime, date, time # datetime이라는 모듈 안에 datetime, date, time 등의 다양한 클래스를 제공함.\n",
    "\n",
    "dt = datetime(2011, 10, 29, 20, 30, 21)\n"
   ]
  },
  {
   "cell_type": "code",
   "execution_count": 139,
   "id": "c9aaa220-0bb2-48d6-b5bf-1f9c5fe47f41",
   "metadata": {},
   "outputs": [
    {
     "data": {
      "text/plain": [
       "(29, 30)"
      ]
     },
     "execution_count": 139,
     "metadata": {},
     "output_type": "execute_result"
    }
   ],
   "source": [
    "dt.day, dt.minute"
   ]
  },
  {
   "cell_type": "code",
   "execution_count": 140,
   "id": "8c7dd30e-4966-4cb2-b1a8-d754fac16cb6",
   "metadata": {},
   "outputs": [
    {
     "data": {
      "text/plain": [
       "5"
      ]
     },
     "execution_count": 140,
     "metadata": {},
     "output_type": "execute_result"
    }
   ],
   "source": [
    "dt.weekday()"
   ]
  },
  {
   "cell_type": "code",
   "execution_count": 141,
   "id": "b1132448-91b1-4b09-a3bc-8332c9add038",
   "metadata": {},
   "outputs": [
    {
     "data": {
      "text/plain": [
       "datetime.date(2011, 10, 29)"
      ]
     },
     "execution_count": 141,
     "metadata": {},
     "output_type": "execute_result"
    }
   ],
   "source": [
    "dt.date()"
   ]
  },
  {
   "cell_type": "code",
   "execution_count": 142,
   "id": "33910a14-1582-40ec-bc8a-8e3d6ea86af6",
   "metadata": {},
   "outputs": [
    {
     "data": {
      "text/plain": [
       "datetime.time(20, 30, 21)"
      ]
     },
     "execution_count": 142,
     "metadata": {},
     "output_type": "execute_result"
    }
   ],
   "source": [
    "dt.time()"
   ]
  },
  {
   "cell_type": "code",
   "execution_count": 146,
   "id": "a2f431c6-1887-468b-a81e-1d94a3e77a1b",
   "metadata": {},
   "outputs": [
    {
     "name": "stdout",
     "output_type": "stream",
     "text": [
      "20:30:21\n"
     ]
    }
   ],
   "source": [
    "print(dt.time()) # print로 하면 잘 나옴 / pandas라는 프레임워크에서 많이씀!"
   ]
  },
  {
   "cell_type": "code",
   "execution_count": 144,
   "id": "80f5fcca-e930-4b72-b403-b12c472b5996",
   "metadata": {},
   "outputs": [
    {
     "name": "stdout",
     "output_type": "stream",
     "text": [
      "2011-10-29\n"
     ]
    }
   ],
   "source": [
    "print(dt.date())"
   ]
  },
  {
   "cell_type": "code",
   "execution_count": null,
   "id": "855ddae4-d691-48ba-b08a-b0303b6eddc3",
   "metadata": {},
   "outputs": [],
   "source": [
    "dt.strftime('%m/%d/%Y %H:%M')"
   ]
  },
  {
   "cell_type": "code",
   "execution_count": null,
   "id": "d27d49b5-6f84-4917-b74d-4e26cd0acc0c",
   "metadata": {},
   "outputs": [],
   "source": [
    "datetime.strptime('20091031', '%Y%m%d')"
   ]
  },
  {
   "cell_type": "code",
   "execution_count": null,
   "id": "55938dec-1cd5-4b86-a183-4cac7144fb0e",
   "metadata": {},
   "outputs": [],
   "source": [
    "dt.replace(minute=0, second=0)"
   ]
  },
  {
   "cell_type": "code",
   "execution_count": null,
   "id": "8650bb70-d11e-477b-9318-e77f5a1f0f63",
   "metadata": {},
   "outputs": [],
   "source": [
    "dt2 = datetime(2011, 11, 15, 22, 30)\n",
    "delta = dt2 - dt\n",
    "delta\n",
    "type(delta)"
   ]
  },
  {
   "cell_type": "code",
   "execution_count": null,
   "id": "ce09be15-8e0b-4dbe-a217-c2234d37450e",
   "metadata": {},
   "outputs": [],
   "source": [
    "dt\n",
    "dt + delta"
   ]
  }
 ],
 "metadata": {
  "kernelspec": {
   "display_name": "Python 3 (ipykernel)",
   "language": "python",
   "name": "python3"
  },
  "language_info": {
   "codemirror_mode": {
    "name": "ipython",
    "version": 3
   },
   "file_extension": ".py",
   "mimetype": "text/x-python",
   "name": "python",
   "nbconvert_exporter": "python",
   "pygments_lexer": "ipython3",
   "version": "3.9.13"
  }
 },
 "nbformat": 4,
 "nbformat_minor": 5
}
