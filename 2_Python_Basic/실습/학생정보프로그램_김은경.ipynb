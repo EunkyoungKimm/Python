{
 "cells": [
  {
   "cell_type": "markdown",
   "id": "a25f7f3d-bd44-4e97-bbf0-f0194d7e5c39",
   "metadata": {},
   "source": [
    "# 학생정보/주소록 프로그램"
   ]
  },
  {
   "cell_type": "markdown",
   "id": "b131c09c-6bd5-4408-939e-f73ee67c790f",
   "metadata": {},
   "source": [
    "## 프로그램 동작 구상\n",
    "1. 학생정보(이름, 나이, 전화번호, 주소, 전공)을 입력/검색/수정/출력/저장하는 기능 만들기\n",
    "- 정보: 이름, 나이, 전화번호, 주소, 전공\n",
    "- 기능: 입력, 검색, 수정, 출력, 저장\n",
    "\n",
    "2. 조건\n",
    "- 각 기능별 구현시 함수 사용\n",
    "- 클래스 사용도 무방\n",
    "- 메모리: Dic 형태 / List 형태"
   ]
  },
  {
   "cell_type": "code",
   "execution_count": 3,
   "id": "4711868c-3e85-422d-bf29-d97b19bd0288",
   "metadata": {
    "tags": []
   },
   "outputs": [],
   "source": [
    "# Student_info 클래스\n",
    "\n",
    "class StudentInfo:\n",
    "    pass"
   ]
  },
  {
   "cell_type": "code",
   "execution_count": 4,
   "id": "411e6ff1-8310-46a6-9e9e-7ba6159295d5",
   "metadata": {
    "tags": []
   },
   "outputs": [
    {
     "name": "stdout",
     "output_type": "stream",
     "text": [
      "**학생정보 관리**\n",
      "------------------------------\n",
      "1. 학생정보 입력\n",
      "2. 학생정보 검색\n",
      "3. 학생정보 수정\n",
      "4. 학생정보 출력\n",
      "   > 지금까지 입력한 모든 학생들의 정보가 출력됩니다.\n",
      "5. 학생정보 저장\n",
      "   > 지금까지 입력한 모든 학생들의 정보가 파일로 저장됩니다.\n",
      "6. 종료\n",
      "------------------------------\n"
     ]
    },
    {
     "name": "stdin",
     "output_type": "stream",
     "text": [
      "아래 메뉴를 읽고, 원하는 기능의 번호를 입력하세요: 1\n"
     ]
    },
    {
     "name": "stdout",
     "output_type": "stream",
     "text": [
      "------------------------------\n",
      "[학생 정보 입력]\n"
     ]
    },
    {
     "name": "stdin",
     "output_type": "stream",
     "text": [
      "1. 이름: 홍길동\n",
      "2. 나이: 20\n",
      "3. 전화번호: 01011112222\n",
      "4. 주소: 서울\n",
      "5. 전공: 역사\n"
     ]
    },
    {
     "name": "stdout",
     "output_type": "stream",
     "text": [
      "입력을 완료했습니다.\n",
      "------------------------------\n",
      "**학생정보 관리**\n",
      "------------------------------\n",
      "1. 학생정보 입력\n",
      "2. 학생정보 검색\n",
      "3. 학생정보 수정\n",
      "4. 학생정보 출력\n",
      "   > 지금까지 입력한 모든 학생들의 정보가 출력됩니다.\n",
      "5. 학생정보 저장\n",
      "   > 지금까지 입력한 모든 학생들의 정보가 파일로 저장됩니다.\n",
      "6. 종료\n",
      "------------------------------\n"
     ]
    },
    {
     "name": "stdin",
     "output_type": "stream",
     "text": [
      "아래 메뉴를 읽고, 원하는 기능의 번호를 입력하세요: 6\n"
     ]
    }
   ],
   "source": [
    "# 클래스 생성자 구현\n",
    "\n",
    "class StudentInfo:\n",
    "    def __init__(self, name, age, phone_num, address, major):\n",
    "        self.name = name\n",
    "        self.age = age\n",
    "        self.phone_num = phone_num\n",
    "        self.address = address\n",
    "        self.major = major\n",
    "    \n",
    "    # 학생정보 출력 / 딕셔너리 써서 나오게 하기(enumerate)..\n",
    "    def print_info(self):\n",
    "        print('-'*30)\n",
    "        print('이름:', self.name)\n",
    "        print('나이:', self.age)\n",
    "        print('전화번호:', self.phone_num)\n",
    "        print('주소:', self.address)\n",
    "        print('전공:', self.major)\n",
    "    \n",
    "\n",
    "    \n",
    "# 정보 입력받기    \n",
    "def set_info():\n",
    "    print('-'*30)\n",
    "    print('[학생 정보 입력]')\n",
    "    name = input('1. 이름:')\n",
    "    age = input('2. 나이:')\n",
    "    phone_num = input('3. 전화번호:')\n",
    "    address = input('4. 주소:')\n",
    "    major = input('5. 전공:')\n",
    "    print('입력을 완료했습니다.')\n",
    "    print('-'*30)\n",
    "    \n",
    "    # StudentInfo 클래스의 인스턴스 생성\n",
    "    student = StudentInfo(name, age, phone_num, address, major)\n",
    "    return student\n",
    "              \n",
    "        \n",
    "        \n",
    "        \n",
    "# 학생정보 관리 프로그램 메뉴선택 창 \n",
    "def print_menu():\n",
    "    print('**학생정보 관리**')\n",
    "    print('-'*30)\n",
    "    print('1. 학생정보 입력')\n",
    "    print('2. 학생정보 검색')\n",
    "    print('3. 학생정보 수정')\n",
    "    print('4. 학생정보 출력')\n",
    "    print('   > 지금까지 입력한 모든 학생들의 정보가 출력됩니다.')\n",
    "    print('5. 학생정보 저장')\n",
    "    print('   > 지금까지 입력한 모든 학생들의 정보가 파일로 저장됩니다.')\n",
    "    print('6. 종료')\n",
    "    print('-'*30)\n",
    "    choice = int(input('아래 메뉴를 읽고, 원하는 기능의 번호를 입력하세요:'))\n",
    "    return choice\n",
    "    \n",
    "# 창 전환\n",
    "def run():\n",
    "    student_list = []\n",
    "    while True:\n",
    "        choice = print_menu() #  왜 choice에 안넣어주면 잘 안될까..ㄷ ..? \n",
    "        if choice == 1:\n",
    "            student = set_info()\n",
    "            student_list.append(student)\n",
    "        elif choice == 6:\n",
    "            break\n",
    "    \n",
    "    \n",
    "if __name__ == \"__main__\":\n",
    "    run()\n",
    "    \n",
    "        \n",
    "            \n",
    "# 각각 창에 이전 단계 가는 장치 해두기"
   ]
  },
  {
   "cell_type": "code",
   "execution_count": null,
   "id": "94b822ed-9d3c-4fd3-9990-acabae91648a",
   "metadata": {},
   "outputs": [],
   "source": []
  },
  {
   "cell_type": "code",
   "execution_count": null,
   "id": "2d7f475b-5693-46e6-a717-a7b56f4b1bac",
   "metadata": {},
   "outputs": [],
   "source": []
  },
  {
   "cell_type": "code",
   "execution_count": null,
   "id": "8d0e7430-fa97-4b5c-ace3-b28cb862ef39",
   "metadata": {},
   "outputs": [],
   "source": []
  },
  {
   "cell_type": "code",
   "execution_count": null,
   "id": "5b680dba-33de-47d7-8e9c-1b3630e90c4f",
   "metadata": {},
   "outputs": [],
   "source": []
  },
  {
   "cell_type": "code",
   "execution_count": null,
   "id": "fb22f9a6-0af0-47c8-b69c-59b813a17e4a",
   "metadata": {},
   "outputs": [],
   "source": []
  },
  {
   "cell_type": "markdown",
   "id": "24ff64e2-6f37-4e5b-be3c-438d72a350bf",
   "metadata": {},
   "source": [
    "# 실습하면서 배운 것"
   ]
  },
  {
   "cell_type": "markdown",
   "id": "09ce3f87-5132-4d32-9f53-3188530f0557",
   "metadata": {},
   "source": [
    "- 파이썬 인터프리터에서 직접 실행할때... 좀 더 공부하기! 이해가 좀 더 됨!\n",
    "\n",
    "```python\n",
    "if __name__ == \"__main__\":\n",
    "    run()\n",
    "```"
   ]
  }
 ],
 "metadata": {
  "kernelspec": {
   "display_name": "Python 3 (ipykernel)",
   "language": "python",
   "name": "python3"
  },
  "language_info": {
   "codemirror_mode": {
    "name": "ipython",
    "version": 3
   },
   "file_extension": ".py",
   "mimetype": "text/x-python",
   "name": "python",
   "nbconvert_exporter": "python",
   "pygments_lexer": "ipython3",
   "version": "3.9.13"
  }
 },
 "nbformat": 4,
 "nbformat_minor": 5
}
