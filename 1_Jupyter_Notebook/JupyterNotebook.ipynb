{
 "cells": [
  {
   "cell_type": "markdown",
   "id": "fbeb42a3-60d2-4de2-9c1d-c5ae59efe2a5",
   "metadata": {
    "slideshow": {
     "slide_type": "slide"
    }
   },
   "source": [
    "# **Jupyter Notebook**\n",
    "\n",
    "<img src=\"https://jupyter.org/assets/logos/rectanglelogo-greytext-orangebody-greymoons.svg\" width=\"200\" />"
   ]
  },
  {
   "cell_type": "markdown",
   "id": "3e44635b-0c54-4c92-a9bb-6d84831925b7",
   "metadata": {
    "slideshow": {
     "slide_type": "slide"
    }
   },
   "source": [
    "## 브라우저 기반 인터랙티브 파이썬 환경\n",
    "* 인터랙티브 파이썬 코딩\n",
    "* 매직 명령어: os(운영체제)에 있는 명령어를 다 쓸 수 있음.\n",
    "* 시스템 쉘\n",
    "* 마크다운 문법\n",
    "* 수학식 표현 (Latex)\n",
    "* 슬라이드, HTML, PDF\n",
    "* 대규모 병렬 컴퓨팅 (IPython.parallel)\n",
    "\n",
    "## Jupyter Notebook 특징\n",
    "* 코딩한 결과를 실시간으로 확인 가능\n",
    "* 자동완성 기능\n",
    "* 댜양한 언어 지원 ex.R, Scala, Julia\n",
    "* Markdown 지원, 문서화 가능\n",
    "* Web 접근 가능\n",
    "\n",
    "* 웹기반의 대화적\n",
    "* 노트 정리하듯 정리, 손쉽게 공유\n",
    "* 개발, 문서화 환경\n",
    "* **매우 혁신적인 도구**\n",
    "* 웹 응용프로그램과 문서를 결합한 형태\n",
    "* 실행 코드, 설명 텍스트, 수학식, 미디어도 문서에 포함"
   ]
  },
  {
   "cell_type": "markdown",
   "id": "bf1bc01d-9060-43ee-8fb4-64e6471e0ab8",
   "metadata": {
    "slideshow": {
     "slide_type": "slide"
    }
   },
   "source": [
    "## 코드 작성\n",
    "\n",
    "* 코드 편집, 자동구문강조 syntax hilighting, 자동 들여쓰기, 탭 완성\n",
    "* 실행결과를 브라우저내 inline 에 표시\n",
    "* HTML, LaTex 수학식, PNG, SVG 등 표현, matplotlib을 중간 삽입\n",
    "* Markdowm 편집하여 간단한 서식있는 문서를 작성\n",
    "* 수학적 표기법을 포함하고, 표현 Mathjax"
   ]
  },
  {
   "cell_type": "markdown",
   "id": "c1ac9c93-84ec-4c9e-8aca-ecf591060f14",
   "metadata": {},
   "source": [
    "# **iPython**"
   ]
  },
  {
   "cell_type": "markdown",
   "id": "d7f92902-179b-4e19-b50d-610ecaf03545",
   "metadata": {},
   "source": [
    "## iPython 정의\n",
    "\n",
    "- 2001년 페르난도 페레즈가 커맨드라인 인터페이스로 개발\n",
    "- iPython의 i는 interactive라는 의미로, 대화형 방식의 분석 및 개발을 목적으로 만듦\n",
    "- iPython은 2011년에 대화형 노트북을 발표하고, 이 노트북은 Mathematica같은 상업 소프트웨어의 영향을 받아 코드, 텍스트, 수학식, 도표, 그래프, 대화형 그래픽 컨트롤러 등을 웹 브라우저 환경에서 실행되게 만든 웹 인터페이스를 제공\n",
    "- iPython은 주피터 노트북의 파이썬 커널 이름\n",
    "- 매직명령어(여러 가지 특수한 명령어를 통해 동작을 쉽게 제어 가능) 등의 iPython 만의 기능을 가지고 있음"
   ]
  },
  {
   "cell_type": "markdown",
   "id": "394bce95-2deb-43f3-ba8a-9cc170bef5ed",
   "metadata": {},
   "source": [
    "## iPython 동작\n",
    "\n",
    "<img src='https://ipython.org/ipython-doc/3/_images/notebook_components.png' width='500'>\n",
    "- https://ipython.org/ipython-doc/3/development/how_ipython_works.html"
   ]
  },
  {
   "cell_type": "markdown",
   "id": "58c7146a-d406-4b5f-be05-7b5f8fdc0cc1",
   "metadata": {},
   "source": [
    "## iPython 특징\n",
    "- iPython은 python의 일종이다.\n",
    "- 상호작용 shell(python보다 더 interavtive한 shell을 제공해 python code를 작성하기에 매우 효율적이다.)\n",
    "- 병렬 컴퓨팅용 도구(동시에 많은 계산, 문제를 처리할 수 있음)\n",
    "\n",
    "## iPython 기능\n",
    "- tab을 통해 자동완성 가능\n",
    "- 실시간으로 object 객체 정보 확인 가능\n",
    "- system shell로 바로 접근해 system 상의 command 실행 가능\n",
    "- 현재 session 동안 기존에 실행했던 command history 제공"
   ]
  },
  {
   "cell_type": "markdown",
   "id": "8b4c6f9c-1b7f-4973-8a04-fbb9db1329d8",
   "metadata": {},
   "source": [
    "# **Jupyter Notebook 사용법**"
   ]
  },
  {
   "cell_type": "markdown",
   "id": "bd6ee474-92c1-4a43-ba12-fd2a0e5791d4",
   "metadata": {
    "slideshow": {
     "slide_type": "slide"
    }
   },
   "source": [
    "## 시작과 종료\n",
    "\n",
    "시작 (로컬 혹은 서버로 실행)\n",
    "\n",
    "- 쥬피터 노트북\n",
    "\n",
    "```bash\n",
    "# 서버로 실행\n",
    "$ jupyter notebook --ip=0.0.0.0 --port=8080\n",
    "```"
   ]
  },
  {
   "cell_type": "markdown",
   "id": "dd17b201-dc9a-4555-9e82-e1c1493ffc6f",
   "metadata": {
    "slideshow": {
     "slide_type": "slide"
    }
   },
   "source": [
    "- 쥬피터 랩\n",
    "\n",
    "```bash\n",
    "$ jupyter-lab --no-browser --port=8080 DIR\n",
    "```"
   ]
  },
  {
   "cell_type": "markdown",
   "id": "ae336b58-c8bc-419b-86b0-cf283cbc1fee",
   "metadata": {
    "slideshow": {
     "slide_type": "slide"
    }
   },
   "source": [
    "- 종료는 Ctrl+C"
   ]
  },
  {
   "cell_type": "markdown",
   "id": "35a1025d-12c3-49f5-af86-a539220ea620",
   "metadata": {},
   "source": [
    "## 셀 이란\n",
    "\n",
    "코드 / 텍스트를 입력하는 기능\n",
    "\n",
    "1. 코드 셀\n",
    "2. 마크다운 셀"
   ]
  },
  {
   "cell_type": "markdown",
   "id": "94f08c2a-fb82-4b09-a43e-c3ae95bfbf81",
   "metadata": {
    "slideshow": {
     "slide_type": "slide"
    }
   },
   "source": [
    "## 명령모드와 편집모드\n",
    "\n",
    "Jupyter Notebook 키보드 입력에는 두 가지 모드가 있다. vi 에디터의 명령/편집 모드를 사용한다.\n",
    "* 명령모드(Command mode): 노트북의 셀을 편집 (파란색+회색 테두리) \n",
    "* 편집모드(Edit mode): 셀에 있는 텍스트나 코드를 편집 (녹색 테두리)\n",
    "\n",
    "\n",
    "모드 전환\n",
    "* Esc키를 누르면 명령모드로, Enter를 누르면 편집모드로 상호전환\n",
    "* 명령 모드에서 j,k 키로 아래/위로 이동 (리눅스의 vi 에디터)\n",
    "* 도움말 표시: 명령 모드에서 h 키"
   ]
  },
  {
   "cell_type": "markdown",
   "id": "a5ca95f1-2411-413a-93c3-85fde66d3c2d",
   "metadata": {
    "slideshow": {
     "slide_type": "slide"
    }
   },
   "source": [
    "## 실행과 저장(명령모드, 편집모드 공통)\n",
    "자주 사용되는 키보드를 확인하고 익혀두자\n",
    "\n",
    "* Ctrl-Enter 현재 셀 실행 \n",
    "* Shift-Enter 셀 실행 + 아래로 이동 \n",
    "* Ctrl-s: 노트북 저장 \n",
    "* Alt-Enter 현재 셀 실행 + 아래로 셀 추가"
   ]
  },
  {
   "cell_type": "markdown",
   "id": "47a8c273-2c97-4440-b0a7-4a5124270cc6",
   "metadata": {
    "slideshow": {
     "slide_type": "slide"
    }
   },
   "source": [
    "## 명령모드(Esc를 눌러 활성화)\n",
    "자주 사용되는 키보드를 확인하고 익혀두자\n",
    "\n",
    "* Enter 편집 모드 \n",
    "* y: 코드로 전환 \n",
    "* m: 마크다운으로 전환 \n",
    "* ↑, k : 위로, \n",
    "* ↓, j : 아래로 \n",
    "* Ctrl-k: 셀을 위로 이동 \n",
    "* Ctrl-j: 셀을 아래로 이동 \n",
    "* a: 위에 셀 추가 (b는 아래에 셀 추가)\n",
    "* c: 셀 복사 \n",
    "* v: 아래에 셀 붙여넣기 \n",
    "* Shift-m: 셀 아래 병합 \n",
    "* h: 키보드 바로가기 도움말 "
   ]
  },
  {
   "cell_type": "markdown",
   "id": "6b2e3429-0358-4959-8648-db95df48b9ad",
   "metadata": {
    "slideshow": {
     "slide_type": "slide"
    }
   },
   "source": [
    "## 편집모드(Enter를 눌러 활성화)\n",
    "자주 사용되는 키보드를 확인하고 익혀두자\n",
    "\n",
    "* Esc: 명령모드 \n",
    "* Ctrl-Shift--: 셀 분할 \n",
    "* Ctrl-Left: 단어 단위 왼쪽으로 \n",
    "* Ctrl-Right: 단어 단위 오른쪽으로 "
   ]
  },
  {
   "cell_type": "markdown",
   "id": "c4f24356-06ef-4998-bdac-035638c234f9",
   "metadata": {},
   "source": [
    "## **1. Cell 편집하기**\n",
    "\n",
    "### **01 셀 내부 선택 / 셀 외부 선택**"
   ]
  },
  {
   "cell_type": "code",
   "execution_count": 7,
   "id": "a4a8c0fd-7b6c-4fe8-9b94-c938912b87df",
   "metadata": {},
   "outputs": [],
   "source": [
    "# Enter : 셀 내부로 들어가기"
   ]
  },
  {
   "cell_type": "code",
   "execution_count": 8,
   "id": "fd9ba73e-c8a2-4cb8-81f9-26762f14659c",
   "metadata": {},
   "outputs": [],
   "source": [
    "# ESC : 셀 외부로 빠져나가기"
   ]
  },
  {
   "cell_type": "markdown",
   "id": "ae17bea9-08ab-41a8-8f44-72851fd2a0ed",
   "metadata": {},
   "source": [
    "### **02 셀 분리**\n",
    "Ctrl + Shift + '-'"
   ]
  },
  {
   "cell_type": "code",
   "execution_count": 9,
   "id": "656b7bc8-b190-48e0-a1fc-17e4d9c14031",
   "metadata": {},
   "outputs": [],
   "source": [
    "# 셀 내부에서 작업하다가\n",
    "# 일정 부분에서\n",
    "# Ctrl + Shift + '-'"
   ]
  },
  {
   "cell_type": "markdown",
   "id": "d407ebb2-a2c0-405a-8fe5-521d08cf8252",
   "metadata": {},
   "source": [
    "### **02 셀 병합**\n",
    "Shift + 'm'"
   ]
  },
  {
   "cell_type": "code",
   "execution_count": 10,
   "id": "ddacb2ef-3fb2-41b1-9ab9-f4e06d86ce1c",
   "metadata": {},
   "outputs": [],
   "source": [
    "# 셀 아웃한 뒤 \n",
    "# Shift + 'm' \n",
    "# 실수로 'm' 을 누르면 셀의 속성이 Mark Down 으로 바뀐다"
   ]
  },
  {
   "cell_type": "markdown",
   "id": "6f0fe668-7ffd-4af0-a1a7-7c278ae60349",
   "metadata": {},
   "source": [
    "## **2. Cell 속성 바꾸기**\n",
    "Code / Mark Down"
   ]
  },
  {
   "cell_type": "code",
   "execution_count": 11,
   "id": "eef1c362-574f-4252-a625-9bfcc510c19c",
   "metadata": {},
   "outputs": [],
   "source": [
    "# ESC 로 셀 외부로 빠진 뒤\n",
    "# 'Y' : Code 속성으로 변경\n",
    "# 'M' : MarkDown 속성으로 변경"
   ]
  },
  {
   "cell_type": "markdown",
   "id": "b69a3851-546e-4d3a-8e3f-95a9bf4c8020",
   "metadata": {},
   "source": [
    "## **3. Cell 객체 편집하기**\n",
    "Code / Mark Down"
   ]
  },
  {
   "cell_type": "code",
   "execution_count": 12,
   "id": "d0bc3a46-fdc5-4936-aeec-3b30b48913f5",
   "metadata": {},
   "outputs": [],
   "source": [
    "# ESC\n",
    "# \"D\" \"D\"  Delete Cell"
   ]
  },
  {
   "cell_type": "code",
   "execution_count": 13,
   "id": "1a19b4af-3417-4b02-a0aa-7a04f3e8ad86",
   "metadata": {},
   "outputs": [],
   "source": [
    "# ESC\n",
    "# \"B\" 빈쎌 삽입하기"
   ]
  },
  {
   "cell_type": "markdown",
   "id": "5cc129e2-9d19-419f-8e10-4a55c120e7c7",
   "metadata": {},
   "source": [
    "## Object Information"
   ]
  },
  {
   "cell_type": "markdown",
   "id": "4ad6b89c-c55d-4aae-a229-ed9f8bc44624",
   "metadata": {},
   "source": [
    "### **01. 객체 정보 확인** <small> shift + TAB </small>\n",
    "변수를 키인(커서)하고 **shift + TAB** 누르면 내부 특성이 조회됨"
   ]
  },
  {
   "cell_type": "code",
   "execution_count": 5,
   "id": "41ae7a49-09fb-4d36-ae34-982323f01e4f",
   "metadata": {},
   "outputs": [],
   "source": [
    "a = 10"
   ]
  },
  {
   "cell_type": "code",
   "execution_count": 2,
   "id": "aa885729-8565-47cd-b8ba-dbb341884337",
   "metadata": {},
   "outputs": [
    {
     "data": {
      "text/plain": [
       "10"
      ]
     },
     "execution_count": 2,
     "metadata": {},
     "output_type": "execute_result"
    }
   ],
   "source": [
    "a"
   ]
  },
  {
   "cell_type": "code",
   "execution_count": 3,
   "id": "edd545ca-214d-44e0-b4b0-00d00cb694bd",
   "metadata": {},
   "outputs": [
    {
     "name": "stdout",
     "output_type": "stream",
     "text": [
      "10\n"
     ]
    }
   ],
   "source": [
    "print(a)"
   ]
  },
  {
   "cell_type": "markdown",
   "id": "8e818d0c-9c90-4d45-86f4-fd0920f219da",
   "metadata": {},
   "source": [
    "### **02 함수정보 확인** <small> shift + TAB </small>\n",
    "함수를 키인하고 **shift + TAB** 누르면 내부 특성이 조회됨 >> 함수의 원형을 확인 할 수 있음(함수를 선언한 한참 뒤에 어떤 함수가 어떤건지 알고 싶을때 도움이 됨)"
   ]
  },
  {
   "cell_type": "code",
   "execution_count": 10,
   "id": "6d4481d1-8a5e-4a43-9af3-98052e5c9f69",
   "metadata": {},
   "outputs": [
    {
     "data": {
      "text/plain": [
       "5"
      ]
     },
     "execution_count": 10,
     "metadata": {},
     "output_type": "execute_result"
    }
   ],
   "source": [
    "def sum(a,b):\n",
    "    return a + b\n",
    "\n",
    "sum(1, 4)"
   ]
  },
  {
   "cell_type": "code",
   "execution_count": 11,
   "id": "800b39ff-1039-4fbf-8d66-4e480417d176",
   "metadata": {},
   "outputs": [
    {
     "data": {
      "text/plain": [
       "<function __main__.sum(a, b)>"
      ]
     },
     "execution_count": 11,
     "metadata": {},
     "output_type": "execute_result"
    }
   ],
   "source": [
    "sum"
   ]
  },
  {
   "cell_type": "markdown",
   "id": "ce6d6e6c-0c9a-4bf1-a1f4-6770636cd444",
   "metadata": {},
   "source": [
    "**docstrings 확인**"
   ]
  },
  {
   "cell_type": "code",
   "execution_count": 12,
   "id": "c461127b-79e1-4c70-970f-a8e21f9ef4e8",
   "metadata": {},
   "outputs": [],
   "source": [
    "def sum(a,b):\n",
    "    \"\"\"sum()는 두 수를 더한 결과를 반환한다.\n",
    "    \"\"\"\n",
    "    return a + b"
   ]
  },
  {
   "cell_type": "code",
   "execution_count": 13,
   "id": "e5767bf7-4fac-4813-bd77-70aa23357f42",
   "metadata": {},
   "outputs": [
    {
     "data": {
      "text/plain": [
       "<function __main__.sum(a, b)>"
      ]
     },
     "execution_count": 13,
     "metadata": {},
     "output_type": "execute_result"
    }
   ],
   "source": [
    "sum"
   ]
  },
  {
   "cell_type": "markdown",
   "id": "95afc1c3-563b-4c3c-a118-ab2a570cb84b",
   "metadata": {},
   "source": [
    "**굳이 위와 같은 명령어 안해도 a, sum과 같은것만으로도 정보 확인, help 기능 가능! 주피터가 이거 제공함**"
   ]
  },
  {
   "cell_type": "code",
   "execution_count": 14,
   "id": "d0fe3b79-e86e-46a4-ba38-6b5213e7e559",
   "metadata": {},
   "outputs": [
    {
     "name": "stdout",
     "output_type": "stream",
     "text": [
      "Help on function sum in module __main__:\n",
      "\n",
      "sum(a, b)\n",
      "    sum()는 두 수를 더한 결과를 반환한다.\n",
      "\n"
     ]
    }
   ],
   "source": [
    "help(sum)"
   ]
  },
  {
   "cell_type": "markdown",
   "id": "d477553d-fd98-4436-9ea3-0f74ee0908ce",
   "metadata": {},
   "source": [
    "### **03 객체/ 함수정보 확인** <small> shift + TAB </small>\n",
    "**?** by Codes"
   ]
  },
  {
   "cell_type": "code",
   "execution_count": 15,
   "id": "2c6019ea-63e1-4127-8e54-09e94389d683",
   "metadata": {
    "collapsed": true,
    "jupyter": {
     "outputs_hidden": true
    },
    "tags": []
   },
   "outputs": [
    {
     "data": {
      "text/plain": [
       "\u001b[1;31mType:\u001b[0m        int\n",
       "\u001b[1;31mString form:\u001b[0m 10\n",
       "\u001b[1;31mDocstring:\u001b[0m  \n",
       "int([x]) -> integer\n",
       "int(x, base=10) -> integer\n",
       "\n",
       "Convert a number or string to an integer, or return 0 if no arguments\n",
       "are given.  If x is a number, return x.__int__().  For floating point\n",
       "numbers, this truncates towards zero.\n",
       "\n",
       "If x is not a number or if base is given, then x must be a string,\n",
       "bytes, or bytearray instance representing an integer literal in the\n",
       "given base.  The literal can be preceded by '+' or '-' and be surrounded\n",
       "by whitespace.  The base defaults to 10.  Valid bases are 0 and 2-36.\n",
       "Base 0 means to interpret the base from the string as an integer literal.\n",
       ">>> int('0b100', base=0)\n",
       "4\n"
      ]
     },
     "metadata": {},
     "output_type": "display_data"
    }
   ],
   "source": [
    "a?"
   ]
  },
  {
   "cell_type": "code",
   "execution_count": 16,
   "id": "e7d37c84-c84f-4b71-a9d5-1c719be276f6",
   "metadata": {
    "collapsed": true,
    "jupyter": {
     "outputs_hidden": true
    },
    "tags": []
   },
   "outputs": [
    {
     "data": {
      "text/plain": [
       "\u001b[1;31mType:\u001b[0m        int\n",
       "\u001b[1;31mString form:\u001b[0m 10\n",
       "\u001b[1;31mDocstring:\u001b[0m  \n",
       "int([x]) -> integer\n",
       "int(x, base=10) -> integer\n",
       "\n",
       "Convert a number or string to an integer, or return 0 if no arguments\n",
       "are given.  If x is a number, return x.__int__().  For floating point\n",
       "numbers, this truncates towards zero.\n",
       "\n",
       "If x is not a number or if base is given, then x must be a string,\n",
       "bytes, or bytearray instance representing an integer literal in the\n",
       "given base.  The literal can be preceded by '+' or '-' and be surrounded\n",
       "by whitespace.  The base defaults to 10.  Valid bases are 0 and 2-36.\n",
       "Base 0 means to interpret the base from the string as an integer literal.\n",
       ">>> int('0b100', base=0)\n",
       "4\n"
      ]
     },
     "metadata": {},
     "output_type": "display_data"
    }
   ],
   "source": [
    "a??"
   ]
  },
  {
   "cell_type": "code",
   "execution_count": null,
   "id": "83d5047c-e30e-41e2-8275-e8708c399019",
   "metadata": {},
   "outputs": [],
   "source": []
  },
  {
   "cell_type": "code",
   "execution_count": 17,
   "id": "58a76eb9-4e54-44b6-bd69-0b54289c78be",
   "metadata": {
    "collapsed": true,
    "jupyter": {
     "outputs_hidden": true
    },
    "tags": []
   },
   "outputs": [
    {
     "data": {
      "text/plain": [
       "\u001b[1;31mSignature:\u001b[0m \u001b[0msum\u001b[0m\u001b[1;33m(\u001b[0m\u001b[0ma\u001b[0m\u001b[1;33m,\u001b[0m \u001b[0mb\u001b[0m\u001b[1;33m)\u001b[0m\u001b[1;33m\u001b[0m\u001b[1;33m\u001b[0m\u001b[0m\n",
       "\u001b[1;31mDocstring:\u001b[0m\n",
       "sum()는 두 수를 더한 결과를 반환한다.\n",
       "    \n",
       "\u001b[1;31mFile:\u001b[0m      c:\\users\\sbauser\\appdata\\local\\temp\\ipykernel_2264\\2814145070.py\n",
       "\u001b[1;31mType:\u001b[0m      function\n"
      ]
     },
     "metadata": {},
     "output_type": "display_data"
    }
   ],
   "source": [
    "sum?"
   ]
  },
  {
   "cell_type": "code",
   "execution_count": 18,
   "id": "ee25fb60-dc3d-4e9c-81a4-c78adb70f1ce",
   "metadata": {
    "collapsed": true,
    "jupyter": {
     "outputs_hidden": true
    },
    "tags": []
   },
   "outputs": [
    {
     "data": {
      "text/plain": [
       "\u001b[1;31mSignature:\u001b[0m \u001b[0msum\u001b[0m\u001b[1;33m(\u001b[0m\u001b[0ma\u001b[0m\u001b[1;33m,\u001b[0m \u001b[0mb\u001b[0m\u001b[1;33m)\u001b[0m\u001b[1;33m\u001b[0m\u001b[1;33m\u001b[0m\u001b[0m\n",
       "\u001b[1;31mSource:\u001b[0m   \n",
       "\u001b[1;32mdef\u001b[0m \u001b[0msum\u001b[0m\u001b[1;33m(\u001b[0m\u001b[0ma\u001b[0m\u001b[1;33m,\u001b[0m\u001b[0mb\u001b[0m\u001b[1;33m)\u001b[0m\u001b[1;33m:\u001b[0m\u001b[1;33m\n",
       "\u001b[0m    \u001b[1;34m\"\"\"sum()는 두 수를 더한 결과를 반환한다.\n",
       "    \"\"\"\u001b[0m\u001b[1;33m\n",
       "\u001b[0m    \u001b[1;32mreturn\u001b[0m \u001b[0ma\u001b[0m \u001b[1;33m+\u001b[0m \u001b[0mb\u001b[0m\u001b[1;33m\u001b[0m\u001b[1;33m\u001b[0m\u001b[0m\n",
       "\u001b[1;31mFile:\u001b[0m      c:\\users\\sbauser\\appdata\\local\\temp\\ipykernel_2264\\2814145070.py\n",
       "\u001b[1;31mType:\u001b[0m      function\n"
      ]
     },
     "metadata": {},
     "output_type": "display_data"
    }
   ],
   "source": [
    "sum??"
   ]
  },
  {
   "cell_type": "markdown",
   "id": "13e43095-6444-4491-96a5-847a876fd27a",
   "metadata": {},
   "source": [
    "> 물음표 2개 하면 더 자세한 내용을 알 수 있음."
   ]
  },
  {
   "cell_type": "code",
   "execution_count": 21,
   "id": "d4f2f0e2-ab90-493d-a7f4-e113e88b2569",
   "metadata": {},
   "outputs": [],
   "source": [
    "# sum()?"
   ]
  },
  {
   "cell_type": "code",
   "execution_count": 22,
   "id": "77b7d38d-db3a-4f46-8bbc-4b8c88edca1a",
   "metadata": {},
   "outputs": [],
   "source": [
    "import numpy as np"
   ]
  },
  {
   "cell_type": "code",
   "execution_count": 23,
   "id": "2b318b04-fd0d-4ae7-a835-5ed2f444be72",
   "metadata": {},
   "outputs": [
    {
     "data": {
      "text/plain": [
       "<ufunc 'exp'>"
      ]
     },
     "execution_count": 23,
     "metadata": {},
     "output_type": "execute_result"
    }
   ],
   "source": [
    "np.exp"
   ]
  },
  {
   "cell_type": "code",
   "execution_count": 24,
   "id": "1d9aeb67-7300-4290-9c8a-c83e6622bf60",
   "metadata": {
    "collapsed": true,
    "jupyter": {
     "outputs_hidden": true
    },
    "tags": []
   },
   "outputs": [
    {
     "name": "stdout",
     "output_type": "stream",
     "text": [
      "Help on ufunc:\n",
      "\n",
      "exp = <ufunc 'exp'>\n",
      "    exp(x, /, out=None, *, where=True, casting='same_kind', order='K', dtype=None, subok=True[, signature, extobj])\n",
      "    \n",
      "    Calculate the exponential of all elements in the input array.\n",
      "    \n",
      "    Parameters\n",
      "    ----------\n",
      "    x : array_like\n",
      "        Input values.\n",
      "    out : ndarray, None, or tuple of ndarray and None, optional\n",
      "        A location into which the result is stored. If provided, it must have\n",
      "        a shape that the inputs broadcast to. If not provided or None,\n",
      "        a freshly-allocated array is returned. A tuple (possible only as a\n",
      "        keyword argument) must have length equal to the number of outputs.\n",
      "    where : array_like, optional\n",
      "        This condition is broadcast over the input. At locations where the\n",
      "        condition is True, the `out` array will be set to the ufunc result.\n",
      "        Elsewhere, the `out` array will retain its original value.\n",
      "        Note that if an uninitialized `out` array is created via the default\n",
      "        ``out=None``, locations within it where the condition is False will\n",
      "        remain uninitialized.\n",
      "    **kwargs\n",
      "        For other keyword-only arguments, see the\n",
      "        :ref:`ufunc docs <ufuncs.kwargs>`.\n",
      "    \n",
      "    Returns\n",
      "    -------\n",
      "    out : ndarray or scalar\n",
      "        Output array, element-wise exponential of `x`.\n",
      "        This is a scalar if `x` is a scalar.\n",
      "    \n",
      "    See Also\n",
      "    --------\n",
      "    expm1 : Calculate ``exp(x) - 1`` for all elements in the array.\n",
      "    exp2  : Calculate ``2**x`` for all elements in the array.\n",
      "    \n",
      "    Notes\n",
      "    -----\n",
      "    The irrational number ``e`` is also known as Euler's number.  It is\n",
      "    approximately 2.718281, and is the base of the natural logarithm,\n",
      "    ``ln`` (this means that, if :math:`x = \\ln y = \\log_e y`,\n",
      "    then :math:`e^x = y`. For real input, ``exp(x)`` is always positive.\n",
      "    \n",
      "    For complex arguments, ``x = a + ib``, we can write\n",
      "    :math:`e^x = e^a e^{ib}`.  The first term, :math:`e^a`, is already\n",
      "    known (it is the real argument, described above).  The second term,\n",
      "    :math:`e^{ib}`, is :math:`\\cos b + i \\sin b`, a function with\n",
      "    magnitude 1 and a periodic phase.\n",
      "    \n",
      "    References\n",
      "    ----------\n",
      "    .. [1] Wikipedia, \"Exponential function\",\n",
      "           https://en.wikipedia.org/wiki/Exponential_function\n",
      "    .. [2] M. Abramovitz and I. A. Stegun, \"Handbook of Mathematical Functions\n",
      "           with Formulas, Graphs, and Mathematical Tables,\" Dover, 1964, p. 69,\n",
      "           https://personal.math.ubc.ca/~cbm/aands/page_69.htm\n",
      "    \n",
      "    Examples\n",
      "    --------\n",
      "    Plot the magnitude and phase of ``exp(x)`` in the complex plane:\n",
      "    \n",
      "    >>> import matplotlib.pyplot as plt\n",
      "    \n",
      "    >>> x = np.linspace(-2*np.pi, 2*np.pi, 100)\n",
      "    >>> xx = x + 1j * x[:, np.newaxis] # a + ib over complex plane\n",
      "    >>> out = np.exp(xx)\n",
      "    \n",
      "    >>> plt.subplot(121)\n",
      "    >>> plt.imshow(np.abs(out),\n",
      "    ...            extent=[-2*np.pi, 2*np.pi, -2*np.pi, 2*np.pi], cmap='gray')\n",
      "    >>> plt.title('Magnitude of exp(x)')\n",
      "    \n",
      "    >>> plt.subplot(122)\n",
      "    >>> plt.imshow(np.angle(out),\n",
      "    ...            extent=[-2*np.pi, 2*np.pi, -2*np.pi, 2*np.pi], cmap='hsv')\n",
      "    >>> plt.title('Phase (angle) of exp(x)')\n",
      "    >>> plt.show()\n",
      "\n"
     ]
    }
   ],
   "source": [
    "help(np.exp)   # docstrings"
   ]
  },
  {
   "cell_type": "markdown",
   "id": "25750862-8e8f-4a16-944a-d6112a3602b1",
   "metadata": {},
   "source": [
    "### 노트북 도움말 `?` 이용"
   ]
  },
  {
   "cell_type": "code",
   "execution_count": 1,
   "id": "9642506b-e53a-4872-aa56-da980a9111a9",
   "metadata": {},
   "outputs": [
    {
     "name": "stdout",
     "output_type": "stream",
     "text": [
      "Object `add` not found.\n"
     ]
    }
   ],
   "source": [
    "add?"
   ]
  },
  {
   "cell_type": "code",
   "execution_count": null,
   "id": "1d02528e-c90f-4825-94b0-1c97bc074f18",
   "metadata": {},
   "outputs": [],
   "source": [
    "add??"
   ]
  },
  {
   "cell_type": "markdown",
   "id": "242e8619-9e49-4d7a-af88-34a87e6e182b",
   "metadata": {},
   "source": [
    "### 노트북 도움말 : **Shift + TAB**\n"
   ]
  },
  {
   "cell_type": "code",
   "execution_count": null,
   "id": "6a096922-3704-4827-a8d2-c27a2dd50fff",
   "metadata": {},
   "outputs": [],
   "source": [
    "add    # Shift+tab"
   ]
  }
 ],
 "metadata": {
  "kernelspec": {
   "display_name": "Python 3 (ipykernel)",
   "language": "python",
   "name": "python3"
  },
  "language_info": {
   "codemirror_mode": {
    "name": "ipython",
    "version": 3
   },
   "file_extension": ".py",
   "mimetype": "text/x-python",
   "name": "python",
   "nbconvert_exporter": "python",
   "pygments_lexer": "ipython3",
   "version": "3.9.13"
  }
 },
 "nbformat": 4,
 "nbformat_minor": 5
}
